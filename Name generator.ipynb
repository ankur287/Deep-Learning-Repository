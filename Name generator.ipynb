{
 "cells": [
  {
   "cell_type": "code",
   "execution_count": 1,
   "metadata": {},
   "outputs": [],
   "source": [
    "import torch\n",
    "import matplotlib.pyplot as plt\n",
    "from torch import nn\n",
    "import numpy as np\n",
    "import random"
   ]
  },
  {
   "cell_type": "code",
   "execution_count": 2,
   "metadata": {},
   "outputs": [],
   "source": [
    "EON=\"EON\""
   ]
  },
  {
   "cell_type": "code",
   "execution_count": 3,
   "metadata": {},
   "outputs": [],
   "source": [
    "# Reading datafile\n",
    "\n",
    "with open('babiesLarge.txt') as f:\n",
    "    data = f.read()"
   ]
  },
  {
   "cell_type": "code",
   "execution_count": 4,
   "metadata": {},
   "outputs": [
    {
     "name": "stdout",
     "output_type": "stream",
     "text": [
      "Number of names are: 2000\n",
      "Maximum length of names: 11\n"
     ]
    },
    {
     "data": {
      "text/plain": [
       "(array([  2.,  54., 244., 481., 610., 376., 159.,  62.,  10.,   2.]),\n",
       " array([ 2. ,  2.9,  3.8,  4.7,  5.6,  6.5,  7.4,  8.3,  9.2, 10.1, 11. ]),\n",
       " <a list of 10 Patch objects>)"
      ]
     },
     "execution_count": 4,
     "metadata": {},
     "output_type": "execute_result"
    },
    {
     "data": {
      "image/png": "[encoded data removed]",
      "text/plain": [
       "<matplotlib.figure.Figure at 0x257399484e0>"
      ]
     },
     "metadata": {},
     "output_type": "display_data"
    }
   ],
   "source": [
    "# Getting anmes as list in lowercase\n",
    "\n",
    "names = data.split(\"\\n\")[:-1]\n",
    "names = [x.lower() for x in names]\n",
    "name_len = [len(x) for x in names]\n",
    "max_name_len = max(name_len)\n",
    "print('Number of names are: {}'.format(len(names)))\n",
    "print('Maximum length of names: {}'.format(max_name_len))\n",
    "plt.hist(name_len)"
   ]
  },
  {
   "cell_type": "code",
   "execution_count": 5,
   "metadata": {},
   "outputs": [
    {
     "name": "stdout",
     "output_type": "stream",
     "text": [
      "Number of unique tokens: 27\n"
     ]
    }
   ],
   "source": [
    "unique_tokens = []\n",
    "for x in names:\n",
    "    unique_tokens+=list(x)\n",
    "unique_tokens = list(set(unique_tokens))\n",
    "unique_tokens.append(EON)\n",
    "len_unique_tokens = len(unique_tokens)\n",
    "print(\"Number of unique tokens: {}\".format(len_unique_tokens))"
   ]
  },
  {
   "cell_type": "code",
   "execution_count": 6,
   "metadata": {},
   "outputs": [],
   "source": [
    "token_to_idx = {}\n",
    "idx_to_token = {}\n",
    "for x,y in enumerate(unique_tokens):\n",
    "    token_to_idx[y]=x\n",
    "    idx_to_token[x]=y"
   ]
  },
  {
   "cell_type": "code",
   "execution_count": 7,
   "metadata": {},
   "outputs": [],
   "source": [
    "def input_tensor(name,max_name_len,len_unique_tokens,token_to_idx):\n",
    "    if len(name)==11:\n",
    "        name_len = 10\n",
    "    else: name_len=len(name)\n",
    "    vector = torch.zeros(1,max_name_len-1,len_unique_tokens)\n",
    "    for x in range(name_len):\n",
    "        character = name[x]\n",
    "        vector[0,x,token_to_idx[character]]=1\n",
    "    for x in range(name_len,max_name_len-1):\n",
    "        character='EON'\n",
    "        vector[0,x,token_to_idx[character]]=1\n",
    "    return vector\n",
    "\n",
    "def output_tensor(name,max_name_len,token_to_idx):\n",
    "    vector = [token_to_idx[x] for x in name[1:]]\n",
    "    vector+=[token_to_idx['EON']]*(max_name_len-len(name))\n",
    "    #print([vector])\n",
    "    return torch.LongTensor([vector])"
   ]
  },
  {
   "cell_type": "code",
   "execution_count": 8,
   "metadata": {},
   "outputs": [
    {
     "name": "stdout",
     "output_type": "stream",
     "text": [
      "Input shape is : torch.Size([2000, 10, 27])\n",
      "Output shape is : torch.Size([2000, 10])\n"
     ]
    }
   ],
   "source": [
    "input_names = torch.tensor([])\n",
    "out_names = torch.LongTensor([])\n",
    "for x in names:\n",
    "    input_names = torch.cat((input_names,input_tensor(x,max_name_len,len_unique_tokens,token_to_idx)),0)\n",
    "    out_names = torch.cat((out_names,output_tensor(x,max_name_len,token_to_idx)),0)\n",
    "print(\"Input shape is : {}\".format(input_names.size()))\n",
    "print(\"Output shape is : {}\".format(out_names.size()))"
   ]
  },
  {
   "cell_type": "code",
   "execution_count": 9,
   "metadata": {},
   "outputs": [],
   "source": [
    "class RNNModel(nn.Module):\n",
    "    \n",
    "    def __init__(self, device, input_size, output_size, hidden_dim, n_layers):\n",
    "        super(RNNModel, self).__init__()\n",
    "        self.hidden_dim = hidden_dim\n",
    "        self.n_layers = n_layers\n",
    "        self.rnn = nn.RNN(input_size, hidden_dim, n_layers, batch_first=True)   \n",
    "        self.fc = nn.Linear(hidden_dim, output_size)\n",
    "        self.device = device\n",
    "    def forward(self, x):\n",
    "        \n",
    "        batch_size = x.size(0)\n",
    "\n",
    "        # Initializing hidden state for first input using method defined below\n",
    "        hidden = self.init_hidden(batch_size)\n",
    "\n",
    "        # Passing in the input and hidden state into the model and obtaining outputs\n",
    "        out, hidden = self.rnn(x, hidden)\n",
    "        \n",
    "        # Reshaping the outputs such that it can be fit into the fully connected layer\n",
    "        out = out.contiguous().view(-1, self.hidden_dim)\n",
    "        out = self.fc(out)\n",
    "        \n",
    "        return out, hidden\n",
    "    \n",
    "    def init_hidden(self, batch_size):\n",
    "        hidden = torch.zeros(self.n_layers, batch_size, self.hidden_dim).to(self.device)\n",
    "        return hidden"
   ]
  },
  {
   "cell_type": "code",
   "execution_count": 10,
   "metadata": {},
   "outputs": [
    {
     "name": "stdout",
     "output_type": "stream",
     "text": [
      "GPU is available\n"
     ]
    }
   ],
   "source": [
    "is_cuda = torch.cuda.is_available()\n",
    "\n",
    "# If we have a GPU available, we'll set our device to GPU. We'll use this device variable later in our code.\n",
    "if is_cuda:\n",
    "    device = torch.device(\"cuda\")\n",
    "    print(\"GPU is available\")\n",
    "else:\n",
    "    device = torch.device(\"cpu\")\n",
    "    print(\"GPU not available, CPU used\")"
   ]
  },
  {
   "cell_type": "code",
   "execution_count": 11,
   "metadata": {},
   "outputs": [],
   "source": [
    "model = RNNModel(device=device, input_size=len_unique_tokens, output_size=len_unique_tokens,  hidden_dim=50, n_layers=5)\n",
    "# We'll also set the model to the device that we defined earlier (default is CPU)\n",
    "model = model.to(device)\n",
    "\n",
    "# Define hyperparameters\n",
    "n_epochs = 1000\n",
    "lr=0.01\n",
    "\n",
    "# Define Loss, Optimizer\n",
    "criterion = nn.CrossEntropyLoss()\n",
    "optimizer = torch.optim.Adam(model.parameters(), lr=lr)\n",
    "\n",
    "if(torch.cuda.is_available()):\n",
    "    model.cuda()\n",
    "    input_names = input_names.cuda() \n",
    "    out_names = out_names.cuda()"
   ]
  },
  {
   "cell_type": "code",
   "execution_count": 12,
   "metadata": {},
   "outputs": [
    {
     "data": {
      "text/plain": [
       "torch.Size([2000, 10, 27])"
      ]
     },
     "execution_count": 12,
     "metadata": {},
     "output_type": "execute_result"
    }
   ],
   "source": [
    "input_names.size()"
   ]
  },
  {
   "cell_type": "code",
   "execution_count": 13,
   "metadata": {
    "scrolled": true
   },
   "outputs": [
    {
     "name": "stdout",
     "output_type": "stream",
     "text": [
      "Epoch: 100/1000............. Loss: 1.4513\n",
      "Epoch: 200/1000............. Loss: 1.2068\n",
      "Epoch: 300/1000............. Loss: 1.0535\n",
      "Epoch: 400/1000............. Loss: 0.8625\n",
      "Epoch: 500/1000............. Loss: 0.7221\n",
      "Epoch: 600/1000............. Loss: 0.6362\n",
      "Epoch: 700/1000............. Loss: 0.5894\n",
      "Epoch: 800/1000............. Loss: 0.5849\n",
      "Epoch: 900/1000............. Loss: 0.5332\n",
      "Epoch: 1000/1000............. Loss: 0.5153\n"
     ]
    }
   ],
   "source": [
    "# Training Run\n",
    "loss_list = []\n",
    "iteration_list = []\n",
    "input_names = input_names.to(device)\n",
    "count=0\n",
    "for epoch in range(1, n_epochs + 1):\n",
    "    count+=1\n",
    "    optimizer.zero_grad() # Clears existing gradients from previous epoch\n",
    "    #input_seq = input_seq.to(device)\n",
    "    output, hidden = model(input_names)\n",
    "    output = output.to(device)\n",
    "    out_names = out_names.to(device)\n",
    "    loss = criterion(output, out_names.view(-1).long())\n",
    "    loss_list.append(loss.data)\n",
    "    iteration_list.append(count)\n",
    "    loss.backward() # Does backpropagation and calculates gradients\n",
    "    optimizer.step() # Updates the weights accordingly\n",
    "    \n",
    "    if epoch%100 == 0:\n",
    "        print('Epoch: {}/{}.............'.format(epoch, n_epochs), end=' ')\n",
    "        print(\"Loss: {:.4f}\".format(loss.item()))"
   ]
  },
  {
   "cell_type": "code",
   "execution_count": 14,
   "metadata": {},
   "outputs": [
    {
     "data": {
      "image/png": "[encoded data removed]",
      "text/plain": [
       "<matplotlib.figure.Figure at 0x2573992d320>"
      ]
     },
     "metadata": {},
     "output_type": "display_data"
    }
   ],
   "source": [
    "# visualization loss \n",
    "plt.plot(iteration_list,loss_list)\n",
    "plt.xlabel(\"Number of iteration\")\n",
    "plt.ylabel(\"Loss\")\n",
    "plt.title(\"RNN: Loss vs Number of iteration\")\n",
    "plt.show()"
   ]
  },
  {
   "cell_type": "code",
   "execution_count": 164,
   "metadata": {},
   "outputs": [],
   "source": [
    "def predict(model, name):\n",
    "    # One-hot encoding our input to fit into the model\n",
    "    vector = torch.zeros(1,len(name),len_unique_tokens)\n",
    "    for x in range(len(name)):\n",
    "        character = name[x]\n",
    "        vector[0,x,token_to_idx[character]]=1\n",
    "    vector = vector.to(device)\n",
    "    \n",
    "    out, hidden = model(vector)\n",
    "\n",
    "    prob = nn.functional.softmax(out[-1], dim=0).data\n",
    "    # Taking the class with the highest probability score from the output\n",
    "    #char_ind = torch.max(prob, dim=0)[1].item()\n",
    "    \n",
    "    # Taking the class with the 3 highest probability score from the output\n",
    "    prob = torch.topk(prob,3)[1].tolist()\n",
    "    \n",
    "    if random.random()<0.45:\n",
    "        char_ind = prob[0]\n",
    "    elif random.random()>=0.45 and random.random()>=0.80:\n",
    "        char_ind = prob[1]\n",
    "    else:\n",
    "        char_ind = prob[2]\n",
    "\n",
    "    return idx_to_token[char_ind], hidden"
   ]
  },
  {
   "cell_type": "code",
   "execution_count": 165,
   "metadata": {},
   "outputs": [],
   "source": [
    "def sample(model, out_len, start):\n",
    "    model.eval() # eval mode\n",
    "    start = start.lower()\n",
    "    # Now pass in the previous characters and get a new one\n",
    "    for ii in range(out_len):\n",
    "        char, h = predict(model, start)\n",
    "        if char=='EON':\n",
    "            break\n",
    "        else:\n",
    "            start+=char\n",
    "    return start"
   ]
  },
  {
   "cell_type": "code",
   "execution_count": 168,
   "metadata": {},
   "outputs": [
    {
     "name": "stdout",
     "output_type": "stream",
     "text": [
      "armuly\n",
      "ariye\n",
      "alaia\n",
      "armahla\n",
      "alex\n",
      "aryeser\n",
      "arian\n",
      "ariyemo\n",
      "alaiza\n",
      "alayahsamire\n",
      "alanima\n",
      "aryes\n",
      "alani\n",
      "arielc\n",
      "aria\n",
      "alejardr\n",
      "aria\n",
      "ariah\n",
      "armahlahi\n",
      "ariyam\n"
     ]
    }
   ],
   "source": [
    "for x in range(20):\n",
    "    print(sample(model, max_name_len, 'a'))"
   ]
  },
  {
   "cell_type": "code",
   "execution_count": null,
   "metadata": {},
   "outputs": [],
   "source": []
  }
 ],
 "metadata": {
  "kernelspec": {
   "display_name": "Python 3",
   "language": "python",
   "name": "python3"
  },
  "language_info": {
   "codemirror_mode": {
    "name": "ipython",
    "version": 3
   },
   "file_extension": ".py",
   "mimetype": "text/x-python",
   "name": "python",
   "nbconvert_exporter": "python",
   "pygments_lexer": "ipython3",
   "version": "3.6.4"
  }
 },
 "nbformat": 4,
 "nbformat_minor": 2
}
