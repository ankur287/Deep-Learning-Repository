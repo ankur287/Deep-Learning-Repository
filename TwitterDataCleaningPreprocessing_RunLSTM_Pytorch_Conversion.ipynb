{
 "cells": [
  {
   "cell_type": "markdown",
   "metadata": {
    "id": "ravYvzMvFHX9"
   },
   "source": [
    "# Working with Twitter data"
   ]
  },
  {
   "cell_type": "markdown",
   "metadata": {
    "id": "6CkKM1JrFHX-"
   },
   "source": [
    "In this lecture, you will learn how to preprocess actual twitter data and create word embeddings from a pre-trained source. "
   ]
  },
  {
   "cell_type": "markdown",
   "metadata": {
    "id": "tzsZcE-BFHX_"
   },
   "source": [
    "## Import the necessary modules"
   ]
  },
  {
   "cell_type": "code",
   "execution_count": 1,
   "metadata": {
    "id": "Q7enRWCgFHX_"
   },
   "outputs": [],
   "source": [
    "#we will now use pytorch instead of keras, since tensorflow no longer works with latest version of Python"
   ]
  },
  {
   "cell_type": "code",
   "execution_count": 1,
   "metadata": {},
   "outputs": [],
   "source": [
    "import warnings\n",
    "warnings.filterwarnings('ignore')"
   ]
  },
  {
   "cell_type": "code",
   "execution_count": 2,
   "metadata": {
    "id": "Y-zKqCPhFHX_"
   },
   "outputs": [],
   "source": [
    "import numpy as np\n",
    "np.random.seed(0)\n",
    "SEED = 0\n",
    "import pandas as pd\n",
    "import numpy as np\n",
    "import torch #pytorch\n",
    "import torch.nn as nn\n",
    "torch.manual_seed(SEED)\n",
    "torch.cuda.manual_seed(SEED)"
   ]
  },
  {
   "cell_type": "code",
   "execution_count": 3,
   "metadata": {
    "id": "x84uCq5CFHX_"
   },
   "outputs": [],
   "source": [
    "import torch #pytorch\n",
    "import torch.nn as nn"
   ]
  },
  {
   "cell_type": "markdown",
   "metadata": {
    "id": "h8xFSHrnFHYA"
   },
   "source": [
    "## Do some initial cleaning using the twitter preprocessing Python package\n"
   ]
  },
  {
   "cell_type": "code",
   "execution_count": 5,
   "metadata": {
    "colab": {
     "base_uri": "https://localhost:8080/"
    },
    "id": "GzrlvPqwFHYA",
    "outputId": "7a757b91-fdba-497d-85e7-f8b10559bbda"
   },
   "outputs": [
    {
     "name": "stdout",
     "output_type": "stream",
     "text": [
      "C:\\Users\\Max\\Documents\\TwitterDataModeling\\TwitterData\n"
     ]
    },
    {
     "data": {
      "text/plain": [
       "442"
      ]
     },
     "execution_count": 5,
     "metadata": {},
     "output_type": "execute_result"
    }
   ],
   "source": [
    "#step 1: bring in the cleaned up twitter data: used preprocessing python package to clean up the initial twitter data\n",
    "%cd C:\\Users\\Max\\Documents\\TwitterDataModeling\\TwitterData\n",
    "import pandas as pd\n",
    "twitter_labeled=pd.read_csv(\"US_AMEX_Tweets_recent2_MV_labels2_05012020_05042020_v2.csv\", encoding=\"utf-8-sig\")\n",
    "#need to save as utf-8 .csv file from excel or other source\n",
    "twitter_labeled2=twitter_labeled.drop_duplicates()\n",
    "dups=pd.DataFrame(twitter_labeled2['text'].value_counts()).rename(columns={'text':'count'})\n",
    "twitter_labeled3=pd.merge(twitter_labeled2, dups, left_on='text', right_index=True, how=\"inner\")\n",
    "twitter_labeled4=twitter_labeled3.drop(axis=1, index=[226, 760, 235, 757, 247, 759, 535, 330, 680, 780])\n",
    "twitter_labeled4.drop('count', axis=1, inplace=True)\n",
    "len(twitter_labeled4) #we have 442 unique tweets"
   ]
  },
  {
   "cell_type": "code",
   "execution_count": 6,
   "metadata": {
    "colab": {
     "base_uri": "https://localhost:8080/"
    },
    "id": "f0aZ6CBOFHYA",
    "outputId": "76a6b3d2-7475-41dc-ba29-dc491d88967f"
   },
   "outputs": [
    {
     "data": {
      "text/plain": [
       "Index(['text', 'Label'], dtype='object')"
      ]
     },
     "execution_count": 6,
     "metadata": {},
     "output_type": "execute_result"
    }
   ],
   "source": [
    "twitter_labeled4.columns"
   ]
  },
  {
   "cell_type": "markdown",
   "metadata": {
    "id": "gAyqb7RvFHYB"
   },
   "source": [
    "## Since the goal here is to capture negative sentiment, let us convert into 2 classes only: 'negative' and 'non-negative'"
   ]
  },
  {
   "cell_type": "code",
   "execution_count": 7,
   "metadata": {
    "colab": {
     "base_uri": "https://localhost:8080/"
    },
    "id": "Zu3QwmBpFHYB",
    "outputId": "51c208a4-4eb8-4739-ff78-23fe8d6ead34"
   },
   "outputs": [
    {
     "data": {
      "text/plain": [
       "(300, 142, 300, 142, 442, 442)"
      ]
     },
     "execution_count": 7,
     "metadata": {},
     "output_type": "execute_result"
    }
   ],
   "source": [
    "#step 2: only consider 2 classes, negative and non negative, since we want to capture the negatuve sentiment: create\n",
    "#training and test sets\n",
    "twitter_labeled4.loc[:, 'Label_comb']=twitter_labeled4['Label'].map(lambda x: 0 if x==-1 else 1)\n",
    "twitter_labeled4['Label_comb'].value_counts()\n",
    "neg_tweets=twitter_labeled4[twitter_labeled4['Label_comb']==0]\n",
    "non_neg_tweets=twitter_labeled4[twitter_labeled4['Label_comb']==1]\n",
    "X_train=np.array([x for x in non_neg_tweets['text'][:150]]+[x for x in neg_tweets['text'][:150]])\n",
    "Y_train=np.array([x for x in non_neg_tweets['Label_comb'][:150]]+[x for x in neg_tweets['Label_comb'][:150]])\n",
    "X_test=np.array([x for x in non_neg_tweets['text'][150:]]+[x for x in neg_tweets['text'][150:]])\n",
    "Y_test=np.array([x for x in non_neg_tweets['Label_comb'][150:]]+[x for x in neg_tweets['Label_comb'][150:]])\n",
    "X_train_test=np.array([x for x in X_train]+[x for x in X_test])\n",
    "y_train_test=np.array([x for x in Y_train]+[x for x in Y_test])\n",
    "len(X_train), len(X_test), len(Y_train), len(Y_test), len(X_train_test), len(y_train_test)"
   ]
  },
  {
   "cell_type": "markdown",
   "metadata": {
    "id": "UsOCPsVFFHYB"
   },
   "source": [
    "## Import pre-trained glove word embeddings"
   ]
  },
  {
   "cell_type": "code",
   "execution_count": 8,
   "metadata": {
    "id": "Sij3eKMfFHYB"
   },
   "outputs": [],
   "source": [
    "#step 3: bring in word embedding pre-trained vectors: \n",
    "import numpy as np\n",
    "glove_twitter_file='glove.twitter.27B.50d.txt'\n",
    "def read_glove_vecs(glove_file):\n",
    "    with open(glove_file, 'r', encoding='utf-8-sig') as f:\n",
    "        words = set()\n",
    "        word_to_vec_map = {}\n",
    "        for line in f:\n",
    "            line = line.strip().split()#removes leading and trailing spaces\n",
    "            curr_word = line[0]\n",
    "            words.add(curr_word)\n",
    "            word_to_vec_map[curr_word] = np.array(line[1:], dtype=np.float64)\n",
    "        \n",
    "        i = 1\n",
    "        words_to_index = {}\n",
    "        index_to_words = {}\n",
    "        for w in sorted(words):\n",
    "            words_to_index[w] = i\n",
    "            index_to_words[i] = w\n",
    "            i = i + 1\n",
    "    return words_to_index, index_to_words, word_to_vec_map\n",
    "words_to_index, index_to_words, word_to_vec_map=read_glove_vecs(glove_twitter_file)\n",
    "wordsintwitterglove=[]\n",
    "for value in index_to_words.values(): \n",
    "    wordsintwitterglove.append(value)\n",
    "#almost 2MM words\n"
   ]
  },
  {
   "cell_type": "code",
   "execution_count": 9,
   "metadata": {
    "colab": {
     "base_uri": "https://localhost:8080/"
    },
    "id": "Ng_LTe78FHYB",
    "outputId": "0d17b15b-a52b-454e-c325-774f2e4d8433"
   },
   "outputs": [
    {
     "data": {
      "text/plain": [
       "1193514"
      ]
     },
     "execution_count": 9,
     "metadata": {},
     "output_type": "execute_result"
    }
   ],
   "source": [
    "len(wordsintwitterglove)"
   ]
  },
  {
   "cell_type": "code",
   "execution_count": 10,
   "metadata": {
    "colab": {
     "base_uri": "https://localhost:8080/"
    },
    "id": "TTFKeNgdFHYC",
    "outputId": "35297564-273e-42bf-b3c2-a4a609778cdd"
   },
   "outputs": [
    {
     "name": "stdout",
     "output_type": "stream",
     "text": [
      "The word 'cards' in the embedding space is: \n",
      "[ 0.49513   0.0292   -0.41095   0.2833    0.94241  -0.37731   0.84692\n",
      " -0.51128   0.45714  -0.58924   0.94307   0.90303  -3.4979    0.29424\n",
      " -0.26355   0.42858  -0.38724  -0.47719   0.044124  0.49529  -1.1181\n",
      " -0.48781   0.60082  -0.64361  -0.71212   0.36798  -0.059819 -0.58809\n",
      "  0.67646  -0.75717   0.4728   -0.23525  -0.29401  -0.13993   0.69861\n",
      " -0.29542  -0.013882  0.065944 -0.38697   0.23558   0.50186   0.09126\n",
      "  0.4026   -0.39129   0.73219  -0.52371  -0.048465 -1.2898   -0.022145\n",
      "  0.42831 ]\n"
     ]
    }
   ],
   "source": [
    "print(\"The word 'cards' in the embedding space is: \")\n",
    "print(word_to_vec_map['cards'])"
   ]
  },
  {
   "cell_type": "code",
   "execution_count": 11,
   "metadata": {
    "colab": {
     "base_uri": "https://localhost:8080/"
    },
    "id": "NadczL9LFHYC",
    "outputId": "96eeff49-6df1-4b7b-81a3-33860fff248d"
   },
   "outputs": [
    {
     "data": {
      "text/plain": [
       "50"
      ]
     },
     "execution_count": 11,
     "metadata": {},
     "output_type": "execute_result"
    }
   ],
   "source": [
    "len(word_to_vec_map['cards'])"
   ]
  },
  {
   "cell_type": "code",
   "execution_count": 12,
   "metadata": {
    "id": "doHVL4YPFHYC"
   },
   "outputs": [],
   "source": [
    "#each embedding is a vector of length 50"
   ]
  },
  {
   "cell_type": "markdown",
   "metadata": {
    "id": "kjiaAGA9FHYC"
   },
   "source": [
    "## Typical steps to clean the data for sentiment analysis: \n",
    "* Remove hash tags and other distracting symbols\n",
    "* Remove numbers\n",
    "* Convert to lower case\n",
    "* Remove unnecessary punctuation\n",
    "* Remove stop words: unnecessary/generic words\n",
    "* Stem sentences: only retain the main roots\n",
    "* Tokenize sentences: create a list of words from the final cleaned string above"
   ]
  },
  {
   "cell_type": "code",
   "execution_count": 12,
   "metadata": {
    "id": "24M1Gu2uFHYC"
   },
   "outputs": [],
   "source": [
    "import nltk"
   ]
  },
  {
   "cell_type": "code",
   "execution_count": 13,
   "metadata": {
    "id": "HxQRK89zFHYC"
   },
   "outputs": [],
   "source": [
    "from nltk.corpus import stopwords\n",
    "from nltk.stem import PorterStemmer\n",
    "from nltk.tokenize import TweetTokenizer"
   ]
  },
  {
   "cell_type": "code",
   "execution_count": 14,
   "metadata": {
    "colab": {
     "base_uri": "https://localhost:8080/"
    },
    "id": "j-3zs_uyFHYC",
    "outputId": "1f913311-605d-4232-c637-0397bfb11771"
   },
   "outputs": [
    {
     "data": {
      "text/plain": [
       "nltk.corpus.util.LazyCorpusLoader"
      ]
     },
     "execution_count": 14,
     "metadata": {},
     "output_type": "execute_result"
    }
   ],
   "source": [
    "type(stopwords)"
   ]
  },
  {
   "cell_type": "code",
   "execution_count": 15,
   "metadata": {
    "colab": {
     "base_uri": "https://localhost:8080/"
    },
    "id": "vNdPL0PxFHYC",
    "outputId": "c1f262c9-9670-4cda-f38b-745d8969be9b"
   },
   "outputs": [
    {
     "name": "stderr",
     "output_type": "stream",
     "text": [
      "[nltk_data] Downloading package stopwords to\n",
      "[nltk_data]     C:\\Users\\Max\\AppData\\Roaming\\nltk_data...\n",
      "[nltk_data]   Package stopwords is already up-to-date!\n"
     ]
    },
    {
     "data": {
      "text/plain": [
       "True"
      ]
     },
     "execution_count": 15,
     "metadata": {},
     "output_type": "execute_result"
    }
   ],
   "source": [
    "nltk.download('stopwords')"
   ]
  },
  {
   "cell_type": "code",
   "execution_count": 16,
   "metadata": {
    "colab": {
     "base_uri": "https://localhost:8080/"
    },
    "id": "aXh9zu3yFHYD",
    "outputId": "3641e1e7-4ccb-4349-d58b-25ce2a075ef7"
   },
   "outputs": [
    {
     "data": {
      "text/plain": [
       "{'a',\n",
       " 'about',\n",
       " 'above',\n",
       " 'after',\n",
       " 'again',\n",
       " 'against',\n",
       " 'ain',\n",
       " 'all',\n",
       " 'am',\n",
       " 'an',\n",
       " 'and',\n",
       " 'any',\n",
       " 'are',\n",
       " 'aren',\n",
       " \"aren't\",\n",
       " 'as',\n",
       " 'at',\n",
       " 'be',\n",
       " 'because',\n",
       " 'been',\n",
       " 'before',\n",
       " 'being',\n",
       " 'below',\n",
       " 'between',\n",
       " 'both',\n",
       " 'but',\n",
       " 'by',\n",
       " 'can',\n",
       " 'couldn',\n",
       " \"couldn't\",\n",
       " 'd',\n",
       " 'did',\n",
       " 'didn',\n",
       " \"didn't\",\n",
       " 'do',\n",
       " 'does',\n",
       " 'doesn',\n",
       " \"doesn't\",\n",
       " 'doing',\n",
       " 'don',\n",
       " \"don't\",\n",
       " 'down',\n",
       " 'during',\n",
       " 'each',\n",
       " 'few',\n",
       " 'for',\n",
       " 'from',\n",
       " 'further',\n",
       " 'had',\n",
       " 'hadn',\n",
       " \"hadn't\",\n",
       " 'has',\n",
       " 'hasn',\n",
       " \"hasn't\",\n",
       " 'have',\n",
       " 'haven',\n",
       " \"haven't\",\n",
       " 'having',\n",
       " 'he',\n",
       " 'her',\n",
       " 'here',\n",
       " 'hers',\n",
       " 'herself',\n",
       " 'him',\n",
       " 'himself',\n",
       " 'his',\n",
       " 'how',\n",
       " 'i',\n",
       " 'if',\n",
       " 'in',\n",
       " 'into',\n",
       " 'is',\n",
       " 'isn',\n",
       " \"isn't\",\n",
       " 'it',\n",
       " \"it's\",\n",
       " 'its',\n",
       " 'itself',\n",
       " 'just',\n",
       " 'll',\n",
       " 'm',\n",
       " 'ma',\n",
       " 'me',\n",
       " 'mightn',\n",
       " \"mightn't\",\n",
       " 'more',\n",
       " 'most',\n",
       " 'mustn',\n",
       " \"mustn't\",\n",
       " 'my',\n",
       " 'myself',\n",
       " 'needn',\n",
       " \"needn't\",\n",
       " 'no',\n",
       " 'nor',\n",
       " 'not',\n",
       " 'now',\n",
       " 'o',\n",
       " 'of',\n",
       " 'off',\n",
       " 'on',\n",
       " 'once',\n",
       " 'only',\n",
       " 'or',\n",
       " 'other',\n",
       " 'our',\n",
       " 'ours',\n",
       " 'ourselves',\n",
       " 'out',\n",
       " 'over',\n",
       " 'own',\n",
       " 're',\n",
       " 's',\n",
       " 'same',\n",
       " 'shan',\n",
       " \"shan't\",\n",
       " 'she',\n",
       " \"she's\",\n",
       " 'should',\n",
       " \"should've\",\n",
       " 'shouldn',\n",
       " \"shouldn't\",\n",
       " 'so',\n",
       " 'some',\n",
       " 'such',\n",
       " 't',\n",
       " 'than',\n",
       " 'that',\n",
       " \"that'll\",\n",
       " 'the',\n",
       " 'their',\n",
       " 'theirs',\n",
       " 'them',\n",
       " 'themselves',\n",
       " 'then',\n",
       " 'there',\n",
       " 'these',\n",
       " 'they',\n",
       " 'this',\n",
       " 'those',\n",
       " 'through',\n",
       " 'to',\n",
       " 'too',\n",
       " 'under',\n",
       " 'until',\n",
       " 'up',\n",
       " 've',\n",
       " 'very',\n",
       " 'was',\n",
       " 'wasn',\n",
       " \"wasn't\",\n",
       " 'we',\n",
       " 'were',\n",
       " 'weren',\n",
       " \"weren't\",\n",
       " 'what',\n",
       " 'when',\n",
       " 'where',\n",
       " 'which',\n",
       " 'while',\n",
       " 'who',\n",
       " 'whom',\n",
       " 'why',\n",
       " 'will',\n",
       " 'with',\n",
       " 'won',\n",
       " \"won't\",\n",
       " 'wouldn',\n",
       " \"wouldn't\",\n",
       " 'y',\n",
       " 'you',\n",
       " \"you'd\",\n",
       " \"you'll\",\n",
       " \"you're\",\n",
       " \"you've\",\n",
       " 'your',\n",
       " 'yours',\n",
       " 'yourself',\n",
       " 'yourselves'}"
      ]
     },
     "execution_count": 16,
     "metadata": {},
     "output_type": "execute_result"
    }
   ],
   "source": [
    "stop_words = set(stopwords.words('english'))\n",
    "stop_words"
   ]
  },
  {
   "cell_type": "code",
   "execution_count": 17,
   "metadata": {
    "colab": {
     "base_uri": "https://localhost:8080/"
    },
    "id": "r_2MfoD5FHYD",
    "outputId": "89577cfc-fd73-4983-88a5-aff2239f3a81"
   },
   "outputs": [
    {
     "data": {
      "text/plain": [
       "['why',\n",
       " 'am',\n",
       " 'i',\n",
       " 'this',\n",
       " 'o',\n",
       " 'herself',\n",
       " 'ourselves',\n",
       " 'to',\n",
       " 'just',\n",
       " 'by',\n",
       " 'with',\n",
       " 'than',\n",
       " 'if',\n",
       " 'should',\n",
       " 'most',\n",
       " 'did',\n",
       " 'his',\n",
       " 'ma',\n",
       " 've',\n",
       " 'me',\n",
       " 'in',\n",
       " 'out',\n",
       " 'again',\n",
       " 'our',\n",
       " 'are',\n",
       " 'my',\n",
       " 'their',\n",
       " 'few',\n",
       " 'were',\n",
       " 'until',\n",
       " 'has',\n",
       " 'here',\n",
       " 'it',\n",
       " 'because',\n",
       " 'had',\n",
       " 'some',\n",
       " 'such',\n",
       " \"you'd\",\n",
       " 'who',\n",
       " 'having',\n",
       " 'from',\n",
       " 'up',\n",
       " 'about',\n",
       " 'too',\n",
       " 'does',\n",
       " 'into',\n",
       " 'the',\n",
       " 'there',\n",
       " 'for',\n",
       " 'these',\n",
       " 'them',\n",
       " 'shan',\n",
       " 'be',\n",
       " 'or',\n",
       " 'an',\n",
       " 'aren',\n",
       " 'll',\n",
       " 'as',\n",
       " \"shan't\",\n",
       " 'her',\n",
       " 'that',\n",
       " 'any',\n",
       " 'd',\n",
       " 'its',\n",
       " 'very',\n",
       " 'will',\n",
       " 'when',\n",
       " 'own',\n",
       " \"it's\",\n",
       " 'itself',\n",
       " 'before',\n",
       " 'she',\n",
       " 'of',\n",
       " 'above',\n",
       " 'while',\n",
       " 're',\n",
       " 'you',\n",
       " 'shouldn',\n",
       " 'a',\n",
       " 'is',\n",
       " 'same',\n",
       " \"needn't\",\n",
       " 'we',\n",
       " \"she's\",\n",
       " 'him',\n",
       " 'mightn',\n",
       " 'only',\n",
       " 'where',\n",
       " 'which',\n",
       " 'on',\n",
       " 'do',\n",
       " 'against',\n",
       " 'ain',\n",
       " 'once',\n",
       " 'himself',\n",
       " 'y',\n",
       " \"you've\",\n",
       " 'down',\n",
       " 'yourself',\n",
       " 'yourselves',\n",
       " 'themselves',\n",
       " 'yours',\n",
       " 'other',\n",
       " 'over',\n",
       " 'they',\n",
       " 'how',\n",
       " \"mustn't\",\n",
       " 'needn',\n",
       " 'all',\n",
       " 'can',\n",
       " 'hers',\n",
       " 'doing',\n",
       " 'off',\n",
       " 'below',\n",
       " 'those',\n",
       " 'what',\n",
       " 'ours',\n",
       " 'theirs',\n",
       " \"you'll\",\n",
       " 'being',\n",
       " 'have',\n",
       " 'but',\n",
       " \"you're\",\n",
       " 'now',\n",
       " 'each',\n",
       " 'under',\n",
       " 'was',\n",
       " 'your',\n",
       " 'during',\n",
       " 'more',\n",
       " 'between',\n",
       " 'and',\n",
       " 'so',\n",
       " 't',\n",
       " 'then',\n",
       " 'mustn',\n",
       " 'through',\n",
       " 'he',\n",
       " 'at',\n",
       " 'whom',\n",
       " \"that'll\",\n",
       " \"should've\",\n",
       " 's',\n",
       " 'been',\n",
       " 'both',\n",
       " 'myself',\n",
       " 'after',\n",
       " \"mightn't\",\n",
       " 'm',\n",
       " 'further']"
      ]
     },
     "execution_count": 17,
     "metadata": {},
     "output_type": "execute_result"
    }
   ],
   "source": [
    "wordstoremove = ['no', 'nor', 'not','don', \"don't\",\"aren't\", 'couldn', \"couldn't\", 'didn', \"didn't\", 'doesn', \"doesn't\", 'hadn', \"hadn't\", 'hasn', \"hasn't\", 'haven', \"haven't\", 'isn', \"isn't\", \"shouldn't\", 'wasn', \"wasn't\", 'weren', \"weren't\", 'won', \"won't\", 'wouldn', \"wouldn't\" ]\n",
    "stopwords_english = [x for x in stop_words if x not in wordstoremove]\n",
    "stopwords_english\n",
    " "
   ]
  },
  {
   "cell_type": "code",
   "execution_count": 18,
   "metadata": {
    "colab": {
     "base_uri": "https://localhost:8080/"
    },
    "id": "5RgUmrE3Cm-3",
    "outputId": "fc2ce731-0c41-45fd-8c98-404ba6883bb1"
   },
   "outputs": [
    {
     "name": "stdout",
     "output_type": "stream",
     "text": [
      "Requirement already satisfied: num2words in c:\\users\\max\\anaconda3\\lib\\site-packages (0.5.10)\n",
      "Requirement already satisfied: docopt>=0.6.2 in c:\\users\\max\\anaconda3\\lib\\site-packages (from num2words) (0.6.2)\n"
     ]
    }
   ],
   "source": [
    "!pip3 install num2words"
   ]
  },
  {
   "cell_type": "code",
   "execution_count": 19,
   "metadata": {
    "colab": {
     "base_uri": "https://localhost:8080/"
    },
    "id": "ofl6Gj61FHYD",
    "outputId": "f80b5f6e-e6a8-4626-c054-5581e641c9ed"
   },
   "outputs": [
    {
     "name": "stdout",
     "output_type": "stream",
     "text": [
      "I used five  to work for American Express and spent some time in NY. It was on her bucket list to visit, so I took her there a year and a half ago. We love living around no one, but NYC is a fun place to visit! Well probably not so much at the moment, but we’ll get through this!\n",
      "['i', 'used', 'five', 'to', 'work', 'for', 'american', 'express', 'and', 'spent', 'some', 'time', 'in', 'ny.', 'it', 'was', 'on', 'her', 'bucket', 'list', 'to', 'visit', 'so', 'i', 'took', 'her', 'there', 'a', 'year', 'and', 'a', 'half', 'ago.', 'we', 'love', 'living', 'around', 'no', 'one', 'but', 'nyc', 'is', 'a', 'fun', 'place', 'to', 'visit', 'well', 'probably', 'not', 'so', 'much', 'at', 'the', 'moment', 'but', 'well', 'get', 'through', 'this']\n",
      "Original sentence is: \n",
      " \n",
      "I used five 5 to work for American Express and spent some time in NY. It was on her bucket list to visit, so I took her there a year and a half ago. We love living around no one, but NYC is a fun place to visit! Well probably not so much at the moment, but we’ll get through this!\n",
      " \n",
      "Tokenized sentence is now: \n",
      " \n",
      "['use', 'five', 'work', 'american', 'express', 'spent', 'time', 'ny', 'bucket', 'list', 'visit', 'took', 'year', 'half', 'ago', 'love', 'live', 'around', 'no', 'one', 'nyc', 'fun', 'place', 'visit', 'well', 'probabl', 'not', 'much', 'moment', 'well', 'get']\n"
     ]
    }
   ],
   "source": [
    "#step 4: function to clean this twitter data some more to create words that can be mapped to the embedding matrix: \n",
    "#function to take in a sentence and return a list of words, which are more ready to be vectorized by the embedding matrix: \n",
    "def clean_sentence(sentence): \n",
    "    import re\n",
    "    #import num2word\n",
    "    from num2words import num2words\n",
    "    stemmer = PorterStemmer()\n",
    "    sentence = re.sub(r'\\$w*','', sentence) #remove stock market tickers\n",
    "    sentence = re.sub('\\d+', '', sentence) #remove numbers\n",
    "    sentence = re.sub(r'^RT[\\s]+', '', sentence) #remove old style RT in tweet\n",
    "    sentence = re.sub(r'^https?:\\/\\/.*[\\r\\n]*', '', sentence, flags=re.MULTILINE) #remove hyper links\n",
    "    sentence = re.sub(r'#', '', sentence) #remove hash tags\n",
    "    sentence = re.sub(r'([A-Za-z0-9]+[.-_])*[A-Za-z0-9]+@[A-Za-z0-9-]+(\\.[A-Z|a-z]{2,})+','', sentence) #remove email addresses\n",
    "    \n",
    "    punc_to_remove='’!\"#%&\\'()*+,/:;<=>?@[\\\\]^_`{|}~' #exclude dollar sign and dot as we want to first convert dollar amounts\n",
    "    #and decimals to word numerics, and then we can remove these punctuation signs: \n",
    "    #print(sentence)\n",
    "    words=re.split('\\s+',sentence.lower())\n",
    "    table = str.maketrans('', '', punc_to_remove) #remove punctuation as it could be at the end of the word\n",
    "    words = [w.translate(table) for w in words]\n",
    "    words=[x for x in words if x!='']\n",
    "    sentence=\" \".join(words)\n",
    "    #first replace only the actual numbers with words: \n",
    "    th_pattern='\\d+th'\n",
    "    th_numbers_to_fix=re.findall(th_pattern, sentence) #list of th numbers to convert to numerics\n",
    "    dollar_pattern='\\$\\.?0?\\d+\\.?\\d*'\n",
    "    dollars_to_fix=re.findall(dollar_pattern, sentence)\n",
    "    words=re.split('\\s+',sentence.lower())\n",
    "    #print(words)\n",
    "    remove_numerics=[]\n",
    "    for word in words: \n",
    "        try:\n",
    "            if(word in th_numbers_to_fix):            \n",
    "                remove_numerics.append(num2words(int(float(word.replace('th',''))), to='ordinal'))\n",
    "            elif (word in dollars_to_fix): \n",
    "                number=int(float(word.replace('$','')))\n",
    "                if(number==1): \n",
    "                    remove_numerics.append(num2words(int(float(word.replace('$','')))))\n",
    "                    remove_numerics.append('dollar')\n",
    "                else: \n",
    "                    remove_numerics.append(num2words(int(float(word.replace('$','')))))\n",
    "                    remove_numerics.append('dollars')  \n",
    "            else:\n",
    "                number=int(float(word)) #convert decimal or integer string into an integer\n",
    "                #remove_numerics.append(num2word.word(number))\n",
    "        except: \n",
    "            remove_numerics.append(word)\n",
    "    punc_to_remove='$.' #exclude dollar sign\n",
    "    sentence=\" \".join(remove_numerics)\n",
    "    words=re.split('\\s+',sentence.lower())\n",
    "    table = str.maketrans('', '', punc_to_remove) #remove punctuation as it could be at the end of the word\n",
    "    words = [w.translate(table) for w in words]\n",
    "    words=[x for x in words if x not in ('', '-')]\n",
    "    tweets_clean=[]\n",
    "    for word in words: \n",
    "        if (word not in stopwords_english) and (word not in ('<mailto:>')): \n",
    "            stem_word=stemmer.stem(word)\n",
    "            tweets_clean.append(stem_word)\n",
    "    return tweets_clean\n",
    "sentence=\"I used five 5 to work for American Express and spent some time in NY. It was on her bucket list to visit, so I took her there a year and a half ago. We love living around no one, but NYC is a fun place to visit! Well probably not so much at the moment, but we’ll get through this!\"\n",
    "words=clean_sentence(sentence)\n",
    "print(\"Original sentence is: \")\n",
    "print(\" \")\n",
    "print(sentence)\n",
    "print(\" \")\n",
    "print(\"Tokenized sentence is now: \")\n",
    "print(\" \")\n",
    "print(words)"
   ]
  },
  {
   "cell_type": "code",
   "execution_count": null,
   "metadata": {
    "id": "GYt8rB1dFHYD"
   },
   "outputs": [],
   "source": []
  },
  {
   "cell_type": "code",
   "execution_count": 20,
   "metadata": {
    "colab": {
     "base_uri": "https://localhost:8080/",
     "height": 35
    },
    "id": "g8cn2UmmFHYD",
    "outputId": "c57dcd82-d00f-4cf8-d59a-b8073b7658db"
   },
   "outputs": [
    {
     "data": {
      "text/plain": [
       "'C:\\\\Users\\\\Max\\\\Documents\\\\TwitterDataModeling\\\\TwitterData'"
      ]
     },
     "execution_count": 20,
     "metadata": {},
     "output_type": "execute_result"
    }
   ],
   "source": [
    "%pwd"
   ]
  },
  {
   "cell_type": "markdown",
   "metadata": {
    "id": "EnjkR5bmFHYE"
   },
   "source": [
    "## Now, let us look at our training and test sets: \n"
   ]
  },
  {
   "cell_type": "code",
   "execution_count": 21,
   "metadata": {
    "colab": {
     "base_uri": "https://localhost:8080/"
    },
    "id": "tEzhoyEyFHYE",
    "outputId": "95e91165-73a7-4ee7-c8e8-9fdc169eed0d"
   },
   "outputs": [
    {
     "data": {
      "text/plain": [
       "array(['Question of the Day - Is it worth the effort to get the Hilton Ascend credit card that can be linked to Wyndham Diamond and Caesars Diamond status rewards cards?',\n",
       "       'Today’s Digital Transactions News: T&E Plunge Hammers AmEx; PayFac Volume To Hit $4 Trillion by 2025; Plus Weekly Recap'],\n",
       "      dtype='<U280')"
      ]
     },
     "execution_count": 21,
     "metadata": {},
     "output_type": "execute_result"
    }
   ],
   "source": [
    "X_train[0:2]"
   ]
  },
  {
   "cell_type": "code",
   "execution_count": 22,
   "metadata": {
    "colab": {
     "base_uri": "https://localhost:8080/"
    },
    "id": "t9djGdVzFHYE",
    "outputId": "6a8b8732-9537-47ca-8beb-c3e25447a785"
   },
   "outputs": [
    {
     "data": {
      "text/plain": [
       "array(['rumor has it amex might be planning additional benefits to their platinum card... meanwhile the sapphire took a downfall with their recent updates (imo anyway....the benefits are useless to me making the price increase not worth it)',\n",
       "       '[Targeted] AmEx Offer: , Spend $100+ & Receive $30 Statement Credit + $50 Off $150+'],\n",
       "      dtype='<U279')"
      ]
     },
     "execution_count": 22,
     "metadata": {},
     "output_type": "execute_result"
    }
   ],
   "source": [
    "X_test[0:2]"
   ]
  },
  {
   "cell_type": "code",
   "execution_count": 23,
   "metadata": {
    "colab": {
     "base_uri": "https://localhost:8080/",
     "height": 35
    },
    "id": "y2OpnAsfFHYE",
    "outputId": "512914b3-cf4a-4cb2-c12a-39249e620d84"
   },
   "outputs": [
    {
     "data": {
      "text/plain": [
       "'[Targeted] AmEx Offer: , Spend $100+ & Receive $30 Statement Credit + $50 Off $150+'"
      ]
     },
     "execution_count": 23,
     "metadata": {},
     "output_type": "execute_result"
    }
   ],
   "source": [
    "X_test[1]"
   ]
  },
  {
   "cell_type": "code",
   "execution_count": 24,
   "metadata": {
    "colab": {
     "base_uri": "https://localhost:8080/"
    },
    "id": "_jVSelt_FHYE",
    "outputId": "7588f960-779b-4c80-a676-dec8fa267dbb"
   },
   "outputs": [
    {
     "name": "stdout",
     "output_type": "stream",
     "text": [
      "[Targeted] AmEx Offer: , Spend + & Receive  Statement Credit +  Off +\n",
      "['targeted', 'amex', 'offer', 'spend', 'receive', 'statement', 'credit', 'off']\n"
     ]
    },
    {
     "data": {
      "text/plain": [
       "['target', 'amex', 'offer', 'spend', 'receiv', 'statement', 'credit']"
      ]
     },
     "execution_count": 24,
     "metadata": {},
     "output_type": "execute_result"
    }
   ],
   "source": [
    "cleaned=clean_sentence(X_test[1])\n",
    "cleaned"
   ]
  },
  {
   "cell_type": "markdown",
   "metadata": {
    "id": "TCoMdiisFHYE"
   },
   "source": [
    "### Step 1: find the maximum number of words across all sentences. "
   ]
  },
  {
   "cell_type": "code",
   "execution_count": 25,
   "metadata": {
    "id": "NBgU1QgGFHYE"
   },
   "outputs": [],
   "source": [
    "def sentences_to_indices(X, word_to_index, max_len):\n",
    "    \"\"\"\n",
    "    Converts an array of sentences (strings) into an array of indices corresponding to words in the sentences.\n",
    "    The output shape should be such that it can be given to `Embedding()` \n",
    "    \n",
    "    Arguments:\n",
    "    X -- array of sentences (strings), of shape (m, 1)\n",
    "    word_to_index -- a dictionary containing the each word mapped to its index\n",
    "    max_len -- maximum number of words in a sentence. You can assume every sentence in X is no longer than this. \n",
    "    \n",
    "    Returns:\n",
    "    X_indices -- array of indices corresponding to words in the sentences from X, of shape (m, max_len)\n",
    "    \"\"\"\n",
    "    \n",
    "    m = X.shape[0]                                   # number of training examples\n",
    "    \n",
    "    # Initialize X_indices as a numpy matrix of zeros and the correct shape (≈ 1 line)\n",
    "    X_indices = np.zeros((m,max_len))\n",
    "    \n",
    "    for i in range(m):                               # loop over training examples\n",
    "        \n",
    "        # Convert the ith training sentence in lower case and split is into words. You should get a list of words.\n",
    "        sentence_words=clean_sentence(X[i])\n",
    "        # Initialize j to 0\n",
    "        j = 0\n",
    "        \n",
    "        # Loop over the words of sentence_words\n",
    "        for w in sentence_words:\n",
    "            # Set the (i,j)th entry of X_indices to the index of the correct word.\n",
    "            if (w in wordsintwitterglove): \n",
    "                X_indices[i, j] = word_to_index[w]\n",
    "                # Increment j to j + 1\n",
    "                j = j+1\n",
    "            \n",
    "\n",
    "    \n",
    "    return X_indices"
   ]
  },
  {
   "cell_type": "code",
   "execution_count": 26,
   "metadata": {
    "colab": {
     "base_uri": "https://localhost:8080/"
    },
    "id": "I35sGgQyFHYE",
    "outputId": "d04016db-efe8-4251-8b52-2a8bd4af1853"
   },
   "outputs": [
    {
     "name": "stdout",
     "output_type": "stream",
     "text": [
      "X1 = ['Question of the Day - Is it worth the effort to get the Hilton Ascend credit card that can be linked to Wyndham Diamond and Caesars Diamond status rewards cards?'\n",
      " 'Today’s Digital Transactions News: T&E Plunge Hammers AmEx; PayFac Volume To Hit $4 Trillion by 2025; Plus Weekly Recap']\n",
      "Max len: 59\n",
      "Question of the Day - Is it worth the effort to get the Hilton Ascend credit card that can be linked to Wyndham Diamond and Caesars Diamond status rewards cards?\n",
      "['question', 'of', 'the', 'day', '-', 'is', 'it', 'worth', 'the', 'effort', 'to', 'get', 'the', 'hilton', 'ascend', 'credit', 'card', 'that', 'can', 'be', 'linked', 'to', 'wyndham', 'diamond', 'and', 'caesars', 'diamond', 'status', 'rewards', 'cards']\n",
      "Today’s Digital Transactions News: T&E Plunge Hammers AmEx; PayFac Volume To Hit  Trillion by ; Plus Weekly Recap\n",
      "['todays', 'digital', 'transactions', 'news', 'te', 'plunge', 'hammers', 'amex', 'payfac', 'volume', 'to', 'hit', 'trillion', 'by', 'plus', 'weekly', 'recap']\n",
      "X1_indices = [[503357. 138215. 657072. 176556. 227866. 258111.  37963. 127558.  96730.\n",
      "  342801. 658588. 151100.  91707. 151100. 573718. 519708.  96730.      0.\n",
      "       0.      0.      0.      0.      0.      0.      0.      0.      0.\n",
      "       0.      0.      0.      0.      0.      0.      0.      0.      0.\n",
      "       0.      0.      0.      0.      0.      0.      0.      0.      0.\n",
      "       0.      0.      0.      0.      0.      0.      0.      0.      0.\n",
      "       0.      0.      0.      0.      0.]\n",
      " [608067. 153369. 612984. 406728. 593762. 483491. 248618.  24377. 644127.\n",
      "  259017. 615083. 483406. 510109.      0.      0.      0.      0.      0.\n",
      "       0.      0.      0.      0.      0.      0.      0.      0.      0.\n",
      "       0.      0.      0.      0.      0.      0.      0.      0.      0.\n",
      "       0.      0.      0.      0.      0.      0.      0.      0.      0.\n",
      "       0.      0.      0.      0.      0.      0.      0.      0.      0.\n",
      "       0.      0.      0.      0.      0.]]\n",
      "X1_indices shape =  (2, 59)\n"
     ]
    }
   ],
   "source": [
    "#testing the above: \n",
    "X1 =  X_train[0:2]\n",
    "print(\"X1 =\", X1)\n",
    "maxlen=max(max([len(x.split()) for x in X_train]), max([len(x.split()) for x in X_test]))\n",
    "print(\"Max len: \" + str(maxlen))\n",
    "X1_indices = sentences_to_indices(X1,words_to_index, max_len = maxlen)\n",
    "print(\"X1_indices =\", X1_indices)\n",
    "print(\"X1_indices shape = \", X1_indices.shape)"
   ]
  },
  {
   "cell_type": "markdown",
   "metadata": {
    "id": "GfeqBgNx1wci"
   },
   "source": [
    "# Pytorch Code\n"
   ]
  },
  {
   "cell_type": "markdown",
   "metadata": {
    "id": "h_cbvu0mFHYE"
   },
   "source": [
    "### Step 2: Define an embedding layer"
   ]
  },
  {
   "cell_type": "code",
   "execution_count": 27,
   "metadata": {
    "id": "ZWIq83_eFHYE"
   },
   "outputs": [],
   "source": [
    "def pretrained_embedding_matrix(word_to_vec_map, word_to_index):\n",
    "    \"\"\"\n",
    "    Creates a Keras Embedding() layer and loads in pre-trained GloVe 50-dimensional vectors.\n",
    "    \n",
    "    Arguments:\n",
    "    word_to_vec_map -- dictionary mapping words to their GloVe vector representation.\n",
    "    word_to_index -- dictionary mapping from words to their indices in the vocabulary (2MM words)\n",
    "\n",
    "    Returns:\n",
    "    embedding_layer -- pretrained layer Keras instance\n",
    "    \"\"\"\n",
    "    \n",
    "    vocab_len = len(word_to_index) + 1                  # adding 1 to fit Keras embedding (requirement)\n",
    "    emb_dim = word_to_vec_map[\"cucumber\"].shape[0]      # define dimensionality of your GloVe word vectors (= 50)\n",
    "    \n",
    "\n",
    "    # Initialize the embedding matrix as a numpy array of zeros of shape (vocab_len, dimensions of word vectors = emb_dim)\n",
    "    emb_matrix = np.zeros((vocab_len,emb_dim )) #dim \n",
    "    j=0\n",
    "    for word, index in word_to_index.items():\n",
    "        if len(word_to_vec_map[word])==50:\n",
    "            j+=1\n",
    "            emb_matrix[index, :] = word_to_vec_map[word]\n",
    "    print(emb_matrix.shape)\n",
    "   \n",
    "    return emb_matrix, vocab_len, emb_dim\n"
   ]
  },
  {
   "cell_type": "code",
   "execution_count": 28,
   "metadata": {
    "colab": {
     "base_uri": "https://localhost:8080/"
    },
    "id": "tg6at4UmFHYF",
    "outputId": "bc6c578e-63af-4c6b-e506-a75369b20586"
   },
   "outputs": [
    {
     "name": "stdout",
     "output_type": "stream",
     "text": [
      "(1193515, 50)\n",
      "Embedding Matrix Shape (1193515, 50)\n",
      "Vocab Len 1193515\n",
      "Emb Dimension 50\n"
     ]
    }
   ],
   "source": [
    "#test above code\n",
    "emb_matrix, vocab_len, emb_dim = pretrained_embedding_matrix(word_to_vec_map, words_to_index)\n",
    "print(\"Embedding Matrix Shape \"+str(emb_matrix.shape))\n",
    "print(\"Vocab Len \"+str(vocab_len))\n",
    "print(\"Emb Dimension \"+str(emb_dim))"
   ]
  },
  {
   "cell_type": "code",
   "execution_count": 29,
   "metadata": {
    "colab": {
     "base_uri": "https://localhost:8080/"
    },
    "id": "zW08KQeJkWsO",
    "outputId": "f25be8b7-8a22-4efa-be39-bca88ed4cbae"
   },
   "outputs": [
    {
     "name": "stdout",
     "output_type": "stream",
     "text": [
      "Question of the Day - Is it worth the effort to get the Hilton Ascend credit card that can be linked to Wyndham Diamond and Caesars Diamond status rewards cards?\n",
      "['question', 'of', 'the', 'day', '-', 'is', 'it', 'worth', 'the', 'effort', 'to', 'get', 'the', 'hilton', 'ascend', 'credit', 'card', 'that', 'can', 'be', 'linked', 'to', 'wyndham', 'diamond', 'and', 'caesars', 'diamond', 'status', 'rewards', 'cards']\n",
      "Today’s Digital Transactions News: T&E Plunge Hammers AmEx; PayFac Volume To Hit  Trillion by ; Plus Weekly Recap\n",
      "['todays', 'digital', 'transactions', 'news', 'te', 'plunge', 'hammers', 'amex', 'payfac', 'volume', 'to', 'hit', 'trillion', 'by', 'plus', 'weekly', 'recap']\n",
      "Bet prediction on Brighton & Hove – Man City: MATCH DETAILS: Location: Brighton, AMEX…\n",
      "['bet', 'prediction', 'on', 'brighton', 'hove', '–', 'man', 'city', 'match', 'details', 'location', 'brighton', 'amex…']\n",
      "Win big at The Charity Texas Hold'em Tournament! Grand prize winner gets a , entry into the  Main Event. Final table prizes for nd-th place include AMEX gift cards. See our website for more details .\n",
      "['win', 'big', 'at', 'the', 'charity', 'texas', 'holdem', 'tournament', 'grand', 'prize', 'winner', 'gets', 'a', 'entry', 'into', 'the', 'main', 'event.', 'final', 'table', 'prizes', 'for', 'nd-th', 'place', 'include', 'amex', 'gift', 'cards.', 'see', 'our', 'website', 'for', 'more', 'details', '.']\n",
      "Trivia Contest Sponsored by AT&T Palace Center. Participate in this contest for the chance to win a  American Express Gift Card! The rules are simple. Answer all  questions correctly as…\n",
      "['trivia', 'contest', 'sponsored', 'by', 'att', 'palace', 'center.', 'participate', 'in', 'this', 'contest', 'for', 'the', 'chance', 'to', 'win', 'a', 'american', 'express', 'gift', 'card', 'the', 'rules', 'are', 'simple.', 'answer', 'all', 'questions', 'correctly', 'as…']\n",
      "Another PPP lender alternative: if you’re with AmEX, they are accepting PPP applications for submission when the SBA portal reopens. They just launched this last night.\n",
      "['another', 'ppp', 'lender', 'alternative', 'if', 'youre', 'with', 'amex', 'they', 'are', 'accepting', 'ppp', 'applications', 'for', 'submission', 'when', 'the', 'sba', 'portal', 'reopens.', 'they', 'just', 'launched', 'this', 'last', 'night.']\n",
      "I was trying to date yes I hope you do have money I need it to be an American Express because then somewhere in your life you’re legitimate! And you already served your time with the feds I don’t have to lose out on my love!!\n",
      "['i', 'was', 'trying', 'to', 'date', 'yes', 'i', 'hope', 'you', 'do', 'have', 'money', 'i', 'need', 'it', 'to', 'be', 'an', 'american', 'express', 'because', 'then', 'somewhere', 'in', 'your', 'life', 'youre', 'legitimate', 'and', 'you', 'already', 'served', 'your', 'time', 'with', 'the', 'feds', 'i', 'dont', 'have', 'to', 'lose', 'out', 'on', 'my', 'love']\n",
      "TBS is holding a sweepstakes for Friends until May . The grand prize winner gets a  American Express gift card and the complete series digitally.\n",
      "['tbs', 'is', 'holding', 'a', 'sweepstakes', 'for', 'friends', 'until', 'may', '.', 'the', 'grand', 'prize', 'winner', 'gets', 'a', 'american', 'express', 'gift', 'card', 'and', 'the', 'complete', 'series', 'digitally.']\n",
      "We know your needs may be changing during this time & we’re focused on serving you efficiently. If you haven’t already, you can set up your online account at or download our app at for statements, profile updates & more. Terms apply\n",
      "['we', 'know', 'your', 'needs', 'may', 'be', 'changing', 'during', 'this', 'time', 'were', 'focused', 'on', 'serving', 'you', 'efficiently.', 'if', 'you', 'havent', 'already', 'you', 'can', 'set', 'up', 'your', 'online', 'account', 'at', 'or', 'download', 'our', 'app', 'at', 'for', 'statements', 'profile', 'updates', 'more.', 'terms', 'apply']\n",
      "~Tobacco Plaza's Temporary Hours~ Our hours continue to be  AM -  PM, Monday thru Sunday,for Cigar Delivery ( min) and Curbside Pickup. We take Venmo and Paypal, Visa, MC and Amex Stay safe friends we'll see…\n",
      "['tobacco', 'plazas', 'temporary', 'hours', 'our', 'hours', 'continue', 'to', 'be', 'am', '-', 'pm', 'monday', 'thru', 'sundayfor', 'cigar', 'delivery', 'min', 'and', 'curbside', 'pickup.', 'we', 'take', 'venmo', 'and', 'paypal', 'visa', 'mc', 'and', 'amex', 'stay', 'safe', 'friends', 'well', 'see…']\n",
      "Shelli Diamond: Is the American Express Green Card Worth Its Annual Fee? Saving Money --\n",
      "['shelli', 'diamond', 'is', 'the', 'american', 'express', 'green', 'card', 'worth', 'its', 'annual', 'fee', 'saving', 'money', '--']\n",
      "Yup. I was asked to sub for regular ESPN host Sir Jackie Stewart. I thought “Easy. Fast track; we’ll be done in  minutes.” Two red-flag starts and four hours or so later our producer had put thousands of dollars worth of satellite time on his Amex card to keep us on the air.\n",
      "['yup.', 'i', 'was', 'asked', 'to', 'sub', 'for', 'regular', 'espn', 'host', 'sir', 'jackie', 'stewart.', 'i', 'thought', '“easy.', 'fast', 'track', 'well', 'be', 'done', 'in', 'minutes.”', 'two', 'red-flag', 'starts', 'and', 'four', 'hours', 'or', 'so', 'later', 'our', 'producer', 'had', 'put', 'thousands', 'of', 'dollars', 'worth', 'of', 'satellite', 'time', 'on', 'his', 'amex', 'card', 'to', 'keep', 'us', 'on', 'the', 'air.']\n",
      "American Express Unveils New Card Face for Platinum Credit Card - Get , Bonus Membership Rewards Points With Welcome Offer via\n",
      "['american', 'express', 'unveils', 'new', 'card', 'face', 'for', 'platinum', 'credit', 'card', '-', 'get', 'bonus', 'membership', 'rewards', 'points', 'with', 'welcome', 'offer', 'via']\n",
      "He asked what department I worked for. He told me nothing more than he’d recently moved here from & his wife wasn’t thrilled. (I thought at the time “Send her out to w/ your Amex that will shut her up” (I’d noticed an expensive ) (I didn’t say it) 🤦‍️\n",
      "['he', 'asked', 'what', 'department', 'i', 'worked', 'for.', 'he', 'told', 'me', 'nothing', 'more', 'than', 'hed', 'recently', 'moved', 'here', 'from', 'his', 'wife', 'wasnt', 'thrilled.', 'i', 'thought', 'at', 'the', 'time', '“send', 'her', 'out', 'to', 'w', 'your', 'amex', 'that', 'will', 'shut', 'her', 'up”', 'id', 'noticed', 'an', 'expensive', 'i', 'didnt', 'say', 'it', '🤦\\u200d️']\n",
      "Art for the eyes!\n",
      "['art', 'for', 'the', 'eyes']\n",
      "Joseph Miller, Bruce Sokler, Shawn Skolky, & Tinny Song discuss a federal district court’s denial of the ’s challenge to Sabre Corp.’s  million acquisition of Farelogix Inc., which applied the ’s holding in Ohio v. American Express.\n",
      "['joseph', 'miller', 'bruce', 'sokler', 'shawn', 'skolky', 'tinny', 'song', 'discuss', 'a', 'federal', 'district', 'courts', 'denial', 'of', 'the', 's', 'challenge', 'to', 'sabre', 'corp.s', 'million', 'acquisition', 'of', 'farelogix', 'inc.', 'which', 'applied', 'the', 's', 'holding', 'in', 'ohio', 'v.', 'american', 'express.']\n",
      "Let’s up the ante! This week’s Dine-Around Bingo prize will include... tickets to a concert at ,  Amex gift card & a  restaurant gift card. We're playing ANY ROW this week!\n",
      "['lets', 'up', 'the', 'ante', 'this', 'weeks', 'dine-around', 'bingo', 'prize', 'will', 'include...', 'tickets', 'to', 'a', 'concert', 'at', 'amex', 'gift', 'card', 'a', 'restaurant', 'gift', 'card.', 'were', 'playing', 'any', 'row', 'this', 'week']\n",
      "American Express AXP is scheduled to announce Q earnings results on Friday, April th, before market open. The consensus EPS Estimate is . and the consensus Revenue Estimate is .B.\n",
      "['american', 'express', 'axp', 'is', 'scheduled', 'to', 'announce', 'q', 'earnings', 'results', 'on', 'friday', 'april', 'th', 'before', 'market', 'open.', 'the', 'consensus', 'eps', 'estimate', 'is', '.', 'and', 'the', 'consensus', 'revenue', 'estimate', 'is', '.b.']\n",
      "Good Morning. I see you have looped in to address your concerns, please also visit the website for other options, as our team only has access to US Amex Card specifics. Please visit: ^RK\n",
      "['good', 'morning.', 'i', 'see', 'you', 'have', 'looped', 'in', 'to', 'address', 'your', 'concerns', 'please', 'also', 'visit', 'the', 'website', 'for', 'other', 'options', 'as', 'our', 'team', 'only', 'has', 'access', 'to', 'us', 'amex', 'card', 'specifics.', 'please', 'visit', 'rk']\n",
      "HARRYWEEN. MADISON SQUARE GARDEN. GUEST - ORVILLE PECK. American Express and Verified Fan Presales begin Monday, March . Public onsales begin Friday, March .\n",
      "['harryween.', 'madison', 'square', 'garden.', 'guest', '-', 'orville', 'peck.', 'american', 'express', 'and', 'verified', 'fan', 'presales', 'begin', 'monday', 'march', '.', 'public', 'onsales', 'begin', 'friday', 'march', '.']\n"
     ]
    },
    {
     "name": "stdout",
     "output_type": "stream",
     "text": [
      "The Platinum Card from American Express review\n",
      "['the', 'platinum', 'card', 'from', 'american', 'express', 'review']\n",
      "I used to work for American Express and spent some time in NY. It was on her bucket list to visit, so I took her there a year and a half ago. We love living around no one, but NYC is a fun place to visit! Well probably not so much at the moment, but we’ll get through this!\n",
      "['i', 'used', 'to', 'work', 'for', 'american', 'express', 'and', 'spent', 'some', 'time', 'in', 'ny.', 'it', 'was', 'on', 'her', 'bucket', 'list', 'to', 'visit', 'so', 'i', 'took', 'her', 'there', 'a', 'year', 'and', 'a', 'half', 'ago.', 'we', 'love', 'living', 'around', 'no', 'one', 'but', 'nyc', 'is', 'a', 'fun', 'place', 'to', 'visit', 'well', 'probably', 'not', 'so', 'much', 'at', 'the', 'moment', 'but', 'well', 'get', 'through', 'this']\n",
      "Let’s up the ante! This week’s Dine-Around Bingo prize will include... tickets to a concert ThePavilionTMF at ToyotaMusicFac ,  Amex gift card & a  restaurant gift card. We're playing ANY ROW this week! pic.twitter…\n",
      "['lets', 'up', 'the', 'ante', 'this', 'weeks', 'dine-around', 'bingo', 'prize', 'will', 'include...', 'tickets', 'to', 'a', 'concert', 'thepaviliontmf', 'at', 'toyotamusicfac', 'amex', 'gift', 'card', 'a', 'restaurant', 'gift', 'card.', 'were', 'playing', 'any', 'row', 'this', 'week', 'pic.twitter…']\n",
      "A statement from American Express. Please visit our COVID- Info Hub for more:\n",
      "['a', 'statement', 'from', 'american', 'express.', 'please', 'visit', 'our', 'covid-', 'info', 'hub', 'for', 'more']\n",
      "“ Tips to Virtually Recruit New Employees - If your business is in a position to bring on new employees during the pandemic, you may have to adjust your hiring strategies to identify and attract the right talent.”\n",
      "['“', 'tips', 'to', 'virtually', 'recruit', 'new', 'employees', '-', 'if', 'your', 'business', 'is', 'in', 'a', 'position', 'to', 'bring', 'on', 'new', 'employees', 'during', 'the', 'pandemic', 'you', 'may', 'have', 'to', 'adjust', 'your', 'hiring', 'strategies', 'to', 'identify', 'and', 'attract', 'the', 'right', 'talent.”']\n",
      "AXP will announce tomorrow before the market open. has an expected move of .%. The average move over the past  years has been .%. See full earnings report:\n",
      "['axp', 'will', 'announce', 'tomorrow', 'before', 'the', 'market', 'open.', 'has', 'an', 'expected', 'move', 'of', '..', 'the', 'average', 'move', 'over', 'the', 'past', 'years', 'has', 'been', '..', 'see', 'full', 'earnings', 'report']\n",
      "Hi. Approval for a Paycheck Protection Program loan through American Express and the amount of your loan are dependent on eligibility criteria set by the SBA and American Express. Eligibility information can be found at or at . ^B\n",
      "['hi.', 'approval', 'for', 'a', 'paycheck', 'protection', 'program', 'loan', 'through', 'american', 'express', 'and', 'the', 'amount', 'of', 'your', 'loan', 'are', 'dependent', 'on', 'eligibility', 'criteria', 'set', 'by', 'the', 'sba', 'and', 'american', 'express.', 'eligibility', 'information', 'can', 'be', 'found', 'at', 'or', 'at', '.', 'b']\n",
      "Ask him who paid his AMEX tab if K when he ran & had no ?\n",
      "['ask', 'him', 'who', 'paid', 'his', 'amex', 'tab', 'if', 'k', 'when', 'he', 'ran', 'had', 'no']\n",
      "DINO\n",
      "['dino']\n",
      "I would love to help . I can share the presentation and Hangout Meet webinar recordings if Amex is interested. If you are Alex, DM me and let’s chat. Thanks Betsy for the shoutout!\n",
      "['i', 'would', 'love', 'to', 'help', '.', 'i', 'can', 'share', 'the', 'presentation', 'and', 'hangout', 'meet', 'webinar', 'recordings', 'if', 'amex', 'is', 'interested.', 'if', 'you', 'are', 'alex', 'dm', 'me', 'and', 'lets', 'chat.', 'thanks', 'betsy', 'for', 'the', 'shoutout']\n",
      "Scoop: ThankYou Points adds its th transfer partner: Skywards! With this addition, Emirates is now a transfer partner of all five transferrable currencies (Amex, CapOne, Chase, Citi, and Marriott):\n",
      "['scoop', 'thankyou', 'points', 'adds', 'its', 'th', 'transfer', 'partner', 'skywards', 'with', 'this', 'addition', 'emirates', 'is', 'now', 'a', 'transfer', 'partner', 'of', 'all', 'five', 'transferrable', 'currencies', 'amex', 'capone', 'chase', 'citi', 'and', 'marriott']\n",
      "And ps it isnt possible to finance a k car. My bartender drives a new  series on his non rich salary. Its called EXCELLENT CREdit !! Thats like sayin only people who have an amex are rich. And you call me dumb ? Cmon man. Lets not compare tax returns\n",
      "['and', 'ps', 'it', 'isnt', 'possible', 'to', 'finance', 'a', 'k', 'car.', 'my', 'bartender', 'drives', 'a', 'new', 'series', 'on', 'his', 'non', 'rich', 'salary.', 'its', 'called', 'excellent', 'credit', 'thats', 'like', 'sayin', 'only', 'people', 'who', 'have', 'an', 'amex', 'are', 'rich.', 'and', 'you', 'call', 'me', 'dumb', 'cmon', 'man.', 'lets', 'not', 'compare', 'tax', 'returns']\n",
      "“Because all Anchors, Banks, Payment Processors, Exchanges and other Financial Institutions are operating on the same network...they and their users can interact with each other without friction of fees, middlemen or wait times” •^\n",
      "['“because', 'all', 'anchors', 'banks', 'payment', 'processors', 'exchanges', 'and', 'other', 'financial', 'institutions', 'are', 'operating', 'on', 'the', 'same', 'network...they', 'and', 'their', 'users', 'can', 'interact', 'with', 'each', 'other', 'without', 'friction', 'of', 'fees', 'middlemen', 'or', 'wait', 'times”', '•']\n",
      "We’re not here right now, but we’ll reply when we’re back in the morning. If you need immediate assistance go to for helpful resources or chat with us by logging in at and clicking the Chat button.\n",
      "['were', 'not', 'here', 'right', 'now', 'but', 'well', 'reply', 'when', 'were', 'back', 'in', 'the', 'morning.', 'if', 'you', 'need', 'immediate', 'assistance', 'go', 'to', 'for', 'helpful', 'resources', 'or', 'chat', 'with', 'us', 'by', 'logging', 'in', 'at', 'and', 'clicking', 'the', 'chat', 'button.']\n",
      "Personally, I’d find a way to borrow money from them at % for the month and try to make -% off of it and return the principal before the due date. Now, you can make money like them and get rewarded for it.\n",
      "['personally', 'id', 'find', 'a', 'way', 'to', 'borrow', 'money', 'from', 'them', 'at', 'for', 'the', 'month', 'and', 'try', 'to', 'make', '-', 'off', 'of', 'it', 'and', 'return', 'the', 'principal', 'before', 'the', 'due', 'date.', 'now', 'you', 'can', 'make', 'money', 'like', 'them', 'and', 'get', 'rewarded', 'for', 'it.']\n",
      "Test your knowledge of Cape Cod's Arts & Culture scene for the chance to win a  American Express gift card! GO!\n",
      "['test', 'your', 'knowledge', 'of', 'cape', 'cods', 'arts', 'culture', 'scene', 'for', 'the', 'chance', 'to', 'win', 'a', 'american', 'express', 'gift', 'card', 'go']\n",
      "A Peek Into The Markets: US Stock Futures Up Ahead Of Verizon, American Express Earnings\n",
      "['a', 'peek', 'into', 'the', 'markets', 'us', 'stock', 'futures', 'up', 'ahead', 'of', 'verizon', 'american', 'express', 'earnings']\n",
      "American Express Announces Double Points For Centurion and Platinum Members on Everything -  April to  July  via\n",
      "['american', 'express', 'announces', 'double', 'points', 'for', 'centurion', 'and', 'platinum', 'members', 'on', 'everything', '-', 'april', 'to', 'july', 'via']\n",
      "You have the option of opening a billing inquiry, however, we must abide by the merchants policies. You can also contact Amex Assurance to see if you are able to open an insurance claim. They can be reached directly at --.\n",
      "['you', 'have', 'the', 'option', 'of', 'opening', 'a', 'billing', 'inquiry', 'however', 'we', 'must', 'abide', 'by', 'the', 'merchants', 'policies.', 'you', 'can', 'also', 'contact', 'amex', 'assurance', 'to', 'see', 'if', 'you', 'are', 'able', 'to', 'open', 'an', 'insurance', 'claim.', 'they', 'can', 'be', 'reached', 'directly', 'at', '--.']\n",
      "Learn how the consumer landscape drives & defines from top representing , , and . Register today and follow , & >>\n",
      "['learn', 'how', 'the', 'consumer', 'landscape', 'drives', 'defines', 'from', 'top', 'representing', 'and', '.', 'register', 'today', 'and', 'follow']\n",
      "Meet Shushanna (Class ) from Armenia! Currently, Shushanna serves with Atlas Corps as the Leadership Fellow by helping to expand the American Express Leadership Academy. How will you advance your career? Visit .\n",
      "['meet', 'shushanna', 'class', 'from', 'armenia', 'currently', 'shushanna', 'serves', 'with', 'atlas', 'corps', 'as', 'the', 'leadership', 'fellow', 'by', 'helping', 'to', 'expand', 'the', 'american', 'express', 'leadership', 'academy.', 'how', 'will', 'you', 'advance', 'your', 'career', 'visit', '.']\n"
     ]
    },
    {
     "name": "stdout",
     "output_type": "stream",
     "text": [
      "Serve Customer Care P.O. Box  Fortson, GA  You must include the following when notifying us of a Dispute: Your name and American Express Serve Account number. Description of the transfer or transaction you are unsure about,\n",
      "['serve', 'customer', 'care', 'p.o.', 'box', 'fortson', 'ga', 'you', 'must', 'include', 'the', 'following', 'when', 'notifying', 'us', 'of', 'a', 'dispute', 'your', 'name', 'and', 'american', 'express', 'serve', 'account', 'number.', 'description', 'of', 'the', 'transfer', 'or', 'transaction', 'you', 'are', 'unsure', 'about']\n",
      "You can now pay driver license reinstatement fees online at using Visa, MasterCard, Discover, American Express debit/credit cards or electronic check.\n",
      "['you', 'can', 'now', 'pay', 'driver', 'license', 'reinstatement', 'fees', 'online', 'at', 'using', 'visa', 'mastercard', 'discover', 'american', 'express', 'debitcredit', 'cards', 'or', 'electronic', 'check.']\n",
      "My only connect for business, info, consultations. No extra letters, numbers or spaces. CashApp sxctwelv payments PayPal Visa/MC/Amex payments Email: Dopeartbyray.com Phone: -- Leave a text message only I appreciate my clients. No DMs\n",
      "['my', 'only', 'connect', 'for', 'business', 'info', 'consultations.', 'no', 'extra', 'letters', 'numbers', 'or', 'spaces.', 'cashapp', 'sxctwelv', 'payments', 'paypal', 'visamcamex', 'payments', 'email', 'dopeartbyray.com', 'phone', '--', 'leave', 'a', 'text', 'message', 'only', 'i', 'appreciate', 'my', 'clients.', 'no', 'dms']\n",
      "Hilton and American Express are honored to assist frontline medical professionals in the fight against COVID-. Earlier this week, we began welcoming our first guests under this new program in cities across the country.\n",
      "['hilton', 'and', 'american', 'express', 'are', 'honored', 'to', 'assist', 'frontline', 'medical', 'professionals', 'in', 'the', 'fight', 'against', 'covid-.', 'earlier', 'this', 'week', 'we', 'began', 'welcoming', 'our', 'first', 'guests', 'under', 'this', 'new', 'program', 'in', 'cities', 'across', 'the', 'country.']\n",
      "Economic Impact Payments. Visit We are experiencing high call volume funds are deposited to Account, you will receive an email stay in control of your Account by logging in online or the App. When we know more we will update this information here.\n",
      "['economic', 'impact', 'payments.', 'visit', 'we', 'are', 'experiencing', 'high', 'call', 'volume', 'funds', 'are', 'deposited', 'to', 'account', 'you', 'will', 'receive', 'an', 'email', 'stay', 'in', 'control', 'of', 'your', 'account', 'by', 'logging', 'in', 'online', 'or', 'the', 'app.', 'when', 'we', 'know', 'more', 'we', 'will', 'update', 'this', 'information', 'here.']\n",
      "Yolt launches API connection with American Express\n",
      "['yolt', 'launches', 'api', 'connection', 'with', 'american', 'express']\n",
      ". Card Members, get early access to tickets for George’s new show in South Bend, IN with now thru /! Terms Apply. // Notre Dame Stadium, South Bend, IN:\n",
      "['.', 'card', 'members', 'get', 'early', 'access', 'to', 'tickets', 'for', 'georges', 'new', 'show', 'in', 'south', 'bend', 'in', 'with', 'now', 'thru', 'terms', 'apply.', 'notre', 'dame', 'stadium', 'south', 'bend', 'in']\n",
      "Our Director of Operations/Human Resources, Theresa Santoro and others share why education-focused employee incentives can help your company's present and future. Remote learning is more important now than ever.\n",
      "['our', 'director', 'of', 'operationshuman', 'resources', 'theresa', 'santoro', 'and', 'others', 'share', 'why', 'education-focused', 'employee', 'incentives', 'can', 'help', 'your', 'companys', 'present', 'and', 'future.', 'remote', 'learning', 'is', 'more', 'important', 'now', 'than', 'ever.']\n",
      "Justin Bieber. Bringing Presented by TMobile AmexPresale New merch drop with pre-sale\n",
      "['justin', 'bieber.', 'bringing', 'presented', 'by', 'tmobile', 'amexpresale', 'new', 'merch', 'drop', 'with', 'pre-sale']\n",
      "Is Amex About To Improve The Platinum Card (Temporarily)? via\n",
      "['is', 'amex', 'about', 'to', 'improve', 'the', 'platinum', 'card', 'temporarily', 'via']\n",
      "i just made another dumbass expensive purchase. take my amex. do it. plz. save me.\n",
      "['i', 'just', 'made', 'another', 'dumbass', 'expensive', 'purchase.', 'take', 'my', 'amex.', 'do', 'it.', 'plz.', 'save', 'me.']\n",
      "American Express and Walmart Launch Bluebird: a New Alternative to Debit and Checking Accounts is e eI e I de N hh s ewwww\n",
      "['american', 'express', 'and', 'walmart', 'launch', 'bluebird', 'a', 'new', 'alternative', 'to', 'debit', 'and', 'checking', 'accounts', 'is', 'e', 'ei', 'e', 'i', 'de', 'n', 'hh', 's', 'ewwww']\n",
      "Harry Styles Watermelon Pit TD Garden FIRST ACCESS!! -- Amex Lane One\n",
      "['harry', 'styles', 'watermelon', 'pit', 'td', 'garden', 'first', 'access', '--', 'amex', 'lane', 'one']\n",
      "How will markets close out the week? Check out our Opening Bell analysis.\n",
      "['how', 'will', 'markets', 'close', 'out', 'the', 'week', 'check', 'out', 'our', 'opening', 'bell', 'analysis.']\n",
      "American Express Tightens Its Belt\n",
      "['american', 'express', 'tightens', 'its', 'belt']\n",
      "American Express AXP Set to Announce Earnings on Friday\n",
      "['american', 'express', 'axp', 'set', 'to', 'announce', 'earnings', 'on', 'friday']\n",
      "Were Hedge Funds Right About American Express Company (AXP)? Follow for News\n",
      "['were', 'hedge', 'funds', 'right', 'about', 'american', 'express', 'company', 'axp', 'follow', 'for', 'news']\n",
      "Same here! If I lose money I just cut the credit card up and throw it in the trash. Called being smart\n",
      "['same', 'here', 'if', 'i', 'lose', 'money', 'i', 'just', 'cut', 'the', 'credit', 'card', 'up', 'and', 'throw', 'it', 'in', 'the', 'trash.', 'called', 'being', 'smart']\n",
      "Did I Get A Retention Offer For My AMEX Business Card? via\n",
      "['did', 'i', 'get', 'a', 'retention', 'offer', 'for', 'my', 'amex', 'business', 'card', 'via']\n",
      "CVM - CEL-SCI Reports Recent Data Review by the Independent Data Monitoring Committee for Its Pivotal Phase \n",
      "['cvm', '-', 'cel-sci', 'reports', 'recent', 'data', 'review', 'by', 'the', 'independent', 'data', 'monitoring', 'committee', 'for', 'its', 'pivotal', 'phase']\n",
      "\"Stocks making the biggest moves in the premarket: American Express, Verizon, Intel, Tesla & more\"\n",
      "['stocks', 'making', 'the', 'biggest', 'moves', 'in', 'the', 'premarket', 'american', 'express', 'verizon', 'intel', 'tesla', 'more']\n",
      "AXP - American Express Q  Earnings Preview\n",
      "['axp', '-', 'american', 'express', 'q', 'earnings', 'preview']\n",
      "AXP released mixed earnings for Q on Friday.\n",
      "['axp', 'released', 'mixed', 'earnings', 'for', 'q', 'on', 'friday.']\n",
      "GTE - Gran Tierra Energy Inc. Provides Notice of Virtual Annual Meeting of Shareholders\n",
      "['gte', '-', 'gran', 'tierra', 'energy', 'inc.', 'provides', 'notice', 'of', 'virtual', 'annual', 'meeting', 'of', 'shareholders']\n",
      "* Experienced at startups, small business, and large, international organizations (including, Disney, NASA, GE, Wyndham, Lockheed Martin, Northrup Grumman, and American Express) *BA in English with a concentration in Technical Writing from the University of Central Florida\n",
      "['experienced', 'at', 'startups', 'small', 'business', 'and', 'large', 'international', 'organizations', 'including', 'disney', 'nasa', 'ge', 'wyndham', 'lockheed', 'martin', 'northrup', 'grumman', 'and', 'american', 'express', 'ba', 'in', 'english', 'with', 'a', 'concentration', 'in', 'technical', 'writing', 'from', 'the', 'university', 'of', 'central', 'florida']\n",
      ". Card Members can get tickets now thru / to see me on the tour in select markets!\n",
      "['.', 'card', 'members', 'can', 'get', 'tickets', 'now', 'thru', 'to', 'see', 'me', 'on', 'the', 'tour', 'in', 'select', 'markets']\n",
      "[Now through /] + Membership Rewards points at Phillips , , & Conoco w/ Amex Offer via\n",
      "['now', 'through', 'membership', 'rewards', 'points', 'at', 'phillips', 'conoco', 'w', 'amex', 'offer', 'via']\n",
      "⭕️⭕️ Yes. But that person gave me a routi g number :checking account number and paid . on my Amex card because he ,he said because it the death and destruction of here.Yes it did go they but after  days Amex called &the back asked for the paymff ref by back ⭕️⭕️\n",
      "['⭕️⭕️', 'yes.', 'but', 'that', 'person', 'gave', 'me', 'a', 'routi', 'g', 'number', 'checking', 'account', 'number', 'and', 'paid', '.', 'on', 'my', 'amex', 'card', 'because', 'he', 'he', 'said', 'because', 'it', 'the', 'death', 'and', 'destruction', 'of', 'here.yes', 'it', 'did', 'go', 'they', 'but', 'after', 'days', 'amex', 'called', 'the', 'back', 'asked', 'for', 'the', 'paymff', 'ref', 'by', 'back', '⭕️⭕️']\n"
     ]
    },
    {
     "name": "stdout",
     "output_type": "stream",
     "text": [
      "Justin Bieber. Bringing Presented by TMobile AmexPresale New merch drop with pre-sale access\n",
      "['justin', 'bieber.', 'bringing', 'presented', 'by', 'tmobile', 'amexpresale', 'new', 'merch', 'drop', 'with', 'pre-sale', 'access']\n",
      " GoPro Hero  Black cameras for  with Amex Offer, YMMV\n",
      "['gopro', 'hero', 'black', 'cameras', 'for', 'with', 'amex', 'offer', 'ymmv']\n",
      "c) Plaintiffs pursuing treble damages & settlement payouts may bring weak cases; dismissal rate is from a non-random sample. Meanwhile, agencies have brought, e.g., FTC v Surescripts, FTC v Qualcomm, US v. Amex, FTC v Intel, etc.\n",
      "['c', 'plaintiffs', 'pursuing', 'treble', 'damages', 'settlement', 'payouts', 'may', 'bring', 'weak', 'cases', 'dismissal', 'rate', 'is', 'from', 'a', 'non-random', 'sample.', 'meanwhile', 'agencies', 'have', 'brought', 'e.g.', 'ftc', 'v', 'surescripts', 'ftc', 'v', 'qualcomm', 'us', 'v.', 'amex', 'ftc', 'v', 'intel', 'etc.']\n",
      " Tips to Virtually Recruit New Employees via\n",
      "['tips', 'to', 'virtually', 'recruit', 'new', 'employees', 'via']\n",
      "A few more tips for your next virtual presentation:\n",
      "['a', 'few', 'more', 'tips', 'for', 'your', 'next', 'virtual', 'presentation']\n",
      "All the Rare American Express Colors Explained via\n",
      "['all', 'the', 'rare', 'american', 'express', 'colors', 'explained', 'via']\n",
      "American Express Reports First-Quarter Revenue of . Billion and Earnings Per Share of . - YORK--(BUSINESS WIRE)--American Express Company (NYSE: AXP) today reported first-quarter net income of  million, or . per share, compared with net ...\n",
      "['american', 'express', 'reports', 'first-quarter', 'revenue', 'of', '.', 'billion', 'and', 'earnings', 'per', 'share', 'of', '.', '-', 'york--business', 'wire--american', 'express', 'company', 'nyse', 'axp', 'today', 'reported', 'first-quarter', 'net', 'income', 'of', 'million', 'or', '.', 'per', 'share', 'compared', 'with', 'net', '...']\n",
      "American Express Unveils ‘Stand for Small’ Coalition to Support U.S. Small Businesses\n",
      "['american', 'express', 'unveils', '‘stand', 'for', 'small', 'coalition', 'to', 'support', 'u.s.', 'small', 'businesses']\n",
      "Amex Is Offering , Points For Platinum Card Referrals [Targeted] via\n",
      "['amex', 'is', 'offering', 'points', 'for', 'platinum', 'card', 'referrals', 'targeted', 'via']\n",
      "Amex is offering double points to Platinum cardholders around the world — Is the U.S. next?\n",
      "['amex', 'is', 'offering', 'double', 'points', 'to', 'platinum', 'cardholders', 'around', 'the', 'world', '—', 'is', 'the', 'u.s.', 'next']\n",
      "Amex launches Double Rewards for all Platinum and Centurion cardmembers via\n",
      "['amex', 'launches', 'double', 'rewards', 'for', 'all', 'platinum', 'and', 'centurion', 'cardmembers', 'via']\n",
      "Amex Limits Charge Cards To  Per Person via\n",
      "['amex', 'limits', 'charge', 'cards', 'to', 'per', 'person', 'via']\n",
      "Amex Limits Charge Cards, COVID Impact on Elite Status, Oldest Hotels in the World via\n",
      "['amex', 'limits', 'charge', 'cards', 'covid', 'impact', 'on', 'elite', 'status', 'oldest', 'hotels', 'in', 'the', 'world', 'via']\n",
      "American Express hints at future Platinum Card enhancements on Q earning call\n",
      "['american', 'express', 'hints', 'at', 'future', 'platinum', 'card', 'enhancements', 'on', 'q', 'earning', 'call']\n",
      "Anyone else not getting their money back from on flights bought to Europe? Just got word my claim was denied and not refundable. Not even sure how I can fly there given the boarders are closed and my flight was cancel. Is there a class action I can join?\n",
      "['anyone', 'else', 'not', 'getting', 'their', 'money', 'back', 'from', 'on', 'flights', 'bought', 'to', 'europe', 'just', 'got', 'word', 'my', 'claim', 'was', 'denied', 'and', 'not', 'refundable.', 'not', 'even', 'sure', 'how', 'i', 'can', 'fly', 'there', 'given', 'the', 'boarders', 'are', 'closed', 'and', 'my', 'flight', 'was', 'cancel.', 'is', 'there', 'a', 'class', 'action', 'i', 'can', 'join']\n",
      "Bank of America and American Express fighting to see who’s getting my stimulus check\n",
      "['bank', 'of', 'america', 'and', 'american', 'express', 'fighting', 'to', 'see', 'whos', 'getting', 'my', 'stimulus', 'check']\n",
      "Besides Google, other large companies that use Go today include Netflix, American Express, Salesforce, IBM, Target, Twitch, Twitter, Uber, and Dropbox, according to ZDNet.\n",
      "['besides', 'google', 'other', 'large', 'companies', 'that', 'use', 'go', 'today', 'include', 'netflix', 'american', 'express', 'salesforce', 'ibm', 'target', 'twitch', 'twitter', 'uber', 'and', 'dropbox', 'according', 'to', 'zdnet.']\n",
      "but \"all states\" need a bailout. 🤔🤔 last I checked Small Businesses are not only owned by Democrats: Which Political Party Do Small-Business Owners Identify With the Most? via\n",
      "['but', 'all', 'states', 'need', 'a', 'bailout.', '🤔🤔', 'last', 'i', 'checked', 'small', 'businesses', 'are', 'not', 'only', 'owned', 'by', 'democrats', 'which', 'political', 'party', 'do', 'small-business', 'owners', 'identify', 'with', 'the', 'most', 'via']\n",
      "Buying all at premium rate!! Walmart visa Finishline Offgamers Google play itune Steam Home depot Sephora Nordstrom ebay Amazon amex visa Best buy Macy Nike\n",
      "['buying', 'all', 'at', 'premium', 'rate', 'walmart', 'visa', 'finishline', 'offgamers', 'google', 'play', 'itune', 'steam', 'home', 'depot', 'sephora', 'nordstrom', 'ebay', 'amazon', 'amex', 'visa', 'best', 'buy', 'macy', 'nike']\n",
      "Complete List of American Express Membership Rewards Points Airline and Hotel Transfer Partners & Bonus []\n",
      "['complete', 'list', 'of', 'american', 'express', 'membership', 'rewards', 'points', 'airline', 'and', 'hotel', 'transfer', 'partners', 'bonus']\n",
      "Cornell Pochily Investment Advisors Inc. Increases Position in American Express AXP\n",
      "['cornell', 'pochily', 'investment', 'advisors', 'inc.', 'increases', 'position', 'in', 'american', 'express', 'axp']\n",
      "PLM - PolyMet seeks state Supreme Court review of lower court air permit ruling\n",
      "['plm', '-', 'polymet', 'seeks', 'state', 'supreme', 'court', 'review', 'of', 'lower', 'court', 'air', 'permit', 'ruling']\n",
      "Depending on your card type you may be able to chat securely online. If you have one of our US Amex Charge or Credit Cards when logged into your account, there is an option to chat online with us. Let me know if you have another type of card or we can help.\n",
      "['depending', 'on', 'your', 'card', 'type', 'you', 'may', 'be', 'able', 'to', 'chat', 'securely', 'online.', 'if', 'you', 'have', 'one', 'of', 'our', 'us', 'amex', 'charge', 'or', 'credit', 'cards', 'when', 'logged', 'into', 'your', 'account', 'there', 'is', 'an', 'option', 'to', 'chat', 'online', 'with', 'us.', 'let', 'me', 'know', 'if', 'you', 'have', 'another', 'type', 'of', 'card', 'or', 'we', 'can', 'help.']\n",
      "In Application of American Express to Horizontal Merger Challenge, District Court Allows of Airline Ticket Platforms\n",
      "['in', 'application', 'of', 'american', 'express', 'to', 'horizontal', 'merger', 'challenge', 'district', 'court', 'allows', 'of', 'airline', 'ticket', 'platforms']\n",
      "Stocks making the biggest moves in the premarket: American Express, Verizon, Intel, Tesla & more\n",
      "['stocks', 'making', 'the', 'biggest', 'moves', 'in', 'the', 'premarket', 'american', 'express', 'verizon', 'intel', 'tesla', 'more']\n",
      "Do You Need a Social Media Manager? PR\n",
      "['do', 'you', 'need', 'a', 'social', 'media', 'manager', 'pr']\n",
      "AOA member benefit: Hilton and American Express have partnered to provide up to  million hotel nights to COVID- responders through the end of May. For more information, please visit this page (AOA log-in required):\n",
      "['aoa', 'member', 'benefit', 'hilton', 'and', 'american', 'express', 'have', 'partnered', 'to', 'provide', 'up', 'to', 'million', 'hotel', 'nights', 'to', 'covid-', 'responders', 'through', 'the', 'end', 'of', 'may.', 'for', 'more', 'information', 'please', 'visit', 'this', 'page', 'aoa', 'log-in', 'required']\n",
      "Domestic Tourism Market  Booms the Global Travel Sector – Expedia Group, Priceline Group, China Travel, China CYTS Tours Holding, American Express Global Business Travel - Cole of Duty\n",
      "['domestic', 'tourism', 'market', 'booms', 'the', 'global', 'travel', 'sector', '–', 'expedia', 'group', 'priceline', 'group', 'china', 'travel', 'china', 'cyts', 'tours', 'holding', 'american', 'express', 'global', 'business', 'travel', '-', 'cole', 'of', 'duty']\n"
     ]
    },
    {
     "name": "stdout",
     "output_type": "stream",
     "text": [
      "Earn From Home: Get a Free , Amex Points or  with New User Bonus via\n",
      "['earn', 'from', 'home', 'get', 'a', 'free', 'amex', 'points', 'or', 'with', 'new', 'user', 'bonus', 'via']\n",
      "Earnings April  AT&T T Delta Air Lines DAL Alcoa AA Kinder Morgan KMI Visa V Las Vegas Sands LVS April  Amazon AMZN Domino's Pizza DPZ Freeport-McMoran FCX Intel INTC United Airlines UAL on April  American Airlines AAL American Express AXP Verizon VZ\n",
      "['earnings', 'april', 'att', 't', 'delta', 'air', 'lines', 'dal', 'alcoa', 'aa', 'kinder', 'morgan', 'kmi', 'visa', 'v', 'las', 'vegas', 'sands', 'lvs', 'april', 'amazon', 'amzn', 'dominos', 'pizza', 'dpz', 'freeport-mcmoran', 'fcx', 'intel', 'intc', 'united', 'airlines', 'ual', 'on', 'april', 'american', 'airlines', 'aal', 'american', 'express', 'axp', 'verizon', 'vz']\n",
      "For the first time in The Recorded History of Mankind, I received an Amex invoice with a monthly balance of recorded charges totaling .. Those of you who know will want to call or send him a nice note. We’ve known each other  years and well, this is big.\n",
      "['for', 'the', 'first', 'time', 'in', 'the', 'recorded', 'history', 'of', 'mankind', 'i', 'received', 'an', 'amex', 'invoice', 'with', 'a', 'monthly', 'balance', 'of', 'recorded', 'charges', 'totaling', '..', 'those', 'of', 'you', 'who', 'know', 'will', 'want', 'to', 'call', 'or', 'send', 'him', 'a', 'nice', 'note.', 'weve', 'known', 'each', 'other', 'years', 'and', 'well', 'this', 'is', 'big.']\n",
      "Get a Bonus Membership Rewards Point at Many Retailers with Amex Offer (Grubhub, Dell, BestBuy, Lowe’s)\n",
      "['get', 'a', 'bonus', 'membership', 'rewards', 'point', 'at', 'many', 'retailers', 'with', 'amex', 'offer', 'grubhub', 'dell', 'bestbuy', 'lowes']\n",
      "Have you taken the Q&A Survey on refractive error yet? Time is of the essence and you could win a  Amex gift card for completing. Check it out at\n",
      "['have', 'you', 'taken', 'the', 'qa', 'survey', 'on', 'refractive', 'error', 'yet', 'time', 'is', 'of', 'the', 'essence', 'and', 'you', 'could', 'win', 'a', 'amex', 'gift', 'card', 'for', 'completing.', 'check', 'it', 'out', 'at']\n",
      "Are you an American Express Merchant? We've teamed up to provide you special pricing! Check us out on the American Express Merchant portal here:\n",
      "['are', 'you', 'an', 'american', 'express', 'merchant', 'weve', 'teamed', 'up', 'to', 'provide', 'you', 'special', 'pricing', 'check', 'us', 'out', 'on', 'the', 'american', 'express', 'merchant', 'portal', 'here']\n",
      "Here's How Much Investing  In American Express in  Would Be Worth Today Follow for News\n",
      "['heres', 'how', 'much', 'investing', 'in', 'american', 'express', 'in', 'would', 'be', 'worth', 'today', 'follow', 'for', 'news']\n",
      "Hey , is there a way I can convert my Delta Skymiles back into standard Amex membership rewards points? I’d like to figure out how I can unload , Delta Skymiles and apply that value to other purchase categories. Please advise. Thanks.\n",
      "['hey', 'is', 'there', 'a', 'way', 'i', 'can', 'convert', 'my', 'delta', 'skymiles', 'back', 'into', 'standard', 'amex', 'membership', 'rewards', 'points', 'id', 'like', 'to', 'figure', 'out', 'how', 'i', 'can', 'unload', 'delta', 'skymiles', 'and', 'apply', 'that', 'value', 'to', 'other', 'purchase', 'categories.', 'please', 'advise.', 'thanks.']\n",
      "Hi. Congratulations! Welcome to American Express. If you've locked your login credentials, you will need to wait for your new Card to arrive in order for us to unlock the account and reset the password for you. After you receive your new Card,\n",
      "['hi.', 'congratulations', 'welcome', 'to', 'american', 'express.', 'if', 'youve', 'locked', 'your', 'login', 'credentials', 'you', 'will', 'need', 'to', 'wait', 'for', 'your', 'new', 'card', 'to', 'arrive', 'in', 'order', 'for', 'us', 'to', 'unlock', 'the', 'account', 'and', 'reset', 'the', 'password', 'for', 'you.', 'after', 'you', 'receive', 'your', 'new', 'card']\n",
      "Which bank stock would you own and why?\n",
      "['which', 'bank', 'stock', 'would', 'you', 'own', 'and', 'why']\n",
      "Which Political Party Do Small-Business Owners Identify With the Most? via\n",
      "['which', 'political', 'party', 'do', 'small-business', 'owners', 'identify', 'with', 'the', 'most', 'via']\n",
      "I did that at Mad Amex one time. My chicken was so good I bust into the kitchen like “WHO MADE MY WINGS??? THEY ARE DELICIOUS!” And they all laughed and didn’t kick me out the establishment.\n",
      "['i', 'did', 'that', 'at', 'mad', 'amex', 'one', 'time.', 'my', 'chicken', 'was', 'so', 'good', 'i', 'bust', 'into', 'the', 'kitchen', 'like', '“who', 'made', 'my', 'wings', 'they', 'are', 'delicious”', 'and', 'they', 'all', 'laughed', 'and', 'didnt', 'kick', 'me', 'out', 'the', 'establishment.']\n",
      "I had to stop. I accedentally put {redacted} worth of personal travel expenses on my company amex. . I dont want these people knowing my private life.\n",
      "['i', 'had', 'to', 'stop.', 'i', 'accedentally', 'put', 'redacted', 'worth', 'of', 'personal', 'travel', 'expenses', 'on', 'my', 'company', 'amex.', '.', 'i', 'dont', 'want', 'these', 'people', 'knowing', 'my', 'private', 'life.']\n",
      "If AMEX lowers the APY on my account one more time\n",
      "['if', 'amex', 'lowers', 'the', 'apy', 'on', 'my', 'account', 'one', 'more', 'time']\n",
      "In , the Supreme Court ruled American Express did not violate antitrust law; scholars debate the economics applied. Read more in the System Research Briefing: .\n",
      "['in', 'the', 'supreme', 'court', 'ruled', 'american', 'express', 'did', 'not', 'violate', 'antitrust', 'law', 'scholars', 'debate', 'the', 'economics', 'applied.', 'read', 'more', 'in', 'the', 'system', 'research', 'briefing', '.']\n",
      "In this week’s Now! discusses the importance of supporting our unsung heroes, artists and muses during this time of adversity.\n",
      "['in', 'this', 'weeks', 'now', 'discusses', 'the', 'importance', 'of', 'supporting', 'our', 'unsung', 'heroes', 'artists', 'and', 'muses', 'during', 'this', 'time', 'of', 'adversity.']\n",
      "GPL - Great Panther Announces New CEO Rob Henderson; Three New Directors including David Garofalo as Chair;\n",
      "['gpl', '-', 'great', 'panther', 'announces', 'new', 'ceo', 'rob', 'henderson', 'three', 'new', 'directors', 'including', 'david', 'garofalo', 'as', 'chair']\n",
      "In-depth analysis of Sabre-Farelogix by . (Full disclosure: I made it into a footnote and am pretty stoked about that.)\n",
      "['in-depth', 'analysis', 'of', 'sabre-farelogix', 'by', '.', 'full', 'disclosure', 'i', 'made', 'it', 'into', 'a', 'footnote', 'and', 'am', 'pretty', 'stoked', 'about', 'that.']\n",
      "In Application of American Express to Horizontal Merger Challenge, District Court Allows Merger of Airline Ticket Platforms\n",
      "['in', 'application', 'of', 'american', 'express', 'to', 'horizontal', 'merger', 'challenge', 'district', 'court', 'allows', 'merger', 'of', 'airline', 'ticket', 'platforms']\n",
      "is a PPP lender now. Apply here:\n",
      "['is', 'a', 'ppp', 'lender', 'now.', 'apply', 'here']\n",
      "Is the American Express Green Card Worth Its Annual Fee?\n",
      "['is', 'the', 'american', 'express', 'green', 'card', 'worth', 'its', 'annual', 'fee']\n",
      "Vanilla Walmart/Walmart Visa Visa gift card Sephora Nordstrom Home Depot Offgamer Nike Amex EBay Steam Itunes Google Amazon All needed At Sleek rates WhatsApp: \n",
      "['vanilla', 'walmartwalmart', 'visa', 'visa', 'gift', 'card', 'sephora', 'nordstrom', 'home', 'depot', 'offgamer', 'nike', 'amex', 'ebay', 'steam', 'itunes', 'google', 'amazon', 'all', 'needed', 'at', 'sleek', 'rates', 'whatsapp']\n",
      "How to Give an Effective Online Presentation From Home\n",
      "['how', 'to', 'give', 'an', 'effective', 'online', 'presentation', 'from', 'home']\n",
      "Me telling myself I should do some retail therapy and take advantage % off plus use my Amex Offer to get , points at\n",
      "['me', 'telling', 'myself', 'i', 'should', 'do', 'some', 'retail', 'therapy', 'and', 'take', 'advantage', 'off', 'plus', 'use', 'my', 'amex', 'offer', 'to', 'get', 'points', 'at']\n",
      "Merchant category codes MCC are very important in this game. It’s even possible the same merchant has different MCC’s between Visa, Amex, MC. For example, it’s well know that many - stores code as a gas station when using Visa\n",
      "['merchant', 'category', 'codes', 'mcc', 'are', 'very', 'important', 'in', 'this', 'game.', 'its', 'even', 'possible', 'the', 'same', 'merchant', 'has', 'different', 'mccs', 'between', 'visa', 'amex', 'mc.', 'for', 'example', 'its', 'well', 'know', 'that', 'many', '-', 'stores', 'code', 'as', 'a', 'gas', 'station', 'when', 'using', 'visa']\n"
     ]
    },
    {
     "name": "stdout",
     "output_type": "stream",
     "text": [
      "Mine wasn’t a presale it was like a advantage ticket. I think the amex presale was mostly on ticketmaster that’s where I got mine when I bought them for my American tour dates hahaha. Honestly no idea tho haha\n",
      "['mine', 'wasnt', 'a', 'presale', 'it', 'was', 'like', 'a', 'advantage', 'ticket.', 'i', 'think', 'the', 'amex', 'presale', 'was', 'mostly', 'on', 'ticketmaster', 'thats', 'where', 'i', 'got', 'mine', 'when', 'i', 'bought', 'them', 'for', 'my', 'american', 'tour', 'dates', 'hahaha.', 'honestly', 'no', 'idea', 'tho', 'haha']\n",
      "Mobile Payment Market and Ecosystem Analysis, Growth Opportunities (Apple, Google, American ...\n",
      "['mobile', 'payment', 'market', 'and', 'ecosystem', 'analysis', 'growth', 'opportunities', 'apple', 'google', 'american', '...']\n",
      "More rate drops today on online savings accounts: AMEX falls to .% APY (was .%, peaked at .%) Live Oak Bank falls to .% APY (was .%, peaked at .%)\n",
      "['more', 'rate', 'drops', 'today', 'on', 'online', 'savings', 'accounts', 'amex', 'falls', 'to', '.', 'apy', 'was', '.', 'peaked', 'at', '.', 'live', 'oak', 'bank', 'falls', 'to', '.', 'apy', 'was', '.', 'peaked', 'at', '.']\n",
      "Most definitely a reorganization...unlike Barneys..know how to do damage control...they almost went bankrupt before when they only used to accept Amex\n",
      "['most', 'definitely', 'a', 'reorganization...unlike', 'barneys..know', 'how', 'to', 'do', 'damage', 'control...they', 'almost', 'went', 'bankrupt', 'before', 'when', 'they', 'only', 'used', 'to', 'accept', 'amex']\n",
      "My annual fee was due on my AMEX card. Did they offer me anything when I called to cancel?\n",
      "['my', 'annual', 'fee', 'was', 'due', 'on', 'my', 'amex', 'card.', 'did', 'they', 'offer', 'me', 'anything', 'when', 'i', 'called', 'to', 'cancel']\n",
      "How to Prioritize Bills When Cash Flow Is Tight -\n",
      "['how', 'to', 'prioritize', 'bills', 'when', 'cash', 'flow', 'is', 'tight', '-']\n",
      "My Banking Series is up on my blog (Navy Fed, AMEX, Discover, USAA, and DCU)\n",
      "['my', 'banking', 'series', 'is', 'up', 'on', 'my', 'blog', 'navy', 'fed', 'amex', 'discover', 'usaa', 'and', 'dcu']\n",
      "Hi thanks for reaching out. You can speak with our Customer Care Professionals by calling the number on the back of your card, chatting online at or tweeting us. We will work together to find a solution. We’re here and ready to help.\n",
      "['hi', 'thanks', 'for', 'reaching', 'out.', 'you', 'can', 'speak', 'with', 'our', 'customer', 'care', 'professionals', 'by', 'calling', 'the', 'number', 'on', 'the', 'back', 'of', 'your', 'card', 'chatting', 'online', 'at', 'or', 'tweeting', 'us.', 'we', 'will', 'work', 'together', 'to', 'find', 'a', 'solution.', 'were', 'here', 'and', 'ready', 'to', 'help.']\n",
      "How American Express Came Through With Q Results\n",
      "['how', 'american', 'express', 'came', 'through', 'with', 'q', 'results']\n",
      "My fiancé and I booked a trip for a wedding in April through . The airline cancelled the flight. I contacted the airline to request a refund per guidelines requiring a refund if the airline cancels the flight.\n",
      "['my', 'fiancé', 'and', 'i', 'booked', 'a', 'trip', 'for', 'a', 'wedding', 'in', 'april', 'through', '.', 'the', 'airline', 'cancelled', 'the', 'flight.', 'i', 'contacted', 'the', 'airline', 'to', 'request', 'a', 'refund', 'per', 'guidelines', 'requiring', 'a', 'refund', 'if', 'the', 'airline', 'cancels', 'the', 'flight.']\n",
      "FSP - Franklin Street Properties Corp. to Announce First Quarter  Results\n",
      "['fsp', '-', 'franklin', 'street', 'properties', 'corp.', 'to', 'announce', 'first', 'quarter', 'results']\n",
      "My mom gone call my sister’s food stamp card an American Express Black card\n",
      "['my', 'mom', 'gone', 'call', 'my', 'sisters', 'food', 'stamp', 'card', 'an', 'american', 'express', 'black', 'card']\n",
      "how do you dispose of the metal cards? Do you have an address to mail them to recycle?\n",
      "['how', 'do', 'you', 'dispose', 'of', 'the', 'metal', 'cards', 'do', 'you', 'have', 'an', 'address', 'to', 'mail', 'them', 'to', 'recycle']\n",
      "Napa Valley Tesla Stocks making the biggest moves in the premarket: American Express, Verizon, Intel, Tesla & more - CNBC\n",
      "['napa', 'valley', 'tesla', 'stocks', 'making', 'the', 'biggest', 'moves', 'in', 'the', 'premarket', 'american', 'express', 'verizon', 'intel', 'tesla', 'more', '-', 'cnbc']\n",
      "Select Amex Cardholders: -Ct GoPro HERO Black Action Camera +  Statement Credit  + Free Shipping\n",
      "['select', 'amex', 'cardholders', '-ct', 'gopro', 'hero', 'black', 'action', 'camera', 'statement', 'credit', 'free', 'shipping']\n",
      "New Deal (ROCCAT Kain  Aimo RGB PC Gaming Mouse - Black .) -- . – . coupon . w/ % Amex/Discover...\n",
      "['new', 'deal', 'roccat', 'kain', 'aimo', 'rgb', 'pc', 'gaming', 'mouse', '-', 'black', '.', '--', '.', '–', '.', 'coupon', '.', 'w', 'amexdiscover...']\n",
      "New on our COVID- blog: Amazon has joined the coalition to support small businesses with educational content and resources.\n",
      "['new', 'on', 'our', 'covid-', 'blog', 'amazon', 'has', 'joined', 'the', 'coalition', 'to', 'support', 'small', 'businesses', 'with', 'educational', 'content', 'and', 'resources.']\n",
      ". & are donating up to M free hotel nights to frontline medical professionals caring for patients, incl members in good standing. Visit to search available hotels and book a reservation.\n",
      "['.', 'are', 'donating', 'up', 'to', 'm', 'free', 'hotel', 'nights', 'to', 'frontline', 'medical', 'professionals', 'caring', 'for', 'patients', 'incl', 'members', 'in', 'good', 'standing.', 'visit', 'to', 'search', 'available', 'hotels', 'and', 'book', 'a', 'reservation.']\n",
      "American Express AXP Scheduled to Post Earnings on Friday\n",
      "['american', 'express', 'axp', 'scheduled', 'to', 'post', 'earnings', 'on', 'friday']\n",
      "a Swiss Army knife and an Amex card.\n",
      "['a', 'swiss', 'army', 'knife', 'and', 'an', 'amex', 'card.']\n",
      "Of wire transfers, personal check, or American Express cards?\n",
      "['of', 'wire', 'transfers', 'personal', 'check', 'or', 'american', 'express', 'cards']\n",
      "Investment Analysts’ Weekly Ratings Updates for American Express AXP\n",
      "['investment', 'analysts', 'weekly', 'ratings', 'updates', 'for', 'american', 'express', 'axp']\n",
      "On Friday's Out of The Comfort Zone will be talking about his Business Improv programs. With his approach to emphasize ways to foster collaborative cultures. He has worked with major brands including GOOGLE, Ford, & American Express.\n",
      "['on', 'fridays', 'out', 'of', 'the', 'comfort', 'zone', 'will', 'be', 'talking', 'about', 'his', 'business', 'improv', 'programs.', 'with', 'his', 'approach', 'to', 'emphasize', 'ways', 'to', 'foster', 'collaborative', 'cultures.', 'he', 'has', 'worked', 'with', 'major', 'brands', 'including', 'google', 'ford', 'american', 'express.']\n",
      "Rakuten Boosts Friend Referrals To /, Amex Points Each (Limited Time) via\n",
      "['rakuten', 'boosts', 'friend', 'referrals', 'to', 'amex', 'points', 'each', 'limited', 'time', 'via']\n",
      "ratetake: Stocks making the biggest moves in the premarket: American Express, Verizon, Intel, Tesla & more via\n",
      "['ratetake', 'stocks', 'making', 'the', 'biggest', 'moves', 'in', 'the', 'premarket', 'american', 'express', 'verizon', 'intel', 'tesla', 'more', 'via']\n",
      "A Peek Into The Markets: US Stock Futures Up Ahead Of Verizon, American Express Earnings VZ AXP EBAY INTC WWE\n",
      "['a', 'peek', 'into', 'the', 'markets', 'us', 'stock', 'futures', 'up', 'ahead', 'of', 'verizon', 'american', 'express', 'earnings', 'vz', 'axp', 'ebay', 'intc', 'wwe']\n",
      "Recap: American Express Q Earnings AXP\n",
      "['recap', 'american', 'express', 'q', 'earnings', 'axp']\n",
      "Resource: has partnered with over  cos including , , , , & to launch ‘Stand for Small’ coalition to support small businesses impacted by coronavirus. Read more: .\n",
      "['resource', 'has', 'partnered', 'with', 'over', 'cos', 'including', 'to', 'launch', '‘stand', 'for', 'small', 'coalition', 'to', 'support', 'small', 'businesses', 'impacted', 'by', 'coronavirus.', 'read', 'more', '.']\n",
      "Disappointed with Amex. Been a customer for yrs. Due to COVID I was late on my pymt by about  weeks. Not over  days. Made a k pymt yesterday and immediately after that AMEX reduced my credit limit %. Terrible service to small business at a time like this.\n",
      "['disappointed', 'with', 'amex.', 'been', 'a', 'customer', 'for', 'yrs.', 'due', 'to', 'covid', 'i', 'was', 'late', 'on', 'my', 'pymt', 'by', 'about', 'weeks.', 'not', 'over', 'days.', 'made', 'a', 'k', 'pymt', 'yesterday', 'and', 'immediately', 'after', 'that', 'amex', 'reduced', 'my', 'credit', 'limit', '.', 'terrible', 'service', 'to', 'small', 'business', 'at', 'a', 'time', 'like', 'this.']\n"
     ]
    },
    {
     "name": "stdout",
     "output_type": "stream",
     "text": [
      "Not good and really not helpful. I had to physically mail in the dispute paperwork because the website does not allow downloading or emailing or have real humans to talk too. You all are too big and now I’m looking for a new CC company. Amex handles these issues via chat.\n",
      "['not', 'good', 'and', 'really', 'not', 'helpful.', 'i', 'had', 'to', 'physically', 'mail', 'in', 'the', 'dispute', 'paperwork', 'because', 'the', 'website', 'does', 'not', 'allow', 'downloading', 'or', 'emailing', 'or', 'have', 'real', 'humans', 'to', 'talk', 'too.', 'you', 'all', 'are', 'too', 'big', 'and', 'now', 'im', 'looking', 'for', 'a', 'new', 'cc', 'company.', 'amex', 'handles', 'these', 'issues', 'via', 'chat.']\n",
      " year AMEX Platinum member receiving the worst service imaginable. Platinum travel has Incompetent people working. Flight changed, cannot make tour in time, AMEX will not refund points or money\n",
      "['year', 'amex', 'platinum', 'member', 'receiving', 'the', 'worst', 'service', 'imaginable.', 'platinum', 'travel', 'has', 'incompetent', 'people', 'working.', 'flight', 'changed', 'cannot', 'make', 'tour', 'in', 'time', 'amex', 'will', 'not', 'refund', 'points', 'or', 'money']\n",
      "This is very disrespectful to your customers. You guys are suspending access to accounts and then not allowing people to connect to anyone on your end to solve the issue. I had fraud on my account and in return it was locked without my permission.\n",
      "['this', 'is', 'very', 'disrespectful', 'to', 'your', 'customers.', 'you', 'guys', 'are', 'suspending', 'access', 'to', 'accounts', 'and', 'then', 'not', 'allowing', 'people', 'to', 'connect', 'to', 'anyone', 'on', 'your', 'end', 'to', 'solve', 'the', 'issue.', 'i', 'had', 'fraud', 'on', 'my', 'account', 'and', 'in', 'return', 'it', 'was', 'locked', 'without', 'my', 'permission.']\n",
      "trying to be sneaky & cancel my auto pay without letting me know , then charging me a late fee. Trying to make up the losses by screwing ur customers? Not happy\n",
      "['trying', 'to', 'be', 'sneaky', 'cancel', 'my', 'auto', 'pay', 'without', 'letting', 'me', 'know', 'then', 'charging', 'me', 'a', 'late', 'fee.', 'trying', 'to', 'make', 'up', 'the', 'losses', 'by', 'screwing', 'ur', 'customers', 'not', 'happy']\n",
      "What has happened to you? You've been my favorite card. You seemed to have lost that edge. So disappointed. Large companies performing poorly.\n",
      "['what', 'has', 'happened', 'to', 'you', 'youve', 'been', 'my', 'favorite', 'card.', 'you', 'seemed', 'to', 'have', 'lost', 'that', 'edge.', 'so', 'disappointed.', 'large', 'companies', 'performing', 'poorly.']\n",
      "Hmm... Him: *holding her envelope from Amex* it’s a shame that AmEx wasn’t able to fulfill your request to go paperless. Must be a processing failure on their end. *narrator* He avoided a potentially painful exit with verbal agility\n",
      "['hmm...', 'him', 'holding', 'her', 'envelope', 'from', 'amex', 'its', 'a', 'shame', 'that', 'amex', 'wasnt', 'able', 'to', 'fulfill', 'your', 'request', 'to', 'go', 'paperless.', 'must', 'be', 'a', 'processing', 'failure', 'on', 'their', 'end.', 'narrator', 'he', 'avoided', 'a', 'potentially', 'painful', 'exit', 'with', 'verbal', 'agility']\n",
      "Great so now my AMEX card is due and I've got to either pay it ++ and sit on these items or pay you  to return the items. I love you but that's ridiculous. This is good-bye. (PS - I've been a card holder since !)\n",
      "['great', 'so', 'now', 'my', 'amex', 'card', 'is', 'due', 'and', 'ive', 'got', 'to', 'either', 'pay', 'it', 'and', 'sit', 'on', 'these', 'items', 'or', 'pay', 'you', 'to', 'return', 'the', 'items.', 'i', 'love', 'you', 'but', 'thats', 'ridiculous.', 'this', 'is', 'good-bye.', 'ps', '-', 'ive', 'been', 'a', 'card', 'holder', 'since']\n",
      "I've bought everything on my Amex for years, still have not found one good time to use the points. The whole credit card rewards game is a scam.\n",
      "['ive', 'bought', 'everything', 'on', 'my', 'amex', 'for', 'years', 'still', 'have', 'not', 'found', 'one', 'good', 'time', 'to', 'use', 'the', 'points.', 'the', 'whole', 'credit', 'card', 'rewards', 'game', 'is', 'a', 'scam.']\n",
      "Have tried multiple times with different credit cards (visa and amex) to make account purchase. Transaction continually fails. Banks say \"there's no problem on their end, it is on the merchant side\". Are you having cc transaction problems??\n",
      "['have', 'tried', 'multiple', 'times', 'with', 'different', 'credit', 'cards', 'visa', 'and', 'amex', 'to', 'make', 'account', 'purchase.', 'transaction', 'continually', 'fails.', 'banks', 'say', 'theres', 'no', 'problem', 'on', 'their', 'end', 'it', 'is', 'on', 'the', 'merchant', 'side.', 'are', 'you', 'having', 'cc', 'transaction', 'problems']\n",
      "I've been trying to get through to American Express for days. They finally take my call. Them hang up on me as soon as I tell them what the problem is. Now they are not accepting calls again.\n",
      "['ive', 'been', 'trying', 'to', 'get', 'through', 'to', 'american', 'express', 'for', 'days.', 'they', 'finally', 'take', 'my', 'call.', 'them', 'hang', 'up', 'on', 'me', 'as', 'soon', 'as', 'i', 'tell', 'them', 'what', 'the', 'problem', 'is.', 'now', 'they', 'are', 'not', 'accepting', 'calls', 'again.']\n",
      "Assurance has failed at the one job it had to do, INSURE MY FLIGHT! Since filing my claim a month and a half ago, still no resolution and my flight is supposed to leave tomorrow. Do not use AMEX Assurance flight insurance. TERRIBLE!!!\n",
      "['assurance', 'has', 'failed', 'at', 'the', 'one', 'job', 'it', 'had', 'to', 'do', 'insure', 'my', 'flight', 'since', 'filing', 'my', 'claim', 'a', 'month', 'and', 'a', 'half', 'ago', 'still', 'no', 'resolution', 'and', 'my', 'flight', 'is', 'supposed', 'to', 'leave', 'tomorrow.', 'do', 'not', 'use', 'amex', 'assurance', 'flight', 'insurance.', 'terrible']\n",
      "Amex has become the worst in customer service with COVID-. Other issuers like Chase are giving fee breaks etc because premium cards aren't so useful when you can't travel. Amex is so greedy they won't give you a break on the Platinum card when you can't use\n",
      "['amex', 'has', 'become', 'the', 'worst', 'in', 'customer', 'service', 'with', 'covid-.', 'other', 'issuers', 'like', 'chase', 'are', 'giving', 'fee', 'breaks', 'etc', 'because', 'premium', 'cards', 'arent', 'so', 'useful', 'when', 'you', 'cant', 'travel.', 'amex', 'is', 'so', 'greedy', 'they', 'wont', 'give', 'you', 'a', 'break', 'on', 'the', 'platinum', 'card', 'when', 'you', 'cant', 'use']\n",
      "Market Snapshot: S&P , Nasdaq cling to slight gains but head for weekly loss, as investors weigh earnings, coronavirus outlook\n",
      "['market', 'snapshot', 'sp', 'nasdaq', 'cling', 'to', 'slight', 'gains', 'but', 'head', 'for', 'weekly', 'loss', 'as', 'investors', 'weigh', 'earnings', 'coronavirus', 'outlook']\n",
      "Already filed complaint with against . Soon to file complaints against . Not only is in the wrong from a legal standpoint, but this is a terrible way to treat customers during a pandemic!\n",
      "['already', 'filed', 'complaint', 'with', 'against', '.', 'soon', 'to', 'file', 'complaints', 'against', '.', 'not', 'only', 'is', 'in', 'the', 'wrong', 'from', 'a', 'legal', 'standpoint', 'but', 'this', 'is', 'a', 'terrible', 'way', 'to', 'treat', 'customers', 'during', 'a', 'pandemic']\n",
      "has been absolutely AWFUL. Spent TWO hours on customer service Friday on a payment plan, and they cut me off AGAIN\n",
      "['has', 'been', 'absolutely', 'awful.', 'spent', 'two', 'hours', 'on', 'customer', 'service', 'friday', 'on', 'a', 'payment', 'plan', 'and', 'they', 'cut', 'me', 'off', 'again']\n",
      "do you support this? Ticketmaster is a joke. My event is in may in Canada the border is closed until June & they refuse to issue a refund during an awful time. Its sick and disgusting. Even if it was played I cant attend the border will be closed\n",
      "['do', 'you', 'support', 'this', 'ticketmaster', 'is', 'a', 'joke.', 'my', 'event', 'is', 'in', 'may', 'in', 'canada', 'the', 'border', 'is', 'closed', 'until', 'june', 'they', 'refuse', 'to', 'issue', 'a', 'refund', 'during', 'an', 'awful', 'time.', 'its', 'sick', 'and', 'disgusting.', 'even', 'if', 'it', 'was', 'played', 'i', 'cant', 'attend', 'the', 'border', 'will', 'be', 'closed']\n",
      "In a time when most companies are helping their customers, you have failed. I struggled but paid my bill in full, and the following day my membership fee showed up. Customer service was not flexible and said no way they could waive the fee. FAIL\n",
      "['in', 'a', 'time', 'when', 'most', 'companies', 'are', 'helping', 'their', 'customers', 'you', 'have', 'failed.', 'i', 'struggled', 'but', 'paid', 'my', 'bill', 'in', 'full', 'and', 'the', 'following', 'day', 'my', 'membership', 'fee', 'showed', 'up.', 'customer', 'service', 'was', 'not', 'flexible', 'and', 'said', 'no', 'way', 'they', 'could', 'waive', 'the', 'fee.', 'fail']\n"
     ]
    },
    {
     "name": "stdout",
     "output_type": "stream",
     "text": [
      "major fail - placed order, was cancelled for no reason  minutes later, restaurant had no idea why, and Uber cash including AmEx platinum monthly bonus not immediately returned. Off to seamless I went. First time using and major disappointment.\n",
      "['major', 'fail', '-', 'placed', 'order', 'was', 'cancelled', 'for', 'no', 'reason', 'minutes', 'later', 'restaurant', 'had', 'no', 'idea', 'why', 'and', 'uber', 'cash', 'including', 'amex', 'platinum', 'monthly', 'bonus', 'not', 'immediately', 'returned.', 'off', 'to', 'seamless', 'i', 'went.', 'first', 'time', 'using', 'and', 'major', 'disappointment.']\n",
      "i was denied PPP because you still have me noted as deceased. I wrote a complaint to and you admitted the mistake. but you refused to change it. lied\n",
      "['i', 'was', 'denied', 'ppp', 'because', 'you', 'still', 'have', 'me', 'noted', 'as', 'deceased.', 'i', 'wrote', 'a', 'complaint', 'to', 'and', 'you', 'admitted', 'the', 'mistake.', 'but', 'you', 'refused', 'to', 'change', 'it.', 'lied']\n",
      "To the Gold card. Pretty disappointed. AMEX has always been NUMBER ONE in my opinion when it comes to customer service. Chase even is offering  credits on the Sapphire card due to Covid. Super disappointed and let down that AMEX wouldn’t work with me outside of downgrading.\n",
      "['to', 'the', 'gold', 'card.', 'pretty', 'disappointed.', 'amex', 'has', 'always', 'been', 'number', 'one', 'in', 'my', 'opinion', 'when', 'it', 'comes', 'to', 'customer', 'service.', 'chase', 'even', 'is', 'offering', 'credits', 'on', 'the', 'sapphire', 'card', 'due', 'to', 'covid.', 'super', 'disappointed', 'and', 'let', 'down', 'that', 'amex', 'wouldnt', 'work', 'with', 'me', 'outside', 'of', 'downgrading.']\n",
      "Whatever you do, don’t have your tax return  put in an Serve account. When you call for assistance, they won’t even take your call and they don’t offer online chat or email either. If you need help, you’re screwed. Sigh.\n",
      "['whatever', 'you', 'do', 'dont', 'have', 'your', 'tax', 'return', 'put', 'in', 'an', 'serve', 'account.', 'when', 'you', 'call', 'for', 'assistance', 'they', 'wont', 'even', 'take', 'your', 'call', 'and', 'they', 'dont', 'offer', 'online', 'chat', 'or', 'email', 'either.', 'if', 'you', 'need', 'help', 'youre', 'screwed.', 'sigh.']\n",
      "Hey - what's the point of insurance if people get ignored when they need help and then hear a bunch of bs when they try to sort it out later? deserves compensation from you. Stop wasting her time with nonsense responses.\n",
      "['hey', '-', 'whats', 'the', 'point', 'of', 'insurance', 'if', 'people', 'get', 'ignored', 'when', 'they', 'need', 'help', 'and', 'then', 'hear', 'a', 'bunch', 'of', 'bs', 'when', 'they', 'try', 'to', 'sort', 'it', 'out', 'later', 'deserves', 'compensation', 'from', 'you.', 'stop', 'wasting', 'her', 'time', 'with', 'nonsense', 'responses.']\n",
      "WOW way to make COVVID- worse- refusing to waive annual membership fees when people have lost their jobs. Guess you don’t care about your customers as much as you say you do...\n",
      "['wow', 'way', 'to', 'make', 'covvid-', 'worse-', 'refusing', 'to', 'waive', 'annual', 'membership', 'fees', 'when', 'people', 'have', 'lost', 'their', 'jobs.', 'guess', 'you', 'dont', 'care', 'about', 'your', 'customers', 'as', 'much', 'as', 'you', 'say', 'you', 'do...']\n",
      "you are withholding payment to a mother of  during COVID. Your service is not helpful. I sent funds to my vendor and it’s being held by you. Having deal with this as your service is absolutely awful\n",
      "['you', 'are', 'withholding', 'payment', 'to', 'a', 'mother', 'of', 'during', 'covid.', 'your', 'service', 'is', 'not', 'helpful.', 'i', 'sent', 'funds', 'to', 'my', 'vendor', 'and', 'its', 'being', 'held', 'by', 'you.', 'having', 'deal', 'with', 'this', 'as', 'your', 'service', 'is', 'absolutely', 'awful']\n",
      "Just tried to cancel one of your cards. Rep said even though I haven't used it, I still have to pay next year's annual fee cause I called a few days too late. Shameful policy during a lockdown.  year customer. Never again.\n",
      "['just', 'tried', 'to', 'cancel', 'one', 'of', 'your', 'cards.', 'rep', 'said', 'even', 'though', 'i', 'havent', 'used', 'it', 'i', 'still', 'have', 'to', 'pay', 'next', 'years', 'annual', 'fee', 'cause', 'i', 'called', 'a', 'few', 'days', 'too', 'late.', 'shameful', 'policy', 'during', 'a', 'lockdown.', 'year', 'customer.', 'never', 'again.']\n",
      "but not after getting nowhere. Just poor service, AmEx. Disappointed beyond what I'd ever expect with such a prestigious company.\n",
      "['but', 'not', 'after', 'getting', 'nowhere.', 'just', 'poor', 'service', 'amex.', 'disappointed', 'beyond', 'what', 'id', 'ever', 'expect', 'with', 'such', 'a', 'prestigious', 'company.']\n",
      "I am upset with how irs is handling stimulus I still haven’t recieved anything and I set up direct deposit but Jackson hewitt Amex serve cards must not want to help customers sad to say I will not be filing with them again\n",
      "['i', 'am', 'upset', 'with', 'how', 'irs', 'is', 'handling', 'stimulus', 'i', 'still', 'havent', 'recieved', 'anything', 'and', 'i', 'set', 'up', 'direct', 'deposit', 'but', 'jackson', 'hewitt', 'amex', 'serve', 'cards', 'must', 'not', 'want', 'to', 'help', 'customers', 'sad', 'to', 'say', 'i', 'will', 'not', 'be', 'filing', 'with', 'them', 'again']\n",
      "American Express profit sinks % - For more information : - don't forget to subscribe\n",
      "['american', 'express', 'profit', 'sinks', '-', 'for', 'more', 'information', '-', 'dont', 'forget', 'to', 'subscribe']\n",
      "And I should note this is a rhetorical question bc I already got my money back from Amex, but wow. Why are y’all so awful?\n",
      "['and', 'i', 'should', 'note', 'this', 'is', 'a', 'rhetorical', 'question', 'bc', 'i', 'already', 'got', 'my', 'money', 'back', 'from', 'amex', 'but', 'wow.', 'why', 'are', 'yall', 'so', 'awful']\n",
      "Unless mi have like some k in them... holding out right now isnt worth it... prefer to pay off mi likkle debts so they dont become big debts, side note if amex mail u nu card cut it up\n",
      "['unless', 'mi', 'have', 'like', 'some', 'k', 'in', 'them...', 'holding', 'out', 'right', 'now', 'isnt', 'worth', 'it...', 'prefer', 'to', 'pay', 'off', 'mi', 'likkle', 'debts', 'so', 'they', 'dont', 'become', 'big', 'debts', 'side', 'note', 'if', 'amex', 'mail', 'u', 'nu', 'card', 'cut', 'it', 'up']\n",
      "Just to drive this home. It is not my idea of a good time to spend  hours of my evening speaking to  different agents who are all \"sorry\" that this is not the \"experience American Express intends\" for me. This is a crash and burn customer experience. Yikes.\n",
      "['just', 'to', 'drive', 'this', 'home.', 'it', 'is', 'not', 'my', 'idea', 'of', 'a', 'good', 'time', 'to', 'spend', 'hours', 'of', 'my', 'evening', 'speaking', 'to', 'different', 'agents', 'who', 'are', 'all', 'sorry', 'that', 'this', 'is', 'not', 'the', 'experience', 'american', 'express', 'intends', 'for', 'me.', 'this', 'is', 'a', 'crash', 'and', 'burn', 'customer', 'experience.', 'yikes.']\n",
      "You do know that's impossible right. Nobody is taking calls. Stop giving out this advice. Its terrible.\n",
      "['you', 'do', 'know', 'thats', 'impossible', 'right.', 'nobody', 'is', 'taking', 'calls.', 'stop', 'giving', 'out', 'this', 'advice.', 'its', 'terrible.']\n",
      "I put it in a high yield amex savings account. Kinda wanna spend it on some dumb shit\n",
      "['i', 'put', 'it', 'in', 'a', 'high', 'yield', 'amex', 'savings', 'account.', 'kinda', 'wanna', 'spend', 'it', 'on', 'some', 'dumb', 'shit']\n",
      "Just cancelled my account after many years of being a Delta Reserve Member. Your refusal to side with your customers SXSW is disgusting. So much for AMEX's legendary consumer protection. At least I got half of my money back via refund of your exorbitant  fee.\n",
      "['just', 'cancelled', 'my', 'account', 'after', 'many', 'years', 'of', 'being', 'a', 'delta', 'reserve', 'member.', 'your', 'refusal', 'to', 'side', 'with', 'your', 'customers', 'sxsw', 'is', 'disgusting.', 'so', 'much', 'for', 'amexs', 'legendary', 'consumer', 'protection.', 'at', 'least', 'i', 'got', 'half', 'of', 'my', 'money', 'back', 'via', 'refund', 'of', 'your', 'exorbitant', 'fee.']\n",
      "Alright go ahead and run my card on May st per your misguided (to put it mildly) reopening plan. I blocked your future charges with . I was able to chat w/ a rep immediately & she even inquired as to my health & safety -- imagine that!\n",
      "['alright', 'go', 'ahead', 'and', 'run', 'my', 'card', 'on', 'may', 'st', 'per', 'your', 'misguided', 'to', 'put', 'it', 'mildly', 'reopening', 'plan.', 'i', 'blocked', 'your', 'future', 'charges', 'with', '.', 'i', 'was', 'able', 'to', 'chat', 'w', 'a', 'rep', 'immediately', 'she', 'even', 'inquired', 'as', 'to', 'my', 'health', 'safety', '--', 'imagine', 'that']\n"
     ]
    },
    {
     "name": "stdout",
     "output_type": "stream",
     "text": [
      "wait, so the only way I can update my User ID for is to \"cancel your current online account and re-register with a new User ID\"? Really? This seems like a simple feature for your IT team to tackle in ! Update your Web Product Roadmap.\n",
      "['wait', 'so', 'the', 'only', 'way', 'i', 'can', 'update', 'my', 'user', 'id', 'for', 'is', 'to', 'cancel', 'your', 'current', 'online', 'account', 'and', 're-register', 'with', 'a', 'new', 'user', 'id', 'really', 'this', 'seems', 'like', 'a', 'simple', 'feature', 'for', 'your', 'it', 'team', 'to', 'tackle', 'in', 'update', 'your', 'web', 'product', 'roadmap.']\n",
      "Hey been waiting for almost a month for a refund on a damaged item you sent. Customer service was useless so did chargeback on . You have just lost a customer...\n",
      "['hey', 'been', 'waiting', 'for', 'almost', 'a', 'month', 'for', 'a', 'refund', 'on', 'a', 'damaged', 'item', 'you', 'sent.', 'customer', 'service', 'was', 'useless', 'so', 'did', 'chargeback', 'on', '.', 'you', 'have', 'just', 'lost', 'a', 'customer...']\n",
      "I should’ve put the chipotle bowl I just had on my Amex. That way I could’ve disputed that nasty ass shit I just ate.\n",
      "['i', 'shouldve', 'put', 'the', 'chipotle', 'bowl', 'i', 'just', 'had', 'on', 'my', 'amex.', 'that', 'way', 'i', 'couldve', 'disputed', 'that', 'nasty', 'ass', 'shit', 'i', 'just', 'ate.']\n",
      "Really starting to question whether the giant corporation that is AmEx has its shit together as I am waiting on hold to speak to the th person of the night after trying to resolve an issue that I've been calling about since DECEMBER. Close to losing me.\n",
      "['really', 'starting', 'to', 'question', 'whether', 'the', 'giant', 'corporation', 'that', 'is', 'amex', 'has', 'its', 'shit', 'together', 'as', 'i', 'am', 'waiting', 'on', 'hold', 'to', 'speak', 'to', 'the', 'th', 'person', 'of', 'the', 'night', 'after', 'trying', 'to', 'resolve', 'an', 'issue', 'that', 'ive', 'been', 'calling', 'about', 'since', 'december.', 'close', 'to', 'losing', 'me.']\n",
      "I don't know. It was a bullshit post I let out. I doubt I can maintain an Amex. But this nd CC would be for emergencies\n",
      "['i', 'dont', 'know.', 'it', 'was', 'a', 'bullshit', 'post', 'i', 'let', 'out.', 'i', 'doubt', 'i', 'can', 'maintain', 'an', 'amex.', 'but', 'this', 'nd', 'cc', 'would', 'be', 'for', 'emergencies']\n",
      "my fucking flashlights not working on my iPhone all of a sudden; Amex won’t pick up phone; I’m hungry for salmon, rice, and eggs.\n",
      "['my', 'fucking', 'flashlights', 'not', 'working', 'on', 'my', 'iphone', 'all', 'of', 'a', 'sudden', 'amex', 'wont', 'pick', 'up', 'phone', 'im', 'hungry', 'for', 'salmon', 'rice', 'and', 'eggs.']\n",
      "No need to reply. Amex made me make a payment and received one in the mail. Bad customer service during this time means changing credit cards. Adding stress during this time is unacceptable.\n",
      "['no', 'need', 'to', 'reply.', 'amex', 'made', 'me', 'make', 'a', 'payment', 'and', 'received', 'one', 'in', 'the', 'mail.', 'bad', 'customer', 'service', 'during', 'this', 'time', 'means', 'changing', 'credit', 'cards.', 'adding', 'stress', 'during', 'this', 'time', 'is', 'unacceptable.']\n",
      "Dear You brand of \"support\" for small businesses during this crisis is abyssmal. Pulling the rug out from underneath someone you admit is a good risk, now?. WTH is wrong with you guys? See ya!\n",
      "['dear', 'you', 'brand', 'of', 'support', 'for', 'small', 'businesses', 'during', 'this', 'crisis', 'is', 'abyssmal.', 'pulling', 'the', 'rug', 'out', 'from', 'underneath', 'someone', 'you', 'admit', 'is', 'a', 'good', 'risk', 'now.', 'wth', 'is', 'wrong', 'with', 'you', 'guys', 'see', 'ya']\n",
      "Girl Amex is gone be like “bitch would u like it in the form of statement credit or a refund to your bank” .. instantly. Lol trash.\n",
      "['girl', 'amex', 'is', 'gone', 'be', 'like', '“bitch', 'would', 'u', 'like', 'it', 'in', 'the', 'form', 'of', 'statement', 'credit', 'or', 'a', 'refund', 'to', 'your', 'bank”', '..', 'instantly.', 'lol', 'trash.']\n",
      "I have a question. How long does it take for american express serve to send back my federal tax refund? My card got suspended for what reason? Have no idea! I need to know because this is my money you guys are playing with! I will speak to my lawyer. CantHoldMyMoney\n",
      "['i', 'have', 'a', 'question.', 'how', 'long', 'does', 'it', 'take', 'for', 'american', 'express', 'serve', 'to', 'send', 'back', 'my', 'federal', 'tax', 'refund', 'my', 'card', 'got', 'suspended', 'for', 'what', 'reason', 'have', 'no', 'idea', 'i', 'need', 'to', 'know', 'because', 'this', 'is', 'my', 'money', 'you', 'guys', 'are', 'playing', 'with', 'i', 'will', 'speak', 'to', 'my', 'lawyer.', 'cantholdmymoney']\n",
      "and to make matters worse, after over an hour on the phone - all of the sudden the hold music stopped and I was hung up on. I've used y'all as a best practice for customer service, but you've broken my trust in really damning ways for your company.\n",
      "['and', 'to', 'make', 'matters', 'worse', 'after', 'over', 'an', 'hour', 'on', 'the', 'phone', '-', 'all', 'of', 'the', 'sudden', 'the', 'hold', 'music', 'stopped', 'and', 'i', 'was', 'hung', 'up', 'on.', 'ive', 'used', 'yall', 'as', 'a', 'best', 'practice', 'for', 'customer', 'service', 'but', 'youve', 'broken', 'my', 'trust', 'in', 'really', 'damning', 'ways', 'for', 'your', 'company.']\n",
      "cancelled arbitration & sent the case back to court. THE CASE SHOULD NEVER HAVE GONE FORWARD AS AMERICAN EXPRESS HAS NO RIGHT TO SUE TO BEGIN WITH DAHHHHHH CLURT HAS AS I ANTICIPATED ALREADY BEEN UNFAIR AS I FILED SUITS AS I AM FED UP WITH BEING FUCKED IN A WAY I DO NOT ENJOY\n",
      "['cancelled', 'arbitration', 'sent', 'the', 'case', 'back', 'to', 'court.', 'the', 'case', 'should', 'never', 'have', 'gone', 'forward', 'as', 'american', 'express', 'has', 'no', 'right', 'to', 'sue', 'to', 'begin', 'with', 'dahhhhhh', 'clurt', 'has', 'as', 'i', 'anticipated', 'already', 'been', 'unfair', 'as', 'i', 'filed', 'suits', 'as', 'i', 'am', 'fed', 'up', 'with', 'being', 'fucked', 'in', 'a', 'way', 'i', 'do', 'not', 'enjoy']\n",
      "How long is this shit suppose to go on?! Can’t even get gas. And I can’t transfer money or do a cash pickup\n",
      "['how', 'long', 'is', 'this', 'shit', 'suppose', 'to', 'go', 'on', 'cant', 'even', 'get', 'gas.', 'and', 'i', 'cant', 'transfer', 'money', 'or', 'do', 'a', 'cash', 'pickup']\n",
      "Ppl who use American Express Serve/Bluebird accounts havent had access to their money since last Wednesday. Not even access to our regular money that we already had in there. They closed their customer service down as well and Amex is just saying 'oops our bad we lost your money'\n",
      "['ppl', 'who', 'use', 'american', 'express', 'servebluebird', 'accounts', 'havent', 'had', 'access', 'to', 'their', 'money', 'since', 'last', 'wednesday.', 'not', 'even', 'access', 'to', 'our', 'regular', 'money', 'that', 'we', 'already', 'had', 'in', 'there.', 'they', 'closed', 'their', 'customer', 'service', 'down', 'as', 'well', 'and', 'amex', 'is', 'just', 'saying', 'oops', 'our', 'bad', 'we', 'lost', 'your', 'money']\n",
      "people are desperate - offer use of your cards INTEREST FREE until people get their government checks - please! Help out and do the right thing! The world will remember your generosity!\n",
      "['people', 'are', 'desperate', '-', 'offer', 'use', 'of', 'your', 'cards', 'interest', 'free', 'until', 'people', 'get', 'their', 'government', 'checks', '-', 'please', 'help', 'out', 'and', 'do', 'the', 'right', 'thing', 'the', 'world', 'will', 'remember', 'your', 'generosity']\n",
      "AmEx quarterly profit plunges per cent on US. billion reserve build\n",
      "['amex', 'quarterly', 'profit', 'plunges', 'per', 'cent', 'on', 'us.', 'billion', 'reserve', 'build']\n",
      "Charged! Not changed. It’s over . American Express is canceling it but I’d love to get my account fixed ASAP!\n",
      "['charged', 'not', 'changed.', 'its', 'over', '.', 'american', 'express', 'is', 'canceling', 'it', 'but', 'id', 'love', 'to', 'get', 'my', 'account', 'fixed', 'asap']\n",
      "flat out refused a refund despite me reading the guidance to the customer service rep. I called and despite having both protection on my card for covered cancellations and purchased an additional travel insurance policy, they refused to refund.\n",
      "['flat', 'out', 'refused', 'a', 'refund', 'despite', 'me', 'reading', 'the', 'guidance', 'to', 'the', 'customer', 'service', 'rep.', 'i', 'called', 'and', 'despite', 'having', 'both', 'protection', 'on', 'my', 'card', 'for', 'covered', 'cancellations', 'and', 'purchased', 'an', 'additional', 'travel', 'insurance', 'policy', 'they', 'refused', 'to', 'refund.']\n"
     ]
    },
    {
     "name": "stdout",
     "output_type": "stream",
     "text": [
      "AMEX IS THE WORST- TWO HOURS bounced around to five people three departments -- lot of talk no action -- compared to how helpful CHASE VISA, BofA VISA and Citi - AMEX IS THE WORST!!!!\n",
      "['amex', 'is', 'the', 'worst-', 'two', 'hours', 'bounced', 'around', 'to', 'five', 'people', 'three', 'departments', '--', 'lot', 'of', 'talk', 'no', 'action', '--', 'compared', 'to', 'how', 'helpful', 'chase', 'visa', 'bofa', 'visa', 'and', 'citi', '-', 'amex', 'is', 'the', 'worst']\n",
      "PART  after  years you can't remove . during a pandemic. Hey yah maybe I put new acct number in but has the kingdom gotten so big Amex you can't be human so disappointing,\n",
      "['part', 'after', 'years', 'you', 'cant', 'remove', '.', 'during', 'a', 'pandemic.', 'hey', 'yah', 'maybe', 'i', 'put', 'new', 'acct', 'number', 'in', 'but', 'has', 'the', 'kingdom', 'gotten', 'so', 'big', 'amex', 'you', 'cant', 'be', 'human', 'so', 'disappointing']\n",
      "Hey -- Why won't you shut down or at least suspend to investigate a money pool that compromised my AMEX and attempted to defraud me last night? - emails later and your customer support people don't seem to care that the list of people contributing to ( of )\n",
      "['hey', '--', 'why', 'wont', 'you', 'shut', 'down', 'or', 'at', 'least', 'suspend', 'to', 'investigate', 'a', 'money', 'pool', 'that', 'compromised', 'my', 'amex', 'and', 'attempted', 'to', 'defraud', 'me', 'last', 'night', '-', 'emails', 'later', 'and', 'your', 'customer', 'support', 'people', 'dont', 'seem', 'to', 'care', 'that', 'the', 'list', 'of', 'people', 'contributing', 'to', 'of']\n",
      "still can’t get through to it has been DAYS. No one answers and the app and site aren’t working. People have bills to pay\n",
      "['still', 'cant', 'get', 'through', 'to', 'it', 'has', 'been', 'days.', 'no', 'one', 'answers', 'and', 'the', 'app', 'and', 'site', 'arent', 'working.', 'people', 'have', 'bills', 'to', 'pay']\n",
      "The point is that neither relevant market or market share is a platonic truth. They depend on the conduct at issue. An overlooked problem with the AMEX decision is not that the Courts botched detour into economics obfuscated rather than clarified the central issue.\n",
      "['the', 'point', 'is', 'that', 'neither', 'relevant', 'market', 'or', 'market', 'share', 'is', 'a', 'platonic', 'truth.', 'they', 'depend', 'on', 'the', 'conduct', 'at', 'issue.', 'an', 'overlooked', 'problem', 'with', 'the', 'amex', 'decision', 'is', 'not', 'that', 'the', 'courts', 'botched', 'detour', 'into', 'economics', 'obfuscated', 'rather', 'than', 'clarified', 'the', 'central', 'issue.']\n",
      "The junk bond market went from panic selling to panic buying in about two months of trading. The junk bond market can serve as a gauge for risk appetite or the level of faith investors have in risky high yield debt. Chart the HYG ETF here:\n",
      "['the', 'junk', 'bond', 'market', 'went', 'from', 'panic', 'selling', 'to', 'panic', 'buying', 'in', 'about', 'two', 'months', 'of', 'trading.', 'the', 'junk', 'bond', 'market', 'can', 'serve', 'as', 'a', 'gauge', 'for', 'risk', 'appetite', 'or', 'the', 'level', 'of', 'faith', 'investors', 'have', 'in', 'risky', 'high', 'yield', 'debt.', 'chart', 'the', 'hyg', 'etf', 'here']\n",
      "Wifey said get started with mY fish fry.. OH DAMM I SAID.. when I'm BAD I'M SOOOOO SOOOO BAD‼️\n",
      "['wifey', 'said', 'get', 'started', 'with', 'my', 'fish', 'fry..', 'oh', 'damm', 'i', 'said..', 'when', 'im', 'bad', 'im', 'sooooo', 'soooo', 'bad‼️']\n",
      "Amex is a pathetic scumbag company\n",
      "['amex', 'is', 'a', 'pathetic', 'scumbag', 'company']\n",
      "There are thousands of people right now that can't access their AMEX BlueBird accounts. I finally got through at  in the morning and was given a number to a line that ISN'T IN OPERATION! A working phone number for support is needed!\n",
      "['there', 'are', 'thousands', 'of', 'people', 'right', 'now', 'that', 'cant', 'access', 'their', 'amex', 'bluebird', 'accounts.', 'i', 'finally', 'got', 'through', 'at', 'in', 'the', 'morning', 'and', 'was', 'given', 'a', 'number', 'to', 'a', 'line', 'that', 'isnt', 'in', 'operation', 'a', 'working', 'phone', 'number', 'for', 'support', 'is', 'needed']\n",
      "Ohh no, someone charged us back  basically  months of service all at once, we lost the chargeback to amex and have to sue the customer now for chargeback fraud\n",
      "['ohh', 'no', 'someone', 'charged', 'us', 'back', 'basically', 'months', 'of', 'service', 'all', 'at', 'once', 'we', 'lost', 'the', 'chargeback', 'to', 'amex', 'and', 'have', 'to', 'sue', 'the', 'customer', 'now', 'for', 'chargeback', 'fraud']\n",
      "American Express quarterly profit plunges  per cent\n",
      "['american', 'express', 'quarterly', 'profit', 'plunges', 'per', 'cent']\n",
      "I applied for PPP in the online portal. Next day I got an email explaining that AMEX needed additional info and to log in and provide it. I logged into the portal and it didn’t state what additional info you needed /\n",
      "['i', 'applied', 'for', 'ppp', 'in', 'the', 'online', 'portal.', 'next', 'day', 'i', 'got', 'an', 'email', 'explaining', 'that', 'amex', 'needed', 'additional', 'info', 'and', 'to', 'log', 'in', 'and', 'provide', 'it.', 'i', 'logged', 'into', 'the', 'portal', 'and', 'it', 'didnt', 'state', 'what', 'additional', 'info', 'you', 'needed']\n",
      "Ridiculous ! Walmart says my shipment was in Orlando as of April . It’s now April  and it has still not been delivered and now it’s marked delayed! No one is responding to inquiries. Fake tracking? Postal issues? About to open dispute with AMEx.\n",
      "['ridiculous', 'walmart', 'says', 'my', 'shipment', 'was', 'in', 'orlando', 'as', 'of', 'april', '.', 'its', 'now', 'april', 'and', 'it', 'has', 'still', 'not', 'been', 'delivered', 'and', 'now', 'its', 'marked', 'delayed', 'no', 'one', 'is', 'responding', 'to', 'inquiries.', 'fake', 'tracking', 'postal', 'issues', 'about', 'to', 'open', 'dispute', 'with', 'amex.']\n",
      "I just got off the phone with a supervisor! I was told in order to qualify I could not be in an active status. It only applied to activated Soldiers. Direct contradiction to your press\n",
      "['i', 'just', 'got', 'off', 'the', 'phone', 'with', 'a', 'supervisor', 'i', 'was', 'told', 'in', 'order', 'to', 'qualify', 'i', 'could', 'not', 'be', 'in', 'an', 'active', 'status.', 'it', 'only', 'applied', 'to', 'activated', 'soldiers.', 'direct', 'contradiction', 'to', 'your', 'press']\n",
      "\"Discover, Capital One, American Express Co., JPMorgan Chase & Co. and other card issuers have together socked away billions of extra dollars to prepare for big potential loan losses.\"\n",
      "['discover', 'capital', 'one', 'american', 'express', 'co.', 'jpmorgan', 'chase', 'co.', 'and', 'other', 'card', 'issuers', 'have', 'together', 'socked', 'away', 'billions', 'of', 'extra', 'dollars', 'to', 'prepare', 'for', 'big', 'potential', 'loan', 'losses.']\n",
      "\"In this case, those groups are actually one and the same: State taxpayers are also federal taxpayers. In short, bailing out states with federal tax dollars is akin to using your American Express card to pay off your Visa.\"\n",
      "['in', 'this', 'case', 'those', 'groups', 'are', 'actually', 'one', 'and', 'the', 'same', 'state', 'taxpayers', 'are', 'also', 'federal', 'taxpayers.', 'in', 'short', 'bailing', 'out', 'states', 'with', 'federal', 'tax', 'dollars', 'is', 'akin', 'to', 'using', 'your', 'american', 'express', 'card', 'to', 'pay', 'off', 'your', 'visa.']\n",
      "Shame on you working with scumbag you sold out your words mean nothing\n",
      "['shame', 'on', 'you', 'working', 'with', 'scumbag', 'you', 'sold', 'out', 'your', 'words', 'mean', 'nothing']\n",
      " + TPS - Ripple's scaling solutions designed to be deployed from the beginning BoA, Santander, Standard Chartered, American Express...\n",
      "['tps', '-', 'ripples', 'scaling', 'solutions', 'designed', 'to', 'be', 'deployed', 'from', 'the', 'beginning', 'boa', 'santander', 'standard', 'chartered', 'american', 'express...']\n",
      "Awe hell no. I fucking can’t. I’m soo annoyed\n",
      "['awe', 'hell', 'no.', 'i', 'fucking', 'cant.', 'im', 'soo', 'annoyed']\n",
      "lied to me about a payment plan option for my small business and now has cut off my personal card. My payment plan was not honored\n",
      "['lied', 'to', 'me', 'about', 'a', 'payment', 'plan', 'option', 'for', 'my', 'small', 'business', 'and', 'now', 'has', 'cut', 'off', 'my', 'personal', 'card.', 'my', 'payment', 'plan', 'was', 'not', 'honored']\n"
     ]
    },
    {
     "name": "stdout",
     "output_type": "stream",
     "text": [
      "Market Snapshot: Dow struggles for foothold higher and heads for weekly loss, as investors weigh earnings, coronavirus outlook\n",
      "['market', 'snapshot', 'dow', 'struggles', 'for', 'foothold', 'higher', 'and', 'heads', 'for', 'weekly', 'loss', 'as', 'investors', 'weigh', 'earnings', 'coronavirus', 'outlook']\n",
      "Agreed! I've been dealing with this for years. It seems the Amex feels their prepaid customers are bottom of the barrel and not worth good customer service.\n",
      "['agreed', 'ive', 'been', 'dealing', 'with', 'this', 'for', 'years.', 'it', 'seems', 'the', 'amex', 'feels', 'their', 'prepaid', 'customers', 'are', 'bottom', 'of', 'the', 'barrel', 'and', 'not', 'worth', 'good', 'customer', 'service.']\n",
      "says & by cardholders fell %\n",
      "['says', 'by', 'cardholders', 'fell']\n",
      "Americans are LITERALLY starving here in Florida. What can you do to get people their money who use your SERVE card? They won't answer the phone. Locked out of the website and we can't even get a tweet from you?\n",
      "['americans', 'are', 'literally', 'starving', 'here', 'in', 'florida.', 'what', 'can', 'you', 'do', 'to', 'get', 'people', 'their', 'money', 'who', 'use', 'your', 'serve', 'card', 'they', 'wont', 'answer', 'the', 'phone.', 'locked', 'out', 'of', 'the', 'website', 'and', 'we', 'cant', 'even', 'get', 'a', 'tweet', 'from', 'you']\n",
      "Antipedo's rels in Paris and Khashoggi's in Tahoe were in Epstein's roladex. Antipedos in the case that ran behind David Boise' Amex Case were lucky to get charges on Ravelo and 'Fraud on the Court' into the Sentencing Memo.\n",
      "['antipedos', 'rels', 'in', 'paris', 'and', 'khashoggis', 'in', 'tahoe', 'were', 'in', 'epsteins', 'roladex.', 'antipedos', 'in', 'the', 'case', 'that', 'ran', 'behind', 'david', 'boise', 'amex', 'case', 'were', 'lucky', 'to', 'get', 'charges', 'on', 'ravelo', 'and', 'fraud', 'on', 'the', 'court', 'into', 'the', 'sentencing', 'memo.']\n",
      "anyways, tmrw I’m throwing a couple thou over to Amex and locking my debit card bc this is sure as hell gonna be the last thing I purchase during this paycheck-less mfing quarantine\n",
      "['anyways', 'tmrw', 'im', 'throwing', 'a', 'couple', 'thou', 'over', 'to', 'amex', 'and', 'locking', 'my', 'debit', 'card', 'bc', 'this', 'is', 'sure', 'as', 'hell', 'gonna', 'be', 'the', 'last', 'thing', 'i', 'purchase', 'during', 'this', 'paycheck-less', 'mfing', 'quarantine']\n",
      "Arrest and punish all greedy owners of VISA, MasterCard, Discover and American Express who extorted trillions of dollars in very high interest income from credit card users. The maximum interest rate must be fixed at ONE percent for all credit card debts through anti-usury laws.\n",
      "['arrest', 'and', 'punish', 'all', 'greedy', 'owners', 'of', 'visa', 'mastercard', 'discover', 'and', 'american', 'express', 'who', 'extorted', 'trillions', 'of', 'dollars', 'in', 'very', 'high', 'interest', 'income', 'from', 'credit', 'card', 'users.', 'the', 'maximum', 'interest', 'rate', 'must', 'be', 'fixed', 'at', 'one', 'percent', 'for', 'all', 'credit', 'card', 'debts', 'through', 'anti-usury', 'laws.']\n",
      "Bloomberg news: American Express is blaming their losses on a \"national stay at home order?\"  did I miss that executive order? Of course that is what should have done in Feb for  days...but failed to do so\n",
      "['bloomberg', 'news', 'american', 'express', 'is', 'blaming', 'their', 'losses', 'on', 'a', 'national', 'stay', 'at', 'home', 'order', 'did', 'i', 'miss', 'that', 'executive', 'order', 'of', 'course', 'that', 'is', 'what', 'should', 'have', 'done', 'in', 'feb', 'for', 'days...but', 'failed', 'to', 'do', 'so']\n",
      "chargebacks are hard to win, we just had someone commit chargeback fraud against us for close to ,. having to handle it in court. we lost the disputes, amex is nearly impossible to beat even when you have indisputable evidence.\n",
      "['chargebacks', 'are', 'hard', 'to', 'win', 'we', 'just', 'had', 'someone', 'commit', 'chargeback', 'fraud', 'against', 'us', 'for', 'close', 'to', '.', 'having', 'to', 'handle', 'it', 'in', 'court.', 'we', 'lost', 'the', 'disputes', 'amex', 'is', 'nearly', 'impossible', 'to', 'beat', 'even', 'when', 'you', 'have', 'indisputable', 'evidence.']\n",
      "Damn you guys are still charging the  fee for the platinum card with what is going on now even though most of the perks are useless right now?\n",
      "['damn', 'you', 'guys', 'are', 'still', 'charging', 'the', 'fee', 'for', 'the', 'platinum', 'card', 'with', 'what', 'is', 'going', 'on', 'now', 'even', 'though', 'most', 'of', 'the', 'perks', 'are', 'useless', 'right', 'now']\n",
      "American Express AXP Tops Q EPS by c; Warns COVID- 'Dramatically' Impacted Volumes\n",
      "['american', 'express', 'axp', 'tops', 'q', 'eps', 'by', 'c', 'warns', 'covid-', 'dramatically', 'impacted', 'volumes']\n",
      "Delta Denies Discussing Big Sale Of Miles To American Express To Raise Cash via\n",
      "['delta', 'denies', 'discussing', 'big', 'sale', 'of', 'miles', 'to', 'american', 'express', 'to', 'raise', 'cash', 'via']\n",
      "Directional Bias for American Express AXP Trading Report Click for Details\n",
      "['directional', 'bias', 'for', 'american', 'express', 'axp', 'trading', 'report', 'click', 'for', 'details']\n",
      "do the corporate bigwigs know that the AMEX Serve brand is % down ?? No access to money , and no one answers at customer service?? I get my paycheck deposited on This not just my stimulus\n",
      "['do', 'the', 'corporate', 'bigwigs', 'know', 'that', 'the', 'amex', 'serve', 'brand', 'is', 'down', 'no', 'access', 'to', 'money', 'and', 'no', 'one', 'answers', 'at', 'customer', 'service', 'i', 'get', 'my', 'paycheck', 'deposited', 'on', 'this', 'not', 'just', 'my', 'stimulus']\n",
      "It is also a direct consequence of the Trump Admin's problematic personnel: PPP is being led by a former executive of an investment bank (a bank whose clients include American Express, Morgan Stanley, Goldman Sachs, Chevron, and General Electric) (/)\n",
      "['it', 'is', 'also', 'a', 'direct', 'consequence', 'of', 'the', 'trump', 'admins', 'problematic', 'personnel', 'ppp', 'is', 'being', 'led', 'by', 'a', 'former', 'executive', 'of', 'an', 'investment', 'bank', 'a', 'bank', 'whose', 'clients', 'include', 'american', 'express', 'morgan', 'stanley', 'goldman', 'sachs', 'chevron', 'and', 'general', 'electric']\n",
      "easier said than done. The amount of time and energy it takes is not really worth it. Especially if the buyer has used Amex.\n",
      "['easier', 'said', 'than', 'done.', 'the', 'amount', 'of', 'time', 'and', 'energy', 'it', 'takes', 'is', 'not', 'really', 'worth', 'it.', 'especially', 'if', 'the', 'buyer', 'has', 'used', 'amex.']\n",
      "Everyone stay away from they r scam and thieves for american express stealing everyone's money ..pressure charges against them\n",
      "['everyone', 'stay', 'away', 'from', 'they', 'r', 'scam', 'and', 'thieves', 'for', 'american', 'express', 'stealing', 'everyones', 'money', '..pressure', 'charges', 'against', 'them']\n",
      "Finalmente pagué con American Express. Es imposible pagar c/BBVA. El recibo de multipagos con folio de pago , QR lo recibí por email. Sin embargo el estatus aparace que el monto a pagar es todavía  , y el \"Estado del recibo\" indica \"Pagado\". Por qué no hacen las cosas bien.\n",
      "['finalmente', 'pagué', 'con', 'american', 'express.', 'es', 'imposible', 'pagar', 'cbbva.', 'el', 'recibo', 'de', 'multipagos', 'con', 'folio', 'de', 'pago', 'qr', 'lo', 'recibí', 'por', 'email.', 'sin', 'embargo', 'el', 'estatus', 'aparace', 'que', 'el', 'monto', 'a', 'pagar', 'es', 'todavía', 'y', 'el', 'estado', 'del', 'recibo', 'indica', 'pagado.', 'por', 'qué', 'no', 'hacen', 'las', 'cosas', 'bien.']\n",
      "Getting so sick of the race card. People pull it out like a Black Amex and throw it on the counter. Its the Boy who cried wolf it has little effect these days because it was used when it didn't need to be. Now if someone uses it for actual race issues it falls on def ears.\n",
      "['getting', 'so', 'sick', 'of', 'the', 'race', 'card.', 'people', 'pull', 'it', 'out', 'like', 'a', 'black', 'amex', 'and', 'throw', 'it', 'on', 'the', 'counter.', 'its', 'the', 'boy', 'who', 'cried', 'wolf', 'it', 'has', 'little', 'effect', 'these', 'days', 'because', 'it', 'was', 'used', 'when', 'it', 'didnt', 'need', 'to', 'be.', 'now', 'if', 'someone', 'uses', 'it', 'for', 'actual', 'race', 'issues', 'it', 'falls', 'on', 'def', 'ears.']\n",
      "Had the pleasure of working with your dad Amex. Great guy.. Sad to see that you’ve turned out to be a pompous condescending self inflated bag of wrong again swamp gas..\n",
      "['had', 'the', 'pleasure', 'of', 'working', 'with', 'your', 'dad', 'amex.', 'great', 'guy..', 'sad', 'to', 'see', 'that', 'youve', 'turned', 'out', 'to', 'be', 'a', 'pompous', 'condescending', 'self', 'inflated', 'bag', 'of', 'wrong', 'again', 'swamp', 'gas..']\n"
     ]
    },
    {
     "name": "stdout",
     "output_type": "stream",
     "text": [
      "have been with Amex for  years and have been given false information on payment plans for my small business. NO HELP\n",
      "['have', 'been', 'with', 'amex', 'for', 'years', 'and', 'have', 'been', 'given', 'false', 'information', 'on', 'payment', 'plans', 'for', 'my', 'small', 'business.', 'no', 'help']\n",
      "Having done all three extensively, Hyatt is pretty amazing, but just not enough location.\n",
      "['having', 'done', 'all', 'three', 'extensively', 'hyatt', 'is', 'pretty', 'amazing', 'but', 'just', 'not', 'enough', 'location.']\n",
      "American Express is set to report tomorrow, and options traders are betting on a big bounce from the beaten down financial services company. lays down the trade. AXP\n",
      "['american', 'express', 'is', 'set', 'to', 'report', 'tomorrow', 'and', 'options', 'traders', 'are', 'betting', 'on', 'a', 'big', 'bounce', 'from', 'the', 'beaten', 'down', 'financial', 'services', 'company.', 'lays', 'down', 'the', 'trade.', 'axp']\n",
      "reducing customers credit limits during this time of crisis in America is a not very professional move especially customers that pay.\n",
      "['reducing', 'customers', 'credit', 'limits', 'during', 'this', 'time', 'of', 'crisis', 'in', 'america', 'is', 'a', 'not', 'very', 'professional', 'move', 'especially', 'customers', 'that', 'pay.']\n",
      "Here's one that hasn't been answered by ANYONE. I updated my d.d account on the th at am PST bcuz I used JH with a ral  b d.d to a serve American Express card, didn't have my return info which is why I needed to input my d.d been stuck here since the th? U no why?\n",
      "['heres', 'one', 'that', 'hasnt', 'been', 'answered', 'by', 'anyone.', 'i', 'updated', 'my', 'd.d', 'account', 'on', 'the', 'th', 'at', 'am', 'pst', 'bcuz', 'i', 'used', 'jh', 'with', 'a', 'ral', 'b', 'd.d', 'to', 'a', 'serve', 'american', 'express', 'card', 'didnt', 'have', 'my', 'return', 'info', 'which', 'is', 'why', 'i', 'needed', 'to', 'input', 'my', 'd.d', 'been', 'stuck', 'here', 'since', 'the', 'th', 'u', 'no', 'why']\n",
      "Hey I’ve been on hold since :, do y’all care? Can you get one of your agents to check back in? What we doing???\n",
      "['hey', 'ive', 'been', 'on', 'hold', 'since', 'do', 'yall', 'care', 'can', 'you', 'get', 'one', 'of', 'your', 'agents', 'to', 'check', 'back', 'in', 'what', 'we', 'doing']\n",
      "Hey remember those twenty years before six months ago when you had a great online platform and good customer service? Can we go back to that soon? I'd hate to have to stop using your card. Thanks - your unhappy friend Paul\n",
      "['hey', 'remember', 'those', 'twenty', 'years', 'before', 'six', 'months', 'ago', 'when', 'you', 'had', 'a', 'great', 'online', 'platform', 'and', 'good', 'customer', 'service', 'can', 'we', 'go', 'back', 'to', 'that', 'soon', 'id', 'hate', 'to', 'have', 'to', 'stop', 'using', 'your', 'card.', 'thanks', '-', 'your', 'unhappy', 'friend', 'paul']\n",
      "hi, i've been having issues accessing amex offers on the desktop website for a while now - is this a known issue? i can view them on the ios app but that one is limited to  offers at a time so i can't see new ones\n",
      "['hi', 'ive', 'been', 'having', 'issues', 'accessing', 'amex', 'offers', 'on', 'the', 'desktop', 'website', 'for', 'a', 'while', 'now', '-', 'is', 'this', 'a', 'known', 'issue', 'i', 'can', 'view', 'them', 'on', 'the', 'ios', 'app', 'but', 'that', 'one', 'is', 'limited', 'to', 'offers', 'at', 'a', 'time', 'so', 'i', 'cant', 'see', 'new', 'ones']\n",
      "Dow futures pull back as investors await results from Verizon and AmEx\n",
      "['dow', 'futures', 'pull', 'back', 'as', 'investors', 'await', 'results', 'from', 'verizon', 'and', 'amex']\n",
      "Hmmm, maybe not criminal, exactly. It’s a reloadable debit card so the person is not a customer. It seems that they won’t expend any effort for these people. I’m quite disappointed.\n",
      "['hmmm', 'maybe', 'not', 'criminal', 'exactly.', 'its', 'a', 'reloadable', 'debit', 'card', 'so', 'the', 'person', 'is', 'not', 'a', 'customer.', 'it', 'seems', 'that', 'they', 'wont', 'expend', 'any', 'effort', 'for', 'these', 'people.', 'im', 'quite', 'disappointed.']\n",
      "I am very sorry to hear about this and would like to see if I can address your concern further. Is this regarding an American Express card issued in the U.S. or India?\n",
      "['i', 'am', 'very', 'sorry', 'to', 'hear', 'about', 'this', 'and', 'would', 'like', 'to', 'see', 'if', 'i', 'can', 'address', 'your', 'concern', 'further.', 'is', 'this', 'regarding', 'an', 'american', 'express', 'card', 'issued', 'in', 'the', 'u.s.', 'or', 'india']\n",
      "I can't get mine cuz y'all sent it to t dumb card in serve with we can't get or money they locked us all out of our serve cards\n",
      "['i', 'cant', 'get', 'mine', 'cuz', 'yall', 'sent', 'it', 'to', 't', 'dumb', 'card', 'in', 'serve', 'with', 'we', 'cant', 'get', 'or', 'money', 'they', 'locked', 'us', 'all', 'out', 'of', 'our', 'serve', 'cards']\n",
      "I have a client who is trying to pay my Paypal invoice using their personal American Express card. When they try to process the payment, Paypal responds by asking for a photo ID and by saying \"could not complete payment. Check your account or contact us.\" Suggestions?\n",
      "['i', 'have', 'a', 'client', 'who', 'is', 'trying', 'to', 'pay', 'my', 'paypal', 'invoice', 'using', 'their', 'personal', 'american', 'express', 'card.', 'when', 'they', 'try', 'to', 'process', 'the', 'payment', 'paypal', 'responds', 'by', 'asking', 'for', 'a', 'photo', 'id', 'and', 'by', 'saying', 'could', 'not', 'complete', 'payment.', 'check', 'your', 'account', 'or', 'contact', 'us.', 'suggestions']\n",
      "I’ve already done this FOUR times last week and EACH time I’m PROMISED it’s fixed AND THEN I GET DECLINED. I don’t trust Amex even though I’ve had a perfect payment history with you for  years.\n",
      "['ive', 'already', 'done', 'this', 'four', 'times', 'last', 'week', 'and', 'each', 'time', 'im', 'promised', 'its', 'fixed', 'and', 'then', 'i', 'get', 'declined.', 'i', 'dont', 'trust', 'amex', 'even', 'though', 'ive', 'had', 'a', 'perfect', 'payment', 'history', 'with', 'you', 'for', 'years.']\n",
      "If you have AMEX, you can proceed to our \"standard rebill signup\" and get credentials automatically same as before. only VISA/Master are rejected by Them. Please check and try!\n",
      "['if', 'you', 'have', 'amex', 'you', 'can', 'proceed', 'to', 'our', 'standard', 'rebill', 'signup', 'and', 'get', 'credentials', 'automatically', 'same', 'as', 'before.', 'only', 'visamaster', 'are', 'rejected', 'by', 'them.', 'please', 'check', 'and', 'try']\n",
      "Citigroup, JP Morgan Chase, Wachovia/Wells,Fargo, HSBC Holdings, ING Bank, Standard Chartered, American Express Bank International, and not a few others, have a common bond beyond ranking among the largest banks in the world. All fail to follow money laundering laws.\n",
      "['citigroup', 'jp', 'morgan', 'chase', 'wachoviawellsfargo', 'hsbc', 'holdings', 'ing', 'bank', 'standard', 'chartered', 'american', 'express', 'bank', 'international', 'and', 'not', 'a', 'few', 'others', 'have', 'a', 'common', 'bond', 'beyond', 'ranking', 'among', 'the', 'largest', 'banks', 'in', 'the', 'world.', 'all', 'fail', 'to', 'follow', 'money', 'laundering', 'laws.']\n",
      "Trying to book a car, seeing your test locations instead. Maybe don't test in prod?\n",
      "['trying', 'to', 'book', 'a', 'car', 'seeing', 'your', 'test', 'locations', 'instead.', 'maybe', 'dont', 'test', 'in', 'prod']\n",
      "Stock futures were in the green Friday morning, positioning the market for a comeback after a week of volatility spurred by lower oil prices.\n",
      "['stock', 'futures', 'were', 'in', 'the', 'green', 'friday', 'morning', 'positioning', 'the', 'market', 'for', 'a', 'comeback', 'after', 'a', 'week', 'of', 'volatility', 'spurred', 'by', 'lower', 'oil', 'prices.']\n",
      "If your Hotstar stopped working in the last month, there’s a good chance it’s because you used Amex which is no longer supported. I have a fully tested workaround for this! Stay tuned\n",
      "['if', 'your', 'hotstar', 'stopped', 'working', 'in', 'the', 'last', 'month', 'theres', 'a', 'good', 'chance', 'its', 'because', 'you', 'used', 'amex', 'which', 'is', 'no', 'longer', 'supported.', 'i', 'have', 'a', 'fully', 'tested', 'workaround', 'for', 'this', 'stay', 'tuned']\n",
      "I'm changing my bank asap. American Express is the worst bank to deal with.\n",
      "['im', 'changing', 'my', 'bank', 'asap.', 'american', 'express', 'is', 'the', 'worst', 'bank', 'to', 'deal', 'with.']\n",
      "Sorry, , I'm unhappy with you. Promised a welcome bonus for my Amex Hilton & then never received it. That's dishonest.\n",
      "['sorry', 'im', 'unhappy', 'with', 'you.', 'promised', 'a', 'welcome', 'bonus', 'for', 'my', 'amex', 'hilton', 'then', 'never', 'received', 'it.', 'thats', 'dishonest.']\n"
     ]
    },
    {
     "name": "stdout",
     "output_type": "stream",
     "text": [
      "Can’t wait to get that black American Express so I can show them white folks how to really pull the race card\n",
      "['cant', 'wait', 'to', 'get', 'that', 'black', 'american', 'express', 'so', 'i', 'can', 'show', 'them', 'white', 'folks', 'how', 'to', 'really', 'pull', 'the', 'race', 'card']\n",
      "Kim Carter I am trying to buy a laptop with zero support from the call I made yesterday. So I compared on line today and chose one with all the support etc. The bank thought the charge was fraud on my visa. You didn’t tell me that so I put in my American Express\n",
      "['kim', 'carter', 'i', 'am', 'trying', 'to', 'buy', 'a', 'laptop', 'with', 'zero', 'support', 'from', 'the', 'call', 'i', 'made', 'yesterday.', 'so', 'i', 'compared', 'on', 'line', 'today', 'and', 'chose', 'one', 'with', 'all', 'the', 'support', 'etc.', 'the', 'bank', 'thought', 'the', 'charge', 'was', 'fraud', 'on', 'my', 'visa.', 'you', 'didnt', 'tell', 'me', 'that', 'so', 'i', 'put', 'in', 'my', 'american', 'express']\n",
      "I just disputed it with Amex I suggest you do the same with your bank. Looks like the only option available\n",
      "['i', 'just', 'disputed', 'it', 'with', 'amex', 'i', 'suggest', 'you', 'do', 'the', 'same', 'with', 'your', 'bank.', 'looks', 'like', 'the', 'only', 'option', 'available']\n",
      "I am legit impressed by anyone who is in a position to potentially be affected by this.\n",
      "['i', 'am', 'legit', 'impressed', 'by', 'anyone', 'who', 'is', 'in', 'a', 'position', 'to', 'potentially', 'be', 'affected', 'by', 'this.']\n",
      "Marriott Cancellation Policy Change, How To Keep Membership Rewards When You Cancel AMEX, Will Bedbugs Die Without Us In Hotels?, & More! via\n",
      "['marriott', 'cancellation', 'policy', 'change', 'how', 'to', 'keep', 'membership', 'rewards', 'when', 'you', 'cancel', 'amex', 'will', 'bedbugs', 'die', 'without', 'us', 'in', 'hotels', 'more', 'via']\n",
      "Market Snapshot: Dow ends Friday on a high note as tech and financial stocks rally, but stock market snaps weekly win streak\n",
      "['market', 'snapshot', 'dow', 'ends', 'friday', 'on', 'a', 'high', 'note', 'as', 'tech', 'and', 'financial', 'stocks', 'rally', 'but', 'stock', 'market', 'snaps', 'weekly', 'win', 'streak']\n",
      "Can't wait to find out that McConnell successfully snuck some provision into this that grants prima nocta rights to anyone with a black Amex\n",
      "['cant', 'wait', 'to', 'find', 'out', 'that', 'mcconnell', 'successfully', 'snuck', 'some', 'provision', 'into', 'this', 'that', 'grants', 'prima', 'nocta', 'rights', 'to', 'anyone', 'with', 'a', 'black', 'amex']\n",
      "Terrible. Any opportunities to reuse later?\n",
      "['terrible.', 'any', 'opportunities', 'to', 'reuse', 'later']\n",
      "Nit: The piece argues that Amex fails by accounting for interdependent pricing at the market-definition stage. Agreed. WAAAY too early. But a reasonable middle ground, not mentioned here, would be to consider \"offsets\" at the efficiency stage, shifting the burden to defendants.\n",
      "['nit', 'the', 'piece', 'argues', 'that', 'amex', 'fails', 'by', 'accounting', 'for', 'interdependent', 'pricing', 'at', 'the', 'market-definition', 'stage.', 'agreed.', 'waaay', 'too', 'early.', 'but', 'a', 'reasonable', 'middle', 'ground', 'not', 'mentioned', 'here', 'would', 'be', 'to', 'consider', 'offsets', 'at', 'the', 'efficiency', 'stage', 'shifting', 'the', 'burden', 'to', 'defendants.']\n",
      ": American Express profits sink %\n",
      "['american', 'express', 'profits', 'sink']\n",
      "Not getting ripped off by delta. Lost my companion certificate and got an \"ecredit\". Not making it worth my while to stay with Delta or having the delta amex card. Lost a loyal customer.\n",
      "['not', 'getting', 'ripped', 'off', 'by', 'delta.', 'lost', 'my', 'companion', 'certificate', 'and', 'got', 'an', 'ecredit.', 'not', 'making', 'it', 'worth', 'my', 'while', 'to', 'stay', 'with', 'delta', 'or', 'having', 'the', 'delta', 'amex', 'card.', 'lost', 'a', 'loyal', 'customer.']\n",
      "“Looking good is not better than doing good.”\n",
      "['“looking', 'good', 'is', 'not', 'better', 'than', 'doing', 'good.”']\n",
      "Part  I am a small business in time of nat'l crisis my business unlike yours is stopped cold so this is how you help? Where's the humanity\n",
      "['part', 'i', 'am', 'a', 'small', 'business', 'in', 'time', 'of', 'natl', 'crisis', 'my', 'business', 'unlike', 'yours', 'is', 'stopped', 'cold', 'so', 'this', 'is', 'how', 'you', 'help', 'wheres', 'the', 'humanity']\n",
      "American Express AXP first-quarter results miss estimates.\n",
      "['american', 'express', 'axp', 'first-quarter', 'results', 'miss', 'estimates.']\n",
      "I just disputed the charge with Amex. Looks like the only option available\n",
      "['i', 'just', 'disputed', 'the', 'charge', 'with', 'amex.', 'looks', 'like', 'the', 'only', 'option', 'available']\n",
      "Realized an older e-mail account that I stopped using was hacked. I used to have my Amex, Facebook, Walmart and an old Twitter account attached to it, and that's where I've had some hackers trying to get access and buy/order things.\n",
      "['realized', 'an', 'older', 'e-mail', 'account', 'that', 'i', 'stopped', 'using', 'was', 'hacked.', 'i', 'used', 'to', 'have', 'my', 'amex', 'facebook', 'walmart', 'and', 'an', 'old', 'twitter', 'account', 'attached', 'to', 'it', 'and', 'thats', 'where', 'ive', 'had', 'some', 'hackers', 'trying', 'to', 'get', 'access', 'and', 'buyorder', 'things.']\n",
      "Sad. Noticed the new issue of was not just with few ads but tacked on a month, so the Amex Platinum Card magazine is now bi-monthly. It’s now the May/June issue.\n",
      "['sad.', 'noticed', 'the', 'new', 'issue', 'of', 'was', 'not', 'just', 'with', 'few', 'ads', 'but', 'tacked', 'on', 'a', 'month', 'so', 'the', 'amex', 'platinum', 'card', 'magazine', 'is', 'now', 'bi-monthly.', 'its', 'now', 'the', 'mayjune', 'issue.']\n",
      "I'm not sure I want another Amex product. It's not the charge, it's that they claim \"We would have refunded had you only called a few days earlier.\" Squeezing fees out of people during an economic downturn is repulsive.\n",
      "['im', 'not', 'sure', 'i', 'want', 'another', 'amex', 'product.', 'its', 'not', 'the', 'charge', 'its', 'that', 'they', 'claim', 'we', 'would', 'have', 'refunded', 'had', 'you', 'only', 'called', 'a', 'few', 'days', 'earlier.', 'squeezing', 'fees', 'out', 'of', 'people', 'during', 'an', 'economic', 'downturn', 'is', 'repulsive.']\n",
      "Stay tuned, we’ll be sharing more details in the coming weeks about how Card Members can maximize their membership during this time, including extra support to help select Card Members with travel-focused Cards whose travel plans may be paused.\n",
      "['stay', 'tuned', 'well', 'be', 'sharing', 'more', 'details', 'in', 'the', 'coming', 'weeks', 'about', 'how', 'card', 'members', 'can', 'maximize', 'their', 'membership', 'during', 'this', 'time', 'including', 'extra', 'support', 'to', 'help', 'select', 'card', 'members', 'with', 'travel-focused', 'cards', 'whose', 'travel', 'plans', 'may', 'be', 'paused.']\n",
      "still denied access on after paying my balance. Complete sham. No help during\n",
      "['still', 'denied', 'access', 'on', 'after', 'paying', 'my', 'balance.', 'complete', 'sham.', 'no', 'help', 'during']\n",
      "Amex sent me my statement, I responded with “WTF??”.. Their move.\n",
      "['amex', 'sent', 'me', 'my', 'statement', 'i', 'responded', 'with', '“wtf”..', 'their', 'move.']\n",
      "AmEx quarterly profit plunges % on . billion reserve build\n",
      "['amex', 'quarterly', 'profit', 'plunges', 'on', '.', 'billion', 'reserve', 'build']\n",
      "This is fun. I got my card in the mail... so I went online to activate and they said I gotta call ... so then I call... and they have a message that says to do it online .. so fun\n",
      "['this', 'is', 'fun.', 'i', 'got', 'my', 'card', 'in', 'the', 'mail...', 'so', 'i', 'went', 'online', 'to', 'activate', 'and', 'they', 'said', 'i', 'gotta', 'call', '...', 'so', 'then', 'i', 'call...', 'and', 'they', 'have', 'a', 'message', 'that', 'says', 'to', 'do', 'it', 'online', '..', 'so', 'fun']\n",
      "Sephora Nordstrom eBay Google Play Steam Nike Amex *All Needed at Best Market Rates *\n",
      "['sephora', 'nordstrom', 'ebay', 'google', 'play', 'steam', 'nike', 'amex', 'all', 'needed', 'at', 'best', 'market', 'rates']\n",
      "The  Supreme Court ruling that American Express did not violate federal antitrust law has inspired debate among scholars over the court’s economic analysis. Read more in the System Research Briefing:\n",
      "['the', 'supreme', 'court', 'ruling', 'that', 'american', 'express', 'did', 'not', 'violate', 'federal', 'antitrust', 'law', 'has', 'inspired', 'debate', 'among', 'scholars', 'over', 'the', 'courts', 'economic', 'analysis.', 'read', 'more', 'in', 'the', 'system', 'research', 'briefing']\n"
     ]
    },
    {
     "name": "stdout",
     "output_type": "stream",
     "text": [
      "The  Is Delta Air Lines’ Biggest Small Problem. Can It Swap Them For   MAX Aircraft? - Forbes ⁦⁩ If Delta switches to using unsafe Max you should have to refund our Amex cards and give us cash for our miles! This is bullshit!\n",
      "['the', 'is', 'delta', 'air', 'lines', 'biggest', 'small', 'problem.', 'can', 'it', 'swap', 'them', 'for', 'max', 'aircraft', '-', 'forbes', '\\u2066\\u2069', 'if', 'delta', 'switches', 'to', 'using', 'unsafe', 'max', 'you', 'should', 'have', 'to', 'refund', 'our', 'amex', 'cards', 'and', 'give', 'us', 'cash', 'for', 'our', 'miles', 'this', 'is', 'bullshit']\n",
      "The Dow’s Gains Fade Away as More Grim Economic News Lands\n",
      "['the', 'dows', 'gains', 'fade', 'away', 'as', 'more', 'grim', 'economic', 'news', 'lands']\n",
      "The led to a three-quarters drop in profit at in the first quarter as its customers stopped spending on travel and entertainment and it piled .bn into reserves to cover expected defaults.\n",
      "['the', 'led', 'to', 'a', 'three-quarters', 'drop', 'in', 'profit', 'at', 'in', 'the', 'first', 'quarter', 'as', 'its', 'customers', 'stopped', 'spending', 'on', 'travel', 'and', 'entertainment', 'and', 'it', 'piled', '.bn', 'into', 'reserves', 'to', 'cover', 'expected', 'defaults.']\n",
      "Year-to-date Performance (% vs USD): Amazon: +.% Gold: +% PayPal: +.% Nasdaq: +.% : -.% Apple: -.% Google: -% S&P : -.% Berkshire Hathaway: -.% Chevron: -% American Express: -% Delta Air Lines: -% Royal Caribbean Cruises: -.%\n",
      "['year-to-date', 'performance', 'vs', 'usd', 'amazon', '.', 'gold', 'paypal', '.', 'nasdaq', '.', '-.', 'apple', '-.', 'google', '-', 'sp', '-.', 'berkshire', 'hathaway', '-.', 'chevron', '-', 'american', 'express', '-', 'delta', 'air', 'lines', '-', 'royal', 'caribbean', 'cruises', '-.']\n",
      "The only debt I have I'm holding on to deliberately. If I lose my only installment loan, my score will plummet. I don't have any American Express cards, but why?\n",
      "['the', 'only', 'debt', 'i', 'have', 'im', 'holding', 'on', 'to', 'deliberately.', 'if', 'i', 'lose', 'my', 'only', 'installment', 'loan', 'my', 'score', 'will', 'plummet.', 'i', 'dont', 'have', 'any', 'american', 'express', 'cards', 'but', 'why']\n",
      "The virus chips away at Intel's outlook, and DraftKings bets on a successful Wall Street debut - today's stocks to watch: INTC DKNG\n",
      "['the', 'virus', 'chips', 'away', 'at', 'intels', 'outlook', 'and', 'draftkings', 'bets', 'on', 'a', 'successful', 'wall', 'street', 'debut', '-', 'todays', 'stocks', 'to', 'watch', 'intc', 'dkng']\n",
      "The week from and loyalty is the theme. Happily for HQ, it has seen them raise bn through point pre-sales to But there is more than a waft of unfairness amongst owners that this corporate gain may not ...\n",
      "['the', 'week', 'from', 'and', 'loyalty', 'is', 'the', 'theme.', 'happily', 'for', 'hq', 'it', 'has', 'seen', 'them', 'raise', 'bn', 'through', 'point', 'pre-sales', 'to', 'but', 'there', 'is', 'more', 'than', 'a', 'waft', 'of', 'unfairness', 'amongst', 'owners', 'that', 'this', 'corporate', 'gain', 'may', 'not', '...']\n",
      "AXP enters a Downtrend because Momentum Indicator dropped below the  level on April , . View odds for this and other indicators:\n",
      "['axp', 'enters', 'a', 'downtrend', 'because', 'momentum', 'indicator', 'dropped', 'below', 'the', 'level', 'on', 'april', '.', 'view', 'odds', 'for', 'this', 'and', 'other', 'indicators']\n",
      "I am having trouble paying off an old debt to Amex. I don’t have full number and I’m getting no where\n",
      "['i', 'am', 'having', 'trouble', 'paying', 'off', 'an', 'old', 'debt', 'to', 'amex.', 'i', 'dont', 'have', 'full', 'number', 'and', 'im', 'getting', 'no', 'where']\n",
      "American Express has lowered the interest rate on my savings account twice in the past month, but not on my credit card. Def looking for a new savings bank , because this is bullshit.\n",
      "['american', 'express', 'has', 'lowered', 'the', 'interest', 'rate', 'on', 'my', 'savings', 'account', 'twice', 'in', 'the', 'past', 'month', 'but', 'not', 'on', 'my', 'credit', 'card.', 'def', 'looking', 'for', 'a', 'new', 'savings', 'bank', 'because', 'this', 'is', 'bullshit.']\n"
     ]
    }
   ],
   "source": [
    "X_train_indices = sentences_to_indices(X_train, words_to_index, maxlen);"
   ]
  },
  {
   "cell_type": "markdown",
   "metadata": {
    "id": "_R9oEvUaFHYF"
   },
   "source": [
    "### Step 3: create LSTM model definition - just 1 LSTM layer"
   ]
  },
  {
   "cell_type": "code",
   "execution_count": 30,
   "metadata": {
    "id": "G3kDshbwjM4a"
   },
   "outputs": [],
   "source": [
    "class Emojify_V2_LSTM_OneLayer(nn.Module):\n",
    "    def __init__(self, embedding_dim, hidden_dim, output_dim, emb_matrix):\n",
    "        super(Emojify_V2_LSTM_OneLayer,self).__init__()\n",
    "        self.embedding = torch.nn.Embedding.from_pretrained(torch.from_numpy(emb_matrix))\n",
    "        self.embedding.weight.requires_grad = False \n",
    "        self.lstm = nn.LSTM(input_size=embedding_dim, hidden_size=hidden_dim, batch_first=True)\n",
    "        self.fc = nn.Linear(hidden_dim, output_dim)\n",
    "\n",
    "        #Initialise weights for equivalent to keras\n",
    "        for name, p in self.named_parameters():\n",
    "            if 'lstm' in name:\n",
    "                if 'weight_ih' in name:\n",
    "                    nn.init.xavier_uniform_(p.data)\n",
    "                elif 'weight_hh' in name:\n",
    "                    nn.init.orthogonal_(p.data)\n",
    "                elif 'bias_ih' in name:\n",
    "                    p.data.fill_(0)\n",
    "                      # Set forget-gate bias to 1\n",
    "                    n = p.size(0)\n",
    "                    p.data[(n // 4):(n // 2)].fill_(1)\n",
    "                elif 'bias_hh' in name:\n",
    "                    p.data.fill_(0)\n",
    "            elif 'fc' in name:\n",
    "                if 'weight' in name:\n",
    "                    nn.init.xavier_uniform_(p.data)\n",
    "                elif 'bias' in name:\n",
    "                    p.data.fill_(0)\n",
    "      \n",
    "    def forward(self,x):\n",
    "        embeds = self.embedding(x)\n",
    "        lstm_out, (hn, cn) = self.lstm(embeds)\n",
    "        out = self.fc(lstm_out[:, -1, :])\n",
    "        return out"
   ]
  },
  {
   "cell_type": "code",
   "execution_count": 31,
   "metadata": {
    "id": "G_wSYKLEjmQ2"
   },
   "outputs": [],
   "source": [
    "embedding_dim = emb_dim\n",
    "output_dim = 2\n",
    "hidden_dim = 128\n",
    "device = torch.device('cuda' if torch.cuda.is_available() else 'cpu') "
   ]
  },
  {
   "cell_type": "code",
   "execution_count": 34,
   "metadata": {
    "id": "ya015ud6kexi"
   },
   "outputs": [],
   "source": [
    "from torch.utils.data import DataLoader,TensorDataset\n",
    "from sklearn.metrics import accuracy_score\n",
    "from sklearn.metrics import f1_score\n",
    "from sklearn.metrics import precision_score\n",
    "from sklearn.metrics import recall_score\n",
    "tensor_x = torch.LongTensor(X_train_indices).to(device)\n",
    "tensor_y = torch.LongTensor(Y_train).to(device)\n",
    "my_dataset = TensorDataset(tensor_x,tensor_y)\n",
    "train_dataloader = DataLoader(my_dataset, batch_size=32, shuffle=True)"
   ]
  },
  {
   "cell_type": "code",
   "execution_count": 35,
   "metadata": {
    "colab": {
     "base_uri": "https://localhost:8080/"
    },
    "id": "hN9x--yPGLeo",
    "outputId": "f5ef6d9a-6e0b-494e-f133-3c4bf4a54242"
   },
   "outputs": [
    {
     "name": "stdout",
     "output_type": "stream",
     "text": [
      "Emojify_V2_LSTM_OneLayer(\n",
      "  (embedding): Embedding(1193515, 50)\n",
      "  (lstm): LSTM(50, 128, batch_first=True)\n",
      "  (fc): Linear(in_features=128, out_features=2, bias=True)\n",
      ")\n"
     ]
    }
   ],
   "source": [
    "model = Emojify_V2_LSTM_OneLayer(embedding_dim, hidden_dim,output_dim, emb_matrix).double()\n",
    "model.to(device)\n",
    "print(model)\n",
    "criterion = nn.CrossEntropyLoss()\n",
    "optimizer = torch.optim.Adam(model.parameters(), lr =0.0001)\n"
   ]
  },
  {
   "cell_type": "code",
   "execution_count": 36,
   "metadata": {
    "colab": {
     "base_uri": "https://localhost:8080/"
    },
    "id": "6CDqsFonEsnI",
    "outputId": "96f3a734-a092-4f04-da72-461d1f68a913"
   },
   "outputs": [
    {
     "name": "stdout",
     "output_type": "stream",
     "text": [
      "Traing Loss: 0.6933079207030617, Traing Accuracy: 0.490625 for Epoch: 0\n",
      "Traing Loss: 0.692794653022592, Traing Accuracy: 0.5364583333333333 for Epoch: 1\n",
      "Traing Loss: 0.6923313030109818, Traing Accuracy: 0.5791666666666667 for Epoch: 2\n",
      "Traing Loss: 0.690326337957309, Traing Accuracy: 0.5197916666666667 for Epoch: 3\n",
      "Traing Loss: 0.6845066651106537, Traing Accuracy: 0.5177083333333333 for Epoch: 4\n",
      "Traing Loss: 0.6603879530985741, Traing Accuracy: 0.5697916666666667 for Epoch: 5\n",
      "Traing Loss: 0.6340253500275791, Traing Accuracy: 0.615625 for Epoch: 6\n",
      "Traing Loss: 0.5917787325861941, Traing Accuracy: 0.7729166666666667 for Epoch: 7\n",
      "Traing Loss: 0.535109033852477, Traing Accuracy: 0.8052083333333334 for Epoch: 8\n",
      "Traing Loss: 0.5155415385394707, Traing Accuracy: 0.8020833333333334 for Epoch: 9\n",
      "Traing Loss: 0.4757014465042325, Traing Accuracy: 0.8104166666666666 for Epoch: 10\n",
      "Traing Loss: 0.45215314885755387, Traing Accuracy: 0.8208333333333334 for Epoch: 11\n",
      "Traing Loss: 0.4588375294648305, Traing Accuracy: 0.8104166666666666 for Epoch: 12\n",
      "Traing Loss: 0.4382128059396426, Traing Accuracy: 0.8270833333333334 for Epoch: 13\n",
      "Traing Loss: 0.43463858461330823, Traing Accuracy: 0.834375 for Epoch: 14\n",
      "Traing Loss: 0.45154542309572854, Traing Accuracy: 0.8072916666666666 for Epoch: 15\n",
      "Traing Loss: 0.41145647841036154, Traing Accuracy: 0.8427083333333334 for Epoch: 16\n",
      "Traing Loss: 0.4235767322977117, Traing Accuracy: 0.85625 for Epoch: 17\n",
      "Traing Loss: 0.4211024836567425, Traing Accuracy: 0.85 for Epoch: 18\n",
      "Traing Loss: 0.40689443730961594, Traing Accuracy: 0.859375 for Epoch: 19\n",
      "Traing Loss: 0.4065462017871274, Traing Accuracy: 0.8625 for Epoch: 20\n",
      "Traing Loss: 0.37455662005921236, Traing Accuracy: 0.884375 for Epoch: 21\n",
      "Traing Loss: 0.39570365264794294, Traing Accuracy: 0.8677083333333334 for Epoch: 22\n",
      "Traing Loss: 0.37359956911776615, Traing Accuracy: 0.8697916666666666 for Epoch: 23\n",
      "Traing Loss: 0.3803786128089254, Traing Accuracy: 0.8739583333333334 for Epoch: 24\n",
      "Traing Loss: 0.35295249993541933, Traing Accuracy: 0.890625 for Epoch: 25\n",
      "Traing Loss: 0.35841886786673816, Traing Accuracy: 0.8854166666666666 for Epoch: 26\n",
      "Traing Loss: 0.3663180839387657, Traing Accuracy: 0.8833333333333334 for Epoch: 27\n",
      "Traing Loss: 0.3566975241398336, Traing Accuracy: 0.8885416666666666 for Epoch: 28\n",
      "Traing Loss: 0.3688041199532853, Traing Accuracy: 0.8802083333333334 for Epoch: 29\n",
      "Traing Loss: 0.38707608939665683, Traing Accuracy: 0.865625 for Epoch: 30\n",
      "Traing Loss: 0.3508566233220689, Traing Accuracy: 0.8854166666666666 for Epoch: 31\n",
      "Traing Loss: 0.3690691819954006, Traing Accuracy: 0.88125 for Epoch: 32\n",
      "Traing Loss: 0.35673714951602614, Traing Accuracy: 0.8833333333333334 for Epoch: 33\n",
      "Traing Loss: 0.3327387266435234, Traing Accuracy: 0.896875 for Epoch: 34\n",
      "Traing Loss: 0.3417575018326965, Traing Accuracy: 0.8947916666666667 for Epoch: 35\n",
      "Traing Loss: 0.31821671168253607, Traing Accuracy: 0.903125 for Epoch: 36\n",
      "Traing Loss: 0.33274620822157064, Traing Accuracy: 0.8958333333333334 for Epoch: 37\n",
      "Traing Loss: 0.3029562032759242, Traing Accuracy: 0.9125 for Epoch: 38\n",
      "Traing Loss: 0.35963644580366816, Traing Accuracy: 0.8770833333333334 for Epoch: 39\n",
      "Traing Loss: 0.30800278316599167, Traing Accuracy: 0.909375 for Epoch: 40\n",
      "Traing Loss: 0.30998705730441783, Traing Accuracy: 0.9072916666666666 for Epoch: 41\n",
      "Traing Loss: 0.305591742798481, Traing Accuracy: 0.9041666666666666 for Epoch: 42\n",
      "Traing Loss: 0.33109951151682615, Traing Accuracy: 0.8927083333333334 for Epoch: 43\n",
      "Traing Loss: 0.3251782703847364, Traing Accuracy: 0.8916666666666666 for Epoch: 44\n",
      "Traing Loss: 0.32423987672275734, Traing Accuracy: 0.8989583333333334 for Epoch: 45\n",
      "Traing Loss: 0.30298790799227443, Traing Accuracy: 0.9041666666666666 for Epoch: 46\n",
      "Traing Loss: 0.32668179160929905, Traing Accuracy: 0.8958333333333334 for Epoch: 47\n",
      "Traing Loss: 0.29214243661684974, Traing Accuracy: 0.9104166666666667 for Epoch: 48\n",
      "Traing Loss: 0.31665241833886104, Traing Accuracy: 0.9020833333333333 for Epoch: 49\n"
     ]
    }
   ],
   "source": [
    "import torch.nn.functional as f\n",
    "epochs = 50\n",
    "model.train()\n",
    "for epoch in range(epochs):\n",
    "    training_loss = 0\n",
    "    training_accuracy = 0\n",
    "    for inputs, labels in train_dataloader:\n",
    "        optimizer.zero_grad()\n",
    "        output = model(inputs)\n",
    "        loss = criterion(output, labels)\n",
    "        loss.backward()\n",
    "        optimizer.step()\n",
    "        training_loss += loss.item()\n",
    "        softmax = f.softmax(output, dim=1)\n",
    "        pred = torch.argmax(softmax, dim=1)\n",
    "        accuracy = accuracy_score(labels, pred)\n",
    "        training_accuracy += accuracy\n",
    "    \n",
    "    print(\"Traing Loss: \" + str(training_loss/len(train_dataloader)) + \n",
    "          \", Traing Accuracy: \" + str(training_accuracy/len(train_dataloader))+ \" for Epoch: \" + str(epoch))"
   ]
  },
  {
   "cell_type": "markdown",
   "metadata": {
    "id": "C3ozfNrQFHYG"
   },
   "source": [
    "### Step 5: Evaluate model performance"
   ]
  },
  {
   "cell_type": "code",
   "execution_count": 37,
   "metadata": {
    "colab": {
     "base_uri": "https://localhost:8080/"
    },
    "id": "sI1qac_KELWX",
    "outputId": "98739166-f8bf-4734-f627-a7656c40d940"
   },
   "outputs": [
    {
     "name": "stdout",
     "output_type": "stream",
     "text": [
      "rumor has it amex might be planning additional benefits to their platinum card... meanwhile the sapphire took a downfall with their recent updates (imo anyway....the benefits are useless to me making the price increase not worth it)\n",
      "['rumor', 'has', 'it', 'amex', 'might', 'be', 'planning', 'additional', 'benefits', 'to', 'their', 'platinum', 'card...', 'meanwhile', 'the', 'sapphire', 'took', 'a', 'downfall', 'with', 'their', 'recent', 'updates', 'imo', 'anyway....the', 'benefits', 'are', 'useless', 'to', 'me', 'making', 'the', 'price', 'increase', 'not', 'worth', 'it']\n",
      "[Targeted] AmEx Offer: , Spend + & Receive  Statement Credit +  Off +\n",
      "['targeted', 'amex', 'offer', 'spend', 'receive', 'statement', 'credit', 'off']\n",
      "HUSA - Proxy Statement - Notice of Shareholders Meeting (preliminary) (pre a)\n",
      "['husa', '-', 'proxy', 'statement', '-', 'notice', 'of', 'shareholders', 'meeting', 'preliminary', 'pre', 'a']\n",
      "SimplyCash Preferred from American Express review\n",
      "['simplycash', 'preferred', 'from', 'american', 'express', 'review']\n",
      "Steps To American Express Log In | Log Into Your American Express Online Account\n",
      "['steps', 'to', 'american', 'express', 'log', 'in', 'log', 'into', 'your', 'american', 'express', 'online', 'account']\n",
      "Stocks making the biggest moves in the premarket: American Express, Verizon, Intel, Tesla & more -\n",
      "['stocks', 'making', 'the', 'biggest', 'moves', 'in', 'the', 'premarket', 'american', 'express', 'verizon', 'intel', 'tesla', 'more', '-']\n",
      "Thanks for comment, . We developed a resource center businesses struggling with the changes brought on by COVID- – articles, talking points, podcasts and more aim to help us see the light at the end of the tunnel. Check it out at\n",
      "['thanks', 'for', 'comment', '.', 'we', 'developed', 'a', 'resource', 'center', 'businesses', 'struggling', 'with', 'the', 'changes', 'brought', 'on', 'by', 'covid-', '–', 'articles', 'talking', 'points', 'podcasts', 'and', 'more', 'aim', 'to', 'help', 'us', 'see', 'the', 'light', 'at', 'the', 'end', 'of', 'the', 'tunnel.', 'check', 'it', 'out', 'at']\n",
      "That’s the catch, you need to use those points at that level before you downgrade to Freedom. I like my Amex gold, but hoping perks will change because I don’t like GrubHub credits\n",
      "['thats', 'the', 'catch', 'you', 'need', 'to', 'use', 'those', 'points', 'at', 'that', 'level', 'before', 'you', 'downgrade', 'to', 'freedom.', 'i', 'like', 'my', 'amex', 'gold', 'but', 'hoping', 'perks', 'will', 'change', 'because', 'i', 'dont', 'like', 'grubhub', 'credits']\n",
      "How HR Teams Can Maintain Compliance with a Virtual Workforce\n",
      "['how', 'hr', 'teams', 'can', 'maintain', 'compliance', 'with', 'a', 'virtual', 'workforce']\n",
      "Amazon Promotion for Amex Platinum Cardholders… in Canada via\n",
      "['amazon', 'promotion', 'for', 'amex', 'platinum', 'cardholders…', 'in', 'canada', 'via']\n",
      "The Real Numbers Behind AXP Revealed\n",
      "['the', 'real', 'numbers', 'behind', 'axp', 'revealed']\n",
      "American Express AXP Announces Earnings Results\n",
      "['american', 'express', 'axp', 'announces', 'earnings', 'results']\n",
      " Takeaways From the Earnings Call (Including Card Refreshes)\n",
      "['takeaways', 'from', 'the', 'earnings', 'call', 'including', 'card', 'refreshes']\n",
      "art for the eyes!\n",
      "['art', 'for', 'the', 'eyes']\n",
      "This is not. Please go to , log in and we will continue our conversation there.\n",
      "['this', 'is', 'not.', 'please', 'go', 'to', 'log', 'in', 'and', 'we', 'will', 'continue', 'our', 'conversation', 'there.']\n",
      "Supermarkets Amex Offer: Save % On Up To  Of Spend via\n",
      "['supermarkets', 'amex', 'offer', 'save', 'on', 'up', 'to', 'of', 'spend', 'via']\n",
      "American Express Membership Rewards Points – An Overview\n",
      "['american', 'express', 'membership', 'rewards', 'points', '–', 'an', 'overview']\n",
      "Transformation: World-famous, Michelin-starred Eleven Madison Park becomes a soup kitchen: powered by Story:\n",
      "['transformation', 'world-famous', 'michelin-starred', 'eleven', 'madison', 'park', 'becomes', 'a', 'soup', 'kitchen', 'powered', 'by', 'story']\n",
      "Stocks making the biggest moves in the premarket: American Express, Verizon, Intel, Tesla & more – CNBC\n",
      "['stocks', 'making', 'the', 'biggest', 'moves', 'in', 'the', 'premarket', 'american', 'express', 'verizon', 'intel', 'tesla', 'more', '–', 'cnbc']\n",
      "CASHAPP AVAILABLE Vanilla Walmart/Walmart Visa Visa gift card Sephora Nordstrom Home Depot Offgamer Nike Amex EBay Steam Itunes Google Amazon All needed At Sleek rates WhatsApp: \n",
      "['cashapp', 'available', 'vanilla', 'walmartwalmart', 'visa', 'visa', 'gift', 'card', 'sephora', 'nordstrom', 'home', 'depot', 'offgamer', 'nike', 'amex', 'ebay', 'steam', 'itunes', 'google', 'amazon', 'all', 'needed', 'at', 'sleek', 'rates', 'whatsapp']\n",
      "Verizon VZ, American Express AXP Report BMO. Check Unusual Activities, Options Money Flow Grid, Earnings History, FA & TA Score, EPS & Revenue Chart, , Price Targets, Key Numbers\n",
      "['verizon', 'vz', 'american', 'express', 'axp', 'report', 'bmo.', 'check', 'unusual', 'activities', 'options', 'money', 'flow', 'grid', 'earnings', 'history', 'fa', 'ta', 'score', 'eps', 'revenue', 'chart', 'price', 'targets', 'key', 'numbers']\n",
      "American Express Community Guidelines | American Express\n",
      "['american', 'express', 'community', 'guidelines', 'american', 'express']\n",
      "we know that many of our clients, staff & their families have been impacted during COVID- & we are working with the IRS to see if they will be able to disburse funds onto the Amex Serve Card. You can visit our website at for additional information.\n",
      "['we', 'know', 'that', 'many', 'of', 'our', 'clients', 'staff', 'their', 'families', 'have', 'been', 'impacted', 'during', 'covid-', 'we', 'are', 'working', 'with', 'the', 'irs', 'to', 'see', 'if', 'they', 'will', 'be', 'able', 'to', 'disburse', 'funds', 'onto', 'the', 'amex', 'serve', 'card.', 'you', 'can', 'visit', 'our', 'website', 'at', 'for', 'additional', 'information.']\n",
      "We plan to provide up to M in financial support to help fight the spread of COVID-. We’re matching Card Members’ donations to up to M when eligible Card Members use MR points toward their donations. Learn more & donate:\n",
      "['we', 'plan', 'to', 'provide', 'up', 'to', 'm', 'in', 'financial', 'support', 'to', 'help', 'fight', 'the', 'spread', 'of', 'covid-.', 'were', 'matching', 'card', 'members', 'donations', 'to', 'up', 'to', 'm', 'when', 'eligible', 'card', 'members', 'use', 'mr', 'points', 'toward', 'their', 'donations.', 'learn', 'more', 'donate']\n",
      "It’s proven that women CAN be satisfied by  / inches..... Doesn’t matter if it’s VISA, MasterCard or Amex🤷‍️ • Findom financialdomination finsub HumanATM paypig cashpig walletdrain domme ebonydomme ebonygoddess beta walletslave walletrinse cuck alphacouple goddess •\n",
      "['its', 'proven', 'that', 'women', 'can', 'be', 'satisfied', 'by', 'inches.....', 'doesnt', 'matter', 'if', 'its', 'visa', 'mastercard', 'or', 'amex🤷\\u200d️', '•', 'findom', 'financialdomination', 'finsub', 'humanatm', 'paypig', 'cashpig', 'walletdrain', 'domme', 'ebonydomme', 'ebonygoddess', 'beta', 'walletslave', 'walletrinse', 'cuck', 'alphacouple', 'goddess', '•']\n",
      "but their rates have seemed consistently high over several years I think. Don’t know about any state restrictions.\n",
      "['but', 'their', 'rates', 'have', 'seemed', 'consistently', 'high', 'over', 'several', 'years', 'i', 'think.', 'dont', 'know', 'about', 'any', 'state', 'restrictions.']\n",
      "American Express Platinum card review: , bonus points and hundreds in yearly credits\n",
      "['american', 'express', 'platinum', 'card', 'review', 'bonus', 'points', 'and', 'hundreds', 'in', 'yearly', 'credits']\n",
      "CSR Update: is launching a new digital platform, “Stand for Small,” to bring together + companies across multiple industries to provide meaningful support to small businesses during the crisis and recovery efforts through .\n",
      "['csr', 'update', 'is', 'launching', 'a', 'new', 'digital', 'platform', '“stand', 'for', 'small”', 'to', 'bring', 'together', 'companies', 'across', 'multiple', 'industries', 'to', 'provide', 'meaningful', 'support', 'to', 'small', 'businesses', 'during', 'the', 'crisis', 'and', 'recovery', 'efforts', 'through', '.']\n",
      "AmEx promises US billion in cost cuts, new platinum rewards\n",
      "['amex', 'promises', 'us', 'billion', 'in', 'cost', 'cuts', 'new', 'platinum', 'rewards']\n",
      "Please go to and we will continue our conversation there.\n",
      "['please', 'go', 'to', 'and', 'we', 'will', 'continue', 'our', 'conversation', 'there.']\n",
      ". Other corporations like Ebay, Google, Capital One, Sweetgreen,Netflix +Hotels, Amex providing rooms to healthcare workers +Celebrities creating awareness, donating millions and offering free concerts Putz\n",
      "['.', 'other', 'corporations', 'like', 'ebay', 'google', 'capital', 'one', 'sweetgreennetflix', 'hotels', 'amex', 'providing', 'rooms', 'to', 'healthcare', 'workers', 'celebrities', 'creating', 'awareness', 'donating', 'millions', 'and', 'offering', 'free', 'concerts', 'putz']\n"
     ]
    },
    {
     "name": "stdout",
     "output_type": "stream",
     "text": [
      "Deb- it was such a pleasure working with you and seeing all you buillt during your tenure at Amex. You’re an inspiration, amazing person and leader. Excited for your next chapter.\n",
      "['deb-', 'it', 'was', 'such', 'a', 'pleasure', 'working', 'with', 'you', 'and', 'seeing', 'all', 'you', 'buillt', 'during', 'your', 'tenure', 'at', 'amex.', 'youre', 'an', 'inspiration', 'amazing', 'person', 'and', 'leader.', 'excited', 'for', 'your', 'next', 'chapter.']\n",
      "Trump never ceases to find ways to screw tax payers!! Too bad he’s not donating the rooms of his gaudy hotels to health care workers for free...like Hilton & American Express are doing by donating  million rooms!! Support Hilton & AMEX!!!\n",
      "['trump', 'never', 'ceases', 'to', 'find', 'ways', 'to', 'screw', 'tax', 'payers', 'too', 'bad', 'hes', 'not', 'donating', 'the', 'rooms', 'of', 'his', 'gaudy', 'hotels', 'to', 'health', 'care', 'workers', 'for', 'free...like', 'hilton', 'american', 'express', 'are', 'doing', 'by', 'donating', 'million', 'rooms', 'support', 'hilton', 'amex']\n",
      "Who likes their CC company? I used to have amex, and I'm regretting letting them go. Barclays JetBlue card aren't offering interest wavers for those who can't pay their full balance right now. is the best so far. Thoughts? Pls. share your insight\n",
      "['who', 'likes', 'their', 'cc', 'company', 'i', 'used', 'to', 'have', 'amex', 'and', 'im', 'regretting', 'letting', 'them', 'go.', 'barclays', 'jetblue', 'card', 'arent', 'offering', 'interest', 'wavers', 'for', 'those', 'who', 'cant', 'pay', 'their', 'full', 'balance', 'right', 'now.', 'is', 'the', 'best', 'so', 'far.', 'thoughts', 'pls.', 'share', 'your', 'insight']\n",
      "Enter for your chance to win a  American Express gift card and a Friends: The Complete Series digital download when you enter the TBS Friends From the Beginning Sweepstakes. There will be  winners in all. Click Here to Enter Official Rules: US,…\n",
      "['enter', 'for', 'your', 'chance', 'to', 'win', 'a', 'american', 'express', 'gift', 'card', 'and', 'a', 'friends', 'the', 'complete', 'series', 'digital', 'download', 'when', 'you', 'enter', 'the', 'tbs', 'friends', 'from', 'the', 'beginning', 'sweepstakes.', 'there', 'will', 'be', 'winners', 'in', 'all.', 'click', 'here', 'to', 'enter', 'official', 'rules', 'us…']\n",
      "For those wondering about enterprise , my latest feature on Fabric explains it all w/ examples from and thnx for insights!\n",
      "['for', 'those', 'wondering', 'about', 'enterprise', 'my', 'latest', 'feature', 'on', 'fabric', 'explains', 'it', 'all', 'w', 'examples', 'from', 'and', 'thnx', 'for', 'insights']\n",
      "This is such a great cause, we're glad to support our !\n",
      "['this', 'is', 'such', 'a', 'great', 'cause', 'were', 'glad', 'to', 'support', 'our']\n",
      "We have one, I would recommend getting something from American Express or even just a Best Buy credit card instead if you plan on making a large purchase at once. The Apple Card payments get crazy high when you have a large balance\n",
      "['we', 'have', 'one', 'i', 'would', 'recommend', 'getting', 'something', 'from', 'american', 'express', 'or', 'even', 'just', 'a', 'best', 'buy', 'credit', 'card', 'instead', 'if', 'you', 'plan', 'on', 'making', 'a', 'large', 'purchase', 'at', 'once.', 'the', 'apple', 'card', 'payments', 'get', 'crazy', 'high', 'when', 'you', 'have', 'a', 'large', 'balance']\n",
      "Innovation is what will separate truly great credit cards and credit card issuers away from the pack as consumers shift toward different spending habits and priorities during the pandemic and its fallout. Excited to see what Amex has in store for its premium cards!\n",
      "['innovation', 'is', 'what', 'will', 'separate', 'truly', 'great', 'credit', 'cards', 'and', 'credit', 'card', 'issuers', 'away', 'from', 'the', 'pack', 'as', 'consumers', 'shift', 'toward', 'different', 'spending', 'habits', 'and', 'priorities', 'during', 'the', 'pandemic', 'and', 'its', 'fallout.', 'excited', 'to', 'see', 'what', 'amex', 'has', 'in', 'store', 'for', 'its', 'premium', 'cards']\n",
      "ANA/PSNA members -- Last week, ANA announced partnership w/ Hilton and American Express to offer  million free nights at Hilton hotels to ANA members. The program is now live and ready to accept your room reservations! Check your emails for an ANA update with links and details.\n",
      "['anapsna', 'members', '--', 'last', 'week', 'ana', 'announced', 'partnership', 'w', 'hilton', 'and', 'american', 'express', 'to', 'offer', 'million', 'free', 'nights', 'at', 'hilton', 'hotels', 'to', 'ana', 'members.', 'the', 'program', 'is', 'now', 'live', 'and', 'ready', 'to', 'accept', 'your', 'room', 'reservations', 'check', 'your', 'emails', 'for', 'an', 'ana', 'update', 'with', 'links', 'and', 'details.']\n",
      "thank you for your excellent customer service\n",
      "['thank', 'you', 'for', 'your', 'excellent', 'customer', 'service']\n",
      "USAA Cashback Rewards Plus American Express card allows you to earn rewards that can be redeemed at anytime from the convenience of your mobile app. You’ll get % back on your first , spent on military base and gas station purchases yearly. Review ->\n",
      "['usaa', 'cashback', 'rewards', 'plus', 'american', 'express', 'card', 'allows', 'you', 'to', 'earn', 'rewards', 'that', 'can', 'be', 'redeemed', 'at', 'anytime', 'from', 'the', 'convenience', 'of', 'your', 'mobile', 'app.', 'youll', 'get', 'back', 'on', 'your', 'first', 'spent', 'on', 'military', 'base', 'and', 'gas', 'station', 'purchases', 'yearly.', 'review', '-']\n",
      "My little baby Capital One card just got that nice upgrade to a Quicksilver card with rewards My Amex is still my fav but I’m so proud of all the credit progress I’ve made\n",
      "['my', 'little', 'baby', 'capital', 'one', 'card', 'just', 'got', 'that', 'nice', 'upgrade', 'to', 'a', 'quicksilver', 'card', 'with', 'rewards', 'my', 'amex', 'is', 'still', 'my', 'fav', 'but', 'im', 'so', 'proud', 'of', 'all', 'the', 'credit', 'progress', 'ive', 'made']\n",
      "This is why I pay AMEX. If I didn’t receive the service described in a contract they issue temporary credits during the dispute process. I had  dispute  different landscapers in  who did shoddy work & thought they could get away with it & refuse  correct the problems.\n",
      "['this', 'is', 'why', 'i', 'pay', 'amex.', 'if', 'i', 'didnt', 'receive', 'the', 'service', 'described', 'in', 'a', 'contract', 'they', 'issue', 'temporary', 'credits', 'during', 'the', 'dispute', 'process.', 'i', 'had', 'dispute', 'different', 'landscapers', 'in', 'who', 'did', 'shoddy', 'work', 'thought', 'they', 'could', 'get', 'away', 'with', 'it', 'refuse', 'correct', 'the', 'problems.']\n",
      "Me paying off all my debt while at home saving money & just getting approved for a platinum Amex. Love this for me. ️️️\n",
      "['me', 'paying', 'off', 'all', 'my', 'debt', 'while', 'at', 'home', 'saving', 'money', 'just', 'getting', 'approved', 'for', 'a', 'platinum', 'amex.', 'love', 'this', 'for', 'me.', '️️️']\n",
      "Yeah, I have hated them since they screwed up and took almost  in unclaimed rewards balance (I know, I should have redeemed) They're one of my old accounts, so I can't close the account. AmEx has superior customer service and I now only use Discover for the % categories\n",
      "['yeah', 'i', 'have', 'hated', 'them', 'since', 'they', 'screwed', 'up', 'and', 'took', 'almost', 'in', 'unclaimed', 'rewards', 'balance', 'i', 'know', 'i', 'should', 'have', 'redeemed', 'theyre', 'one', 'of', 'my', 'old', 'accounts', 'so', 'i', 'cant', 'close', 'the', 'account.', 'amex', 'has', 'superior', 'customer', 'service', 'and', 'i', 'now', 'only', 'use', 'discover', 'for', 'the', 'categories']\n",
      "Art for the Eyes and Walls! Angel Oak is one of the oldest trees on the east coast of the United States. It is located in South Carolina.\n",
      "['art', 'for', 'the', 'eyes', 'and', 'walls', 'angel', 'oak', 'is', 'one', 'of', 'the', 'oldest', 'trees', 'on', 'the', 'east', 'coast', 'of', 'the', 'united', 'states.', 'it', 'is', 'located', 'in', 'south', 'carolina.']\n",
      "Proud to partner with and  other amazing companies for ‘Stand for Small,’ a coalition to support small businesses impacted by coronavirus\n",
      "['proud', 'to', 'partner', 'with', 'and', 'other', 'amazing', 'companies', 'for', '‘stand', 'for', 'small', 'a', 'coalition', 'to', 'support', 'small', 'businesses', 'impacted', 'by', 'coronavirus']\n",
      "Points, it seems, really do mean prizes. raise bn from an advance sale of loyalty points to its co-brand credit card partner, . An innovate move. Read the full feature from on :\n",
      "['points', 'it', 'seems', 'really', 'do', 'mean', 'prizes.', 'raise', 'bn', 'from', 'an', 'advance', 'sale', 'of', 'loyalty', 'points', 'to', 'its', 'co-brand', 'credit', 'card', 'partner', '.', 'an', 'innovate', 'move.', 'read', 'the', 'full', 'feature', 'from', 'on']\n"
     ]
    },
    {
     "name": "stdout",
     "output_type": "stream",
     "text": [
      "Credit card issuers like American Express and Capital One are adding new ways to earn and redeem rewards during quarantine\n",
      "['credit', 'card', 'issuers', 'like', 'american', 'express', 'and', 'capital', 'one', 'are', 'adding', 'new', 'ways', 'to', 'earn', 'and', 'redeem', 'rewards', 'during', 'quarantine']\n",
      "Yea she was so rude and didn’t understand that I didn’t want a credit for my flight, just my money back 🤦‍️.. thankfully my credit card company came through\n",
      "['yea', 'she', 'was', 'so', 'rude', 'and', 'didnt', 'understand', 'that', 'i', 'didnt', 'want', 'a', 'credit', 'for', 'my', 'flight', 'just', 'my', 'money', 'back', '🤦\\u200d️..', 'thankfully', 'my', 'credit', 'card', 'company', 'came', 'through']\n",
      "Get an AMEX gift card to buy anything you want! PROMO CODE: AMEX || Buy  frames, get  || Buy  frames, get  || Buy  frames, get  || ||\n",
      "['get', 'an', 'amex', 'gift', 'card', 'to', 'buy', 'anything', 'you', 'want', 'promo', 'code', 'amex', 'buy', 'frames', 'get', 'buy', 'frames', 'get', 'buy', 'frames', 'get']\n",
      "MY LOVE ARNOLD STARK NAVAL INTELLIGENCE OFFICER NY ONE MONTH BEFORE HIS DEATH IF JEAN STARK (FINK) FRANKEL LOOKS REALLY HARD SHE WILL FIND ON HIS  AMERICAN EXPRESS CARD A WESTERN UNION TO ME IN KOSOVO SO HER STUPID LAWYER CAN NOT SAY HE DID NOT SUPPORT ME\n",
      "['my', 'love', 'arnold', 'stark', 'naval', 'intelligence', 'officer', 'ny', 'one', 'month', 'before', 'his', 'death', 'if', 'jean', 'stark', 'fink', 'frankel', 'looks', 'really', 'hard', 'she', 'will', 'find', 'on', 'his', 'american', 'express', 'card', 'a', 'western', 'union', 'to', 'me', 'in', 'kosovo', 'so', 'her', 'stupid', 'lawyer', 'can', 'not', 'say', 'he', 'did', 'not', 'support', 'me']\n",
      "We Miss you too! Thanks for always being so kind to me at The Amex, always enjoyed chatting with you. Be safe & Blessed. Don’t be a stranger! R~ 🤗\n",
      "['we', 'miss', 'you', 'too', 'thanks', 'for', 'always', 'being', 'so', 'kind', 'to', 'me', 'at', 'the', 'amex', 'always', 'enjoyed', 'chatting', 'with', 'you.', 'be', 'safe', 'blessed.', 'dont', 'be', 'a', 'stranger', 'r', '🤗']\n",
      "*AmEx's New Centurion Lounge At LAX Is Its Biggest Yet* 'The lounge Includes a casual walk-up bar for cocktails, coffee bar & separate bar with high stools. Travelers will also find a quiet dining room and wellness area'\n",
      "['amexs', 'new', 'centurion', 'lounge', 'at', 'lax', 'is', 'its', 'biggest', 'yet', 'the', 'lounge', 'includes', 'a', 'casual', 'walk-up', 'bar', 'for', 'cocktails', 'coffee', 'bar', 'separate', 'bar', 'with', 'high', 'stools.', 'travelers', 'will', 'also', 'find', 'a', 'quiet', 'dining', 'room', 'and', 'wellness', 'area']\n",
      "American Express actually called ME this morning and remedied the matter. This is my card that the IRS deposited my , in stimulus money.... since I have job because I’m an adult. It’s all fixed! Karma strikes people who wish bad karma onto others. Good luck with that!\n",
      "['american', 'express', 'actually', 'called', 'me', 'this', 'morning', 'and', 'remedied', 'the', 'matter.', 'this', 'is', 'my', 'card', 'that', 'the', 'irs', 'deposited', 'my', 'in', 'stimulus', 'money....', 'since', 'i', 'have', 'job', 'because', 'im', 'an', 'adult.', 'its', 'all', 'fixed', 'karma', 'strikes', 'people', 'who', 'wish', 'bad', 'karma', 'onto', 'others.', 'good', 'luck', 'with', 'that']\n",
      "Good for you! All Americans shout get hot under the collar about this! By the way you used to work out with my hubby Shelly Spiegelman when he was at the AMEX.\n",
      "['good', 'for', 'you', 'all', 'americans', 'shout', 'get', 'hot', 'under', 'the', 'collar', 'about', 'this', 'by', 'the', 'way', 'you', 'used', 'to', 'work', 'out', 'with', 'my', 'hubby', 'shelly', 'spiegelman', 'when', 'he', 'was', 'at', 'the', 'amex.']\n",
      "Let me introduce you to GCBUYING They sell and all your gift card such as iTunes, Amazon, Sephora, steam, AMEX, OFFGAMERS, google play etc with GCBUYING. Now, the juicy part is that, They dash free airtime and money to their customers every weekend\n",
      "['let', 'me', 'introduce', 'you', 'to', 'gcbuying', 'they', 'sell', 'and', 'all', 'your', 'gift', 'card', 'such', 'as', 'itunes', 'amazon', 'sephora', 'steam', 'amex', 'offgamers', 'google', 'play', 'etc', 'with', 'gcbuying.', 'now', 'the', 'juicy', 'part', 'is', 'that', 'they', 'dash', 'free', 'airtime', 'and', 'money', 'to', 'their', 'customers', 'every', 'weekend']\n",
      "I love , best damn credit card I ever applied for\n",
      "['i', 'love', 'best', 'damn', 'credit', 'card', 'i', 'ever', 'applied', 'for']\n",
      "Hi thanks for reaching out. It's important that your concerns are addressed. To set up autopay on your online account, we first recommend logging into your account. From there, click this link: and follow the steps to set up autopay. Hope this helps.\n",
      "['hi', 'thanks', 'for', 'reaching', 'out.', 'its', 'important', 'that', 'your', 'concerns', 'are', 'addressed.', 'to', 'set', 'up', 'autopay', 'on', 'your', 'online', 'account', 'we', 'first', 'recommend', 'logging', 'into', 'your', 'account.', 'from', 'there', 'click', 'this', 'link', 'and', 'follow', 'the', 'steps', 'to', 'set', 'up', 'autopay.', 'hope', 'this', 'helps.']\n",
      "I love the Pats not picking anybody. If it were up to me I’d just accumulate picks forever. Exactly what I do with my Amex points. Makes me feel invincible\n",
      "['i', 'love', 'the', 'pats', 'not', 'picking', 'anybody.', 'if', 'it', 'were', 'up', 'to', 'me', 'id', 'just', 'accumulate', 'picks', 'forever.', 'exactly', 'what', 'i', 'do', 'with', 'my', 'amex', 'points.', 'makes', 'me', 'feel', 'invincible']\n",
      ": The new coalition that was announced earlier this week courtesy of aims to support small businesses and we're happy to be a part of it. Check out their website to learn more about those involved:\n",
      "['the', 'new', 'coalition', 'that', 'was', 'announced', 'earlier', 'this', 'week', 'courtesy', 'of', 'aims', 'to', 'support', 'small', 'businesses', 'and', 'were', 'happy', 'to', 'be', 'a', 'part', 'of', 'it.', 'check', 'out', 'their', 'website', 'to', 'learn', 'more', 'about', 'those', 'involved']\n",
      "Postal Service collapse could devastate seniors, small businesses and rural areas Send them all AMEX Bluebid cards, free. No fees, deposit check to that card account for SSA recipients with no bank accounts.\n",
      "['postal', 'service', 'collapse', 'could', 'devastate', 'seniors', 'small', 'businesses', 'and', 'rural', 'areas', 'send', 'them', 'all', 'amex', 'bluebid', 'cards', 'free.', 'no', 'fees', 'deposit', 'check', 'to', 'that', 'card', 'account', 'for', 'ssa', 'recipients', 'with', 'no', 'bank', 'accounts.']\n",
      "Great, I am available to chat securely until pm ET. Please go to , log in and we will continue our conversation there. ^RK\n",
      "['great', 'i', 'am', 'available', 'to', 'chat', 'securely', 'until', 'pm', 'et.', 'please', 'go', 'to', 'log', 'in', 'and', 'we', 'will', 'continue', 'our', 'conversation', 'there.', 'rk']\n",
      "Love getting to work with on such an important initiative!\n",
      "['love', 'getting', 'to', 'work', 'with', 'on', 'such', 'an', 'important', 'initiative']\n",
      "\"SHOPPING\" TOP STORY American Express Launches ‘Stand for Small’ Coalition to Support U.S. Small Businesses | American Express , see more\n",
      "['shopping', 'top', 'story', 'american', 'express', 'launches', '‘stand', 'for', 'small', 'coalition', 'to', 'support', 'u.s.', 'small', 'businesses', 'american', 'express', 'see', 'more']\n",
      "rockin the Sapphire Reserve. Love the x points on hotels, flights, x points on Lyft rides, and lounge access. And then I have an AMEX Gold for x points on groceries. That's it for now...thinking about the next move for a good bonus.\n",
      "['rockin', 'the', 'sapphire', 'reserve.', 'love', 'the', 'x', 'points', 'on', 'hotels', 'flights', 'x', 'points', 'on', 'lyft', 'rides', 'and', 'lounge', 'access.', 'and', 'then', 'i', 'have', 'an', 'amex', 'gold', 'for', 'x', 'points', 'on', 'groceries.', 'thats', 'it', 'for', 'now...thinking', 'about', 'the', 'next', 'move', 'for', 'a', 'good', 'bonus.']\n",
      "Are you keeping your culinary skills sharp right now? Put your knowledge to the test for a chance to win prizes! Tell us your answer here for a chance to win a  gift card: .\n",
      "['are', 'you', 'keeping', 'your', 'culinary', 'skills', 'sharp', 'right', 'now', 'put', 'your', 'knowledge', 'to', 'the', 'test', 'for', 'a', 'chance', 'to', 'win', 'prizes', 'tell', 'us', 'your', 'answer', 'here', 'for', 'a', 'chance', 'to', 'win', 'a', 'gift', 'card', '.']\n"
     ]
    },
    {
     "name": "stdout",
     "output_type": "stream",
     "text": [
      "A lot of QB accounts are cloud based these days. So yeah, they have an app. Probably overkill though. If you are an Amex card holder though the integration is pretty fantastic.\n",
      "['a', 'lot', 'of', 'qb', 'accounts', 'are', 'cloud', 'based', 'these', 'days.', 'so', 'yeah', 'they', 'have', 'an', 'app.', 'probably', 'overkill', 'though.', 'if', 'you', 'are', 'an', 'amex', 'card', 'holder', 'though', 'the', 'integration', 'is', 'pretty', 'fantastic.']\n",
      "Also American Express points gets you gift cards to Gap, Old Navy, Banana Republic and Athleta. So over the years I’ve bought a lot of staples (and stocking stuffers and birthday gifts...they do good product placement of tchotchkes) at Gap and Old Navy for  kids for “free.”\n",
      "['also', 'american', 'express', 'points', 'gets', 'you', 'gift', 'cards', 'to', 'gap', 'old', 'navy', 'banana', 'republic', 'and', 'athleta.', 'so', 'over', 'the', 'years', 'ive', 'bought', 'a', 'lot', 'of', 'staples', 'and', 'stocking', 'stuffers', 'and', 'birthday', 'gifts...they', 'do', 'good', 'product', 'placement', 'of', 'tchotchkes', 'at', 'gap', 'and', 'old', 'navy', 'for', 'kids', 'for', '“free.”']\n",
      "If you own a business & are looking for a good card that has low interest, high spending limit & flexible loan/spending options. I recommend this: WE BOTH GET REWARDS IF YOUR APPROVED !! \n",
      "['if', 'you', 'own', 'a', 'business', 'are', 'looking', 'for', 'a', 'good', 'card', 'that', 'has', 'low', 'interest', 'high', 'spending', 'limit', 'flexible', 'loanspending', 'options.', 'i', 'recommend', 'this', 'we', 'both', 'get', 'rewards', 'if', 'your', 'approved']\n",
      "Amex Boosts UK Platinum Card Redemption Perk via\n",
      "['amex', 'boosts', 'uk', 'platinum', 'card', 'redemption', 'perk', 'via']\n",
      "AmEx Promises  Billion in Cost Cuts, New Platinum Rewards Follow for News\n",
      "['amex', 'promises', 'billion', 'in', 'cost', 'cuts', 'new', 'platinum', 'rewards', 'follow', 'for', 'news']\n",
      "customer service is awesome. take notes.\n",
      "['customer', 'service', 'is', 'awesome.', 'take', 'notes.']\n",
      "We're highlighting Alexandra Lang today! Alexandra is the Global Director of Mobile Product Marketing and Strategy . She is a next-gen pioneer. Who do you nominate next?\n",
      "['were', 'highlighting', 'alexandra', 'lang', 'today', 'alexandra', 'is', 'the', 'global', 'director', 'of', 'mobile', 'product', 'marketing', 'and', 'strategy', '.', 'she', 'is', 'a', 'next-gen', 'pioneer.', 'who', 'do', 'you', 'nominate', 'next']\n",
      "Due To The  Novel Coronavirus [COVID-] Pandemic, American Express and Captial One Are Letting Borrowers Pay Later\n",
      "['due', 'to', 'the', 'novel', 'coronavirus', 'covid-', 'pandemic', 'american', 'express', 'and', 'captial', 'one', 'are', 'letting', 'borrowers', 'pay', 'later']\n",
      "AXP: Issued Press Release on April , ::: American Express Launches ‘Stand for Small’ Coalition to Support U.S. Small Businesses\n",
      "['axp', 'issued', 'press', 'release', 'on', 'april', 'american', 'express', 'launches', '‘stand', 'for', 'small', 'coalition', 'to', 'support', 'u.s.', 'small', 'businesses']\n",
      "Go to to find out more about free hotel accommodations for you if you’re on the front lines taking care of COVID patients.\n",
      "['go', 'to', 'to', 'find', 'out', 'more', 'about', 'free', 'hotel', 'accommodations', 'for', 'you', 'if', 'youre', 'on', 'the', 'front', 'lines', 'taking', 'care', 'of', 'covid', 'patients.']\n",
      "Gotta love American Express. Agent just called to verify a  purchase at Target in Flagstaff. Um nope not me Good looking out\n",
      "['gotta', 'love', 'american', 'express.', 'agent', 'just', 'called', 'to', 'verify', 'a', 'purchase', 'at', 'target', 'in', 'flagstaff.', 'um', 'nope', 'not', 'me', 'good', 'looking', 'out']\n",
      "has the best customer service of any company I’ve ever dealt with. I especially appreciate the military friendliness. Your company rocks and I’ll be loyal to you for the years to come\n",
      "['has', 'the', 'best', 'customer', 'service', 'of', 'any', 'company', 'ive', 'ever', 'dealt', 'with.', 'i', 'especially', 'appreciate', 'the', 'military', 'friendliness.', 'your', 'company', 'rocks', 'and', 'ill', 'be', 'loyal', 'to', 'you', 'for', 'the', 'years', 'to', 'come']\n",
      "Having happy employees is critical to every business’s success. And these secrets to encouraging happiness in the workplace are key.\n",
      "['having', 'happy', 'employees', 'is', 'critical', 'to', 'every', 'businesss', 'success.', 'and', 'these', 'secrets', 'to', 'encouraging', 'happiness', 'in', 'the', 'workplace', 'are', 'key.']\n",
      "Here our overview of the top  digital banks. Congrats to all. Team\n",
      "['here', 'our', 'overview', 'of', 'the', 'top', 'digital', 'banks.', 'congrats', 'to', 'all.', 'team']\n",
      "Here our overview of the top  digital banks. Congrats to all. Team\n",
      "['here', 'our', 'overview', 'of', 'the', 'top', 'digital', 'banks.', 'congrats', 'to', 'all.', 'team']\n",
      "Hilton and American Express announced that they will donate up to  million hotel room nights across the United States to frontline medical professionals leading the fight against COVID-.\n",
      "['hilton', 'and', 'american', 'express', 'announced', 'that', 'they', 'will', 'donate', 'up', 'to', 'million', 'hotel', 'room', 'nights', 'across', 'the', 'united', 'states', 'to', 'frontline', 'medical', 'professionals', 'leading', 'the', 'fight', 'against', 'covid-.']\n",
      "I ordered a replacement AMEX yesterday afternoon & it’s already out for delivery.. that’s good service right there\n",
      "['i', 'ordered', 'a', 'replacement', 'amex', 'yesterday', 'afternoon', 'its', 'already', 'out', 'for', 'delivery..', 'thats', 'good', 'service', 'right', 'there']\n",
      "I’d just like to say that is in a big way for us! Thank you from this\n",
      "['id', 'just', 'like', 'to', 'say', 'that', 'is', 'in', 'a', 'big', 'way', 'for', 'us', 'thank', 'you', 'from', 'this']\n",
      "In your case, Amex points are like an annuity with guaranteed withdrawal benefits. You should thank them. You’re a terrible investor.\n",
      "['in', 'your', 'case', 'amex', 'points', 'are', 'like', 'an', 'annuity', 'with', 'guaranteed', 'withdrawal', 'benefits.', 'you', 'should', 'thank', 'them.', 'youre', 'a', 'terrible', 'investor.']\n",
      "So excited to announce that I have been sent letters of intent for several separate pre-approved credit cards! American Express, Citi, and Discover are my top three. Thanks to all fans and coaches for helping me get this far :\n",
      "['so', 'excited', 'to', 'announce', 'that', 'i', 'have', 'been', 'sent', 'letters', 'of', 'intent', 'for', 'several', 'separate', 'pre-approved', 'credit', 'cards', 'american', 'express', 'citi', 'and', 'discover', 'are', 'my', 'top', 'three.', 'thanks', 'to', 'all', 'fans', 'and', 'coaches', 'for', 'helping', 'me', 'get', 'this', 'far']\n",
      "American Express Launches 'Stand for Small' Coalition to Support Small Businesses️\n",
      "['american', 'express', 'launches', 'stand', 'for', 'small', 'coalition', 'to', 'support', 'small', 'businesses️']\n",
      "My favorite is yesterday with AMEX - “I just think it’s interesting how...” ‍️\n",
      "['my', 'favorite', 'is', 'yesterday', 'with', 'amex', '-', '“i', 'just', 'think', 'its', 'interesting', 'how...”', '\\u200d️']\n",
      "Last chance to register for a on / to learn how American Express uses to power better decisions in :\n",
      "['last', 'chance', 'to', 'register', 'for', 'a', 'on', 'to', 'learn', 'how', 'american', 'express', 'uses', 'to', 'power', 'better', 'decisions', 'in']\n",
      "program is great - proud to be part of the group of brands like\n",
      "['program', 'is', 'great', '-', 'proud', 'to', 'be', 'part', 'of', 'the', 'group', 'of', 'brands', 'like']\n",
      "Thank you and for your generous contributions, and thank you for continuing to spread the word about snack donations! These unused office snacks are heading straight to our shelters to help us feed nearly  people every day.\n",
      "['thank', 'you', 'and', 'for', 'your', 'generous', 'contributions', 'and', 'thank', 'you', 'for', 'continuing', 'to', 'spread', 'the', 'word', 'about', 'snack', 'donations', 'these', 'unused', 'office', 'snacks', 'are', 'heading', 'straight', 'to', 'our', 'shelters', 'to', 'help', 'us', 'feed', 'nearly', 'people', 'every', 'day.']\n",
      "Marriott, Apple, Google, Facebook, Schein, CVS, Sentient Technologies, American Express, JPMorgan Chase — Finding Ways to Help – and Innovate!\n",
      "['marriott', 'apple', 'google', 'facebook', 'schein', 'cvs', 'sentient', 'technologies', 'american', 'express', 'jpmorgan', 'chase', '—', 'finding', 'ways', 'to', 'help', '–', 'and', 'innovate']\n"
     ]
    },
    {
     "name": "stdout",
     "output_type": "stream",
     "text": [
      "They said money doesn’t buy you happiness but I can’t say I’ve ever been sad cashing in those AMEX points\n",
      "['they', 'said', 'money', 'doesnt', 'buy', 'you', 'happiness', 'but', 'i', 'cant', 'say', 'ive', 'ever', 'been', 'sad', 'cashing', 'in', 'those', 'amex', 'points']\n",
      "This AMEX Rep Made Sure I Kept My Membership Rewards When I Called To Cancel A Card via\n",
      "['this', 'amex', 'rep', 'made', 'sure', 'i', 'kept', 'my', 'membership', 'rewards', 'when', 'i', 'called', 'to', 'cancel', 'a', 'card', 'via']\n",
      "Just wanted to give another big shout out to companies who are giving their unused snacks away. Thank you and for your donation!\n",
      "['just', 'wanted', 'to', 'give', 'another', 'big', 'shout', 'out', 'to', 'companies', 'who', 'are', 'giving', 'their', 'unused', 'snacks', 'away.', 'thank', 'you', 'and', 'for', 'your', 'donation']\n",
      "This is a very good switch. The AmEx/Delta combo is the best.\n",
      "['this', 'is', 'a', 'very', 'good', 'switch.', 'the', 'amexdelta', 'combo', 'is', 'the', 'best.']\n",
      "American Express launches 'Stand for Small' coalition to support small businesses impacted by coronavirus - CNBC American Express launches 'Stand for Small' coalition to support small businesses impacted by coronavirus - CNBC\n",
      "['american', 'express', 'launches', 'stand', 'for', 'small', 'coalition', 'to', 'support', 'small', 'businesses', 'impacted', 'by', 'coronavirus', '-', 'cnbc', 'american', 'express', 'launches', 'stand', 'for', 'small', 'coalition', 'to', 'support', 'small', 'businesses', 'impacted', 'by', 'coronavirus', '-', 'cnbc']\n",
      "Why I’m keeping my Amex Platinum even though I’m not traveling\n",
      "['why', 'im', 'keeping', 'my', 'amex', 'platinum', 'even', 'though', 'im', 'not', 'traveling']\n",
      "We’re honored to receive five and be selected as a Bronze Honoree for our breakthrough creative work across social and digital with , and !\n",
      "['were', 'honored', 'to', 'receive', 'five', 'and', 'be', 'selected', 'as', 'a', 'bronze', 'honoree', 'for', 'our', 'breakthrough', 'creative', 'work', 'across', 'social', 'and', 'digital', 'with', 'and']\n",
      "American Express Launches ‘Stand for Small’ Coalition to Support U.S. Small Businesses - New Digital Platform Brings Together More Than  Companies Across Multiple Industries to Provide Meaningful Support to Small Businesses During the Covid- Crisis ...\n",
      "['american', 'express', 'launches', '‘stand', 'for', 'small', 'coalition', 'to', 'support', 'u.s.', 'small', 'businesses', '-', 'new', 'digital', 'platform', 'brings', 'together', 'more', 'than', 'companies', 'across', 'multiple', 'industries', 'to', 'provide', 'meaningful', 'support', 'to', 'small', 'businesses', 'during', 'the', 'covid-', 'crisis', '...']\n",
      "We’re proud to partner with American Express to support providing access to resources for small businesses. Exclusive Hertz Business Rewards benefits include % off cargo vans & trucks, free additional drivers and flexible leasing options:\n",
      "['were', 'proud', 'to', 'partner', 'with', 'american', 'express', 'to', 'support', 'providing', 'access', 'to', 'resources', 'for', 'small', 'businesses.', 'exclusive', 'hertz', 'business', 'rewards', 'benefits', 'include', 'off', 'cargo', 'vans', 'trucks', 'free', 'additional', 'drivers', 'and', 'flexible', 'leasing', 'options']\n",
      "What’s a test center? Do we have them in🇺🇸? Brighton have turned part of their Amex Stadium into a COVID- test centre. The drive-thru set up is able to carry out over , tests every single day. The site is the biggest Coronavirus testing set up in the South of 󠁧󠁢󠁥󠁮󠁧󠁿\n",
      "['whats', 'a', 'test', 'center', 'do', 'we', 'have', 'them', 'in🇺🇸', 'brighton', 'have', 'turned', 'part', 'of', 'their', 'amex', 'stadium', 'into', 'a', 'covid-', 'test', 'centre.', 'the', 'drive-thru', 'set', 'up', 'is', 'able', 'to', 'carry', 'out', 'over', 'tests', 'every', 'single', 'day.', 'the', 'site', 'is', 'the', 'biggest', 'coronavirus', 'testing', 'set', 'up', 'in', 'the', 'south', 'of', '\\U000e0067\\U000e0062\\U000e0065\\U000e006e\\U000e0067\\U000e007f']\n",
      "When it comes to work, you can help put anxious workers at ease by keeping them informed and up-to-date on the latest happenings that impact your workplace.\n",
      "['when', 'it', 'comes', 'to', 'work', 'you', 'can', 'help', 'put', 'anxious', 'workers', 'at', 'ease', 'by', 'keeping', 'them', 'informed', 'and', 'up-to-date', 'on', 'the', 'latest', 'happenings', 'that', 'impact', 'your', 'workplace.']\n",
      "WWD - American Express Unveils ‘Stand for Small’ Coalition to Support U.S. Small Businesses\n",
      "['wwd', '-', 'american', 'express', 'unveils', '‘stand', 'for', 'small', 'coalition', 'to', 'support', 'u.s.', 'small', 'businesses']\n",
      "Your contactless American Express® Card or digital wallet can help you avoid touching surfaces when you need to check out. Contactless payments allow you to make quick and easy payments. .\n",
      "['your', 'contactless', 'american', 'express®', 'card', 'or', 'digital', 'wallet', 'can', 'help', 'you', 'avoid', 'touching', 'surfaces', 'when', 'you', 'need', 'to', 'check', 'out.', 'contactless', 'payments', 'allow', 'you', 'to', 'make', 'quick', 'and', 'easy', 'payments.', '.']\n",
      "Gentlemen, please, let's be civil. I can vouch for 's bona-fide genius. True, he has had a few regretful moments, but who hasn't? I recall when we shot the pilot for , he did have a breakdown, but it was incredible comedy! I think he deserves a\n",
      "['gentlemen', 'please', 'lets', 'be', 'civil.', 'i', 'can', 'vouch', 'for', 's', 'bona-fide', 'genius.', 'true', 'he', 'has', 'had', 'a', 'few', 'regretful', 'moments', 'but', 'who', 'hasnt', 'i', 'recall', 'when', 'we', 'shot', 'the', 'pilot', 'for', 'he', 'did', 'have', 'a', 'breakdown', 'but', 'it', 'was', 'incredible', 'comedy', 'i', 'think', 'he', 'deserves', 'a']\n",
      "Seeing a bunch of higher bonus offers on Amex’s website right now. k for Green, k Gold, k Platinum. Varies depending on which browser I use, but pretty easy to get them to show up, even without incognito mode.\n",
      "['seeing', 'a', 'bunch', 'of', 'higher', 'bonus', 'offers', 'on', 'amexs', 'website', 'right', 'now.', 'k', 'for', 'green', 'k', 'gold', 'k', 'platinum.', 'varies', 'depending', 'on', 'which', 'browser', 'i', 'use', 'but', 'pretty', 'easy', 'to', 'get', 'them', 'to', 'show', 'up', 'even', 'without', 'incognito', 'mode.']\n",
      "their lounges and now I find out my uber credits didn't apply for  months because of their security breach changing my card number. Funny how you can still be charged through your old number but this doesn't work. Nobody told me that and who thinks about it?\n",
      "['their', 'lounges', 'and', 'now', 'i', 'find', 'out', 'my', 'uber', 'credits', 'didnt', 'apply', 'for', 'months', 'because', 'of', 'their', 'security', 'breach', 'changing', 'my', 'card', 'number.', 'funny', 'how', 'you', 'can', 'still', 'be', 'charged', 'through', 'your', 'old', 'number', 'but', 'this', 'doesnt', 'work.', 'nobody', 'told', 'me', 'that', 'and', 'who', 'thinks', 'about', 'it']\n",
      "they could have also dropped the interest rates on credit cards so places like and weren't gouging American citizens with their terrible rates during a pandemic.\n",
      "['they', 'could', 'have', 'also', 'dropped', 'the', 'interest', 'rates', 'on', 'credit', 'cards', 'so', 'places', 'like', 'and', 'werent', 'gouging', 'american', 'citizens', 'with', 'their', 'terrible', 'rates', 'during', 'a', 'pandemic.']\n",
      "They should bring in AmEx to consult on salad oil storage.\n",
      "['they', 'should', 'bring', 'in', 'amex', 'to', 'consult', 'on', 'salad', 'oil', 'storage.']\n",
      "Me: Looks at my amex bill and realizes I need to stop spending money cause I’m poor Me  minutes later: Opens Seamless and orders surf and turf from Del Friscos\n",
      "['me', 'looks', 'at', 'my', 'amex', 'bill', 'and', 'realizes', 'i', 'need', 'to', 'stop', 'spending', 'money', 'cause', 'im', 'poor', 'me', 'minutes', 'later', 'opens', 'seamless', 'and', 'orders', 'surf', 'and', 'turf', 'from', 'del', 'friscos']\n",
      "American Antitrust Institute: It Is Time to Abandon Amex and Start Over on Two-Sided Markets (warning: highlights might be forthcoming as I am very jacked over this title)\n",
      "['american', 'antitrust', 'institute', 'it', 'is', 'time', 'to', 'abandon', 'amex', 'and', 'start', 'over', 'on', 'two-sided', 'markets', 'warning', 'highlights', 'might', 'be', 'forthcoming', 'as', 'i', 'am', 'very', 'jacked', 'over', 'this', 'title']\n"
     ]
    },
    {
     "name": "stdout",
     "output_type": "stream",
     "text": [
      "AmEx quarterly profit plunges %\n",
      "['amex', 'quarterly', 'profit', 'plunges']\n",
      "This IS BS. YOU GUYS WON'T EVEN ANSWER THE PHONE AT SERVE! YOUR OWN PEOPLE SRE SCARED and HUNGRY and YOU HIDE BEHIND CLOSED DOORS AND UNANSWERED PHONE CALLS. TALK TO US! WHAT YOU ARE DOING IS CRIMINAL.\n",
      "['this', 'is', 'bs.', 'you', 'guys', 'wont', 'even', 'answer', 'the', 'phone', 'at', 'serve', 'your', 'own', 'people', 'sre', 'scared', 'and', 'hungry', 'and', 'you', 'hide', 'behind', 'closed', 'doors', 'and', 'unanswered', 'phone', 'calls.', 'talk', 'to', 'us', 'what', 'you', 'are', 'doing', 'is', 'criminal.']\n",
      "AXP AmEx quarterly profit plunges % on . billion reserve build\n",
      "['axp', 'amex', 'quarterly', 'profit', 'plunges', 'on', '.', 'billion', 'reserve', 'build']\n",
      "This is bullshit\n",
      "['this', 'is', 'bullshit']\n",
      "This is true! In  pulled m capital facility from me  weeks after Lehman collapse ...caused massive problems for . never used Amex since and take every chance to share how horrible they are. A great brand in terminal decline (no pun intended)\n",
      "['this', 'is', 'true', 'in', 'pulled', 'm', 'capital', 'facility', 'from', 'me', 'weeks', 'after', 'lehman', 'collapse', '...caused', 'massive', 'problems', 'for', '.', 'never', 'used', 'amex', 'since', 'and', 'take', 'every', 'chance', 'to', 'share', 'how', 'horrible', 'they', 'are.', 'a', 'great', 'brand', 'in', 'terminal', 'decline', 'no', 'pun', 'intended']\n",
      "this might be a dumb question, but I am expecting some large refunds for services canceled due to covid- to a card that I use infrequently. Is it possible to have this paid out in cash instead of having a credit balance on my account?\n",
      "['this', 'might', 'be', 'a', 'dumb', 'question', 'but', 'i', 'am', 'expecting', 'some', 'large', 'refunds', 'for', 'services', 'canceled', 'due', 'to', 'covid-', 'to', 'a', 'card', 'that', 'i', 'use', 'infrequently.', 'is', 'it', 'possible', 'to', 'have', 'this', 'paid', 'out', 'in', 'cash', 'instead', 'of', 'having', 'a', 'credit', 'balance', 'on', 'my', 'account']\n",
      "Amex To Cut Spending By  Billion In  via\n",
      "['amex', 'to', 'cut', 'spending', 'by', 'billion', 'in', 'via']\n",
      "This seems like a terrible purchase from the beginning.\n",
      "['this', 'seems', 'like', 'a', 'terrible', 'purchase', 'from', 'the', 'beginning.']\n",
      "thousands of people need their money but yet you guys don't give two shits I hope someone brings a lawsuit against American Express and serve card I believe you guys are literally holding our money hostage\n",
      "['thousands', 'of', 'people', 'need', 'their', 'money', 'but', 'yet', 'you', 'guys', 'dont', 'give', 'two', 'shits', 'i', 'hope', 'someone', 'brings', 'a', 'lawsuit', 'against', 'american', 'express', 'and', 'serve', 'card', 'i', 'believe', 'you', 'guys', 'are', 'literally', 'holding', 'our', 'money', 'hostage']\n",
      "Today’s Digital Transactions News: Blackhawk’s Rewards Ambitions; Covid-’s Impact on Adyen; AmEx Launches ‘Stand for Small’ Group\n",
      "['todays', 'digital', 'transactions', 'news', 'blackhawks', 'rewards', 'ambitions', 'covid-s', 'impact', 'on', 'adyen', 'amex', 'launches', '‘stand', 'for', 'small', 'group']\n",
      "Too bad you can’t transfer one nigga being hung up on you to a different one like paying off a visa w ya busted amex\n",
      "['too', 'bad', 'you', 'cant', 'transfer', 'one', 'nigga', 'being', 'hung', 'up', 'on', 'you', 'to', 'a', 'different', 'one', 'like', 'paying', 'off', 'a', 'visa', 'w', 'ya', 'busted', 'amex']\n",
      "Toyota , Allstate, AT&T, txu energy, t-mobile, Texas Apartment Association, Reliant Energy, Amex Express, Forever , Victoria Secret, All these companies say they want they money right now. Why don’t human life matter?\n",
      "['toyota', 'allstate', 'att', 'txu', 'energy', 't-mobile', 'texas', 'apartment', 'association', 'reliant', 'energy', 'amex', 'express', 'forever', 'victoria', 'secret', 'all', 'these', 'companies', 'say', 'they', 'want', 'they', 'money', 'right', 'now.', 'why', 'dont', 'human', 'life', 'matter']\n",
      "Unk schooled ain’t even gotta tell em punch the last foe .. kan show you what to do w this Amex & disco\n",
      "['unk', 'schooled', 'aint', 'even', 'gotta', 'tell', 'em', 'punch', 'the', 'last', 'foe', '..', 'kan', 'show', 'you', 'what', 'to', 'do', 'w', 'this', 'amex', 'disco']\n",
      "AXP: Issued Press Release on April , ::: American Express Reports First-Quarter Revenue of . Billion and Earnings Per Share of .\n",
      "['axp', 'issued', 'press', 'release', 'on', 'april', 'american', 'express', 'reports', 'first-quarter', 'revenue', 'of', '.', 'billion', 'and', 'earnings', 'per', 'share', 'of', '.']\n",
      "AmEx to cut spending by  billion to survive virus-hit economy\n",
      "['amex', 'to', 'cut', 'spending', 'by', 'billion', 'to', 'survive', 'virus-hit', 'economy']\n",
      "so my account had fraud over a week ago and I still am not able to log into my account to get it resolved or access funds.\n",
      "['so', 'my', 'account', 'had', 'fraud', 'over', 'a', 'week', 'ago', 'and', 'i', 'still', 'am', 'not', 'able', 'to', 'log', 'into', 'my', 'account', 'to', 'get', 'it', 'resolved', 'or', 'access', 'funds.']\n",
      "super cool of you guys to lower people's spending limits during this. super super cool.\n",
      "['super', 'cool', 'of', 'you', 'guys', 'to', 'lower', 'peoples', 'spending', 'limits', 'during', 'this.', 'super', 'super', 'cool.']\n",
      "While companies including Chase, Bank of America and even Citi are providing easy online requests for deferred credit card payments, is busy decreasing credit limits. “Right Behind You”? To what, push us over the financial cliff?\n",
      "['while', 'companies', 'including', 'chase', 'bank', 'of', 'america', 'and', 'even', 'citi', 'are', 'providing', 'easy', 'online', 'requests', 'for', 'deferred', 'credit', 'card', 'payments', 'is', 'busy', 'decreasing', 'credit', 'limits.', '“right', 'behind', 'you”', 'to', 'what', 'push', 'us', 'over', 'the', 'financial', 'cliff']\n",
      "American Express AXP Releases Quarterly Earnings Results, Misses Expectations By . EPS\n",
      "['american', 'express', 'axp', 'releases', 'quarterly', 'earnings', 'results', 'misses', 'expectations', 'by', '.', 'eps']\n",
      "why are you guys locking accounts and not allowing people acces to there funds during a pandemic? My account had been locked due to fraud for a week and I still cannot access my money or reach anyone.\n",
      "['why', 'are', 'you', 'guys', 'locking', 'accounts', 'and', 'not', 'allowing', 'people', 'acces', 'to', 'there', 'funds', 'during', 'a', 'pandemic', 'my', 'account', 'had', 'been', 'locked', 'due', 'to', 'fraud', 'for', 'a', 'week', 'and', 'i', 'still', 'cannot', 'access', 'my', 'money', 'or', 'reach', 'anyone.']\n",
      "Market Snapshot: Dow futures pull back as investors await results from Verizon and AmEx\n",
      "['market', 'snapshot', 'dow', 'futures', 'pull', 'back', 'as', 'investors', 'await', 'results', 'from', 'verizon', 'and', 'amex']\n",
      "Why can’t I get ahold of a customer service rep at American Express Serve? There are  worth of fraudulent charges on my account and I have NO WAY to report it. They “aren’t taking calls at this time” - for the past  days.\n",
      "['why', 'cant', 'i', 'get', 'ahold', 'of', 'a', 'customer', 'service', 'rep', 'at', 'american', 'express', 'serve', 'there', 'are', 'worth', 'of', 'fraudulent', 'charges', 'on', 'my', 'account', 'and', 'i', 'have', 'no', 'way', 'to', 'report', 'it.', 'they', '“arent', 'taking', 'calls', 'at', 'this', 'time”', '-', 'for', 'the', 'past', 'days.']\n",
      "yea you could say i’m a scammer...swiped my dads amex today and bought me and my slimes new fortnite skins for this travis show tonight\n",
      "['yea', 'you', 'could', 'say', 'im', 'a', 'scammer...swiped', 'my', 'dads', 'amex', 'today', 'and', 'bought', 'me', 'and', 'my', 'slimes', 'new', 'fortnite', 'skins', 'for', 'this', 'travis', 'show', 'tonight']\n",
      "Yes, I had electronic transfer that was suppose to deposit cash into serve account. Unfortunately the transfer was declined and has caused the other bank account to lock. Now I need Amex documentation sent to bank unlock my account\n",
      "['yes', 'i', 'had', 'electronic', 'transfer', 'that', 'was', 'suppose', 'to', 'deposit', 'cash', 'into', 'serve', 'account.', 'unfortunately', 'the', 'transfer', 'was', 'declined', 'and', 'has', 'caused', 'the', 'other', 'bank', 'account', 'to', 'lock.', 'now', 'i', 'need', 'amex', 'documentation', 'sent', 'to', 'bank', 'unlock', 'my', 'account']\n",
      "You should check to make sure you completed the attestations correctly—there’s a bunch of questions at the end of the application and you might have hit the wrong box.\n",
      "['you', 'should', 'check', 'to', 'make', 'sure', 'you', 'completed', 'the', 'attestations', 'correctly—theres', 'a', 'bunch', 'of', 'questions', 'at', 'the', 'end', 'of', 'the', 'application', 'and', 'you', 'might', 'have', 'hit', 'the', 'wrong', 'box.']\n",
      "“American Express more than tripled its provision for credit losses and its chief executive said the coronavirus pandemic weighed on cardholder spending.”\n",
      "['“american', 'express', 'more', 'than', 'tripled', 'its', 'provision', 'for', 'credit', 'losses', 'and', 'its', 'chief', 'executive', 'said', 'the', 'coronavirus', 'pandemic', 'weighed', 'on', 'cardholder', 'spending.”']\n"
     ]
    },
    {
     "name": "stdout",
     "output_type": "stream",
     "text": [
      "There's never a dull moment in Marketing ! Thank you so much to our latest Zoom speaker, Anne Love, Director of Marketing at and beloved member of our Marketing Advisory Board. Learn more about our wonderful board members at:\n",
      "['theres', 'never', 'a', 'dull', 'moment', 'in', 'marketing', 'thank', 'you', 'so', 'much', 'to', 'our', 'latest', 'zoom', 'speaker', 'anne', 'love', 'director', 'of', 'marketing', 'at', 'and', 'beloved', 'member', 'of', 'our', 'marketing', 'advisory', 'board.', 'learn', 'more', 'about', 'our', 'wonderful', 'board', 'members', 'at']\n",
      "I decided to stop by today, got to my boo, Also this guy. I ordered my drink, pulled out my Amex and the the barkeep, Victoria Valez, ex cop and all around racist, pulled out a knife and demanded I take off my shoes and fight her. New policy?\n",
      "['i', 'decided', 'to', 'stop', 'by', 'today', 'got', 'to', 'my', 'boo', 'also', 'this', 'guy.', 'i', 'ordered', 'my', 'drink', 'pulled', 'out', 'my', 'amex', 'and', 'the', 'the', 'barkeep', 'victoria', 'valez', 'ex', 'cop', 'and', 'all', 'around', 'racist', 'pulled', 'out', 'a', 'knife', 'and', 'demanded', 'i', 'take', 'off', 'my', 'shoes', 'and', 'fight', 'her.', 'new', 'policy']\n"
     ]
    }
   ],
   "source": [
    "X_test_indices = sentences_to_indices(X_test, words_to_index, max_len = maxlen)"
   ]
  },
  {
   "cell_type": "code",
   "execution_count": 38,
   "metadata": {
    "id": "thJNNpRxDfBP"
   },
   "outputs": [],
   "source": [
    "tensor_x_ = torch.LongTensor(X_test_indices).to(device)\n",
    "tensor_y_ = torch.LongTensor(Y_test).to(device)\n",
    "my_dataset_ = TensorDataset(tensor_x_,tensor_y_)\n",
    "test_dataloader = DataLoader(my_dataset_, batch_size=32, shuffle=True)"
   ]
  },
  {
   "cell_type": "code",
   "execution_count": 52,
   "metadata": {
    "id": "4CojvtYLdf_2"
   },
   "outputs": [],
   "source": [
    "def evaluate(model, dataloader, criterion):\n",
    "    #initialize every epoch\n",
    "    loss_ = 0\n",
    "    accuracy_ = 0\n",
    "    model.eval()\n",
    "    with torch.no_grad():\n",
    "        for inputs, labels in dataloader:\n",
    "            output = model(inputs)\n",
    "            print(output)\n",
    "            softmax = f.softmax(output, dim=1)\n",
    "            pred = torch.argmax(softmax, dim=1)\n",
    "            print(\"pred is: \", pred)\n",
    "            accuracy_ += accuracy_score(labels, pred) \n",
    "#             f1_score += f1_score(labels, pred) \n",
    "#             precision += precision_score(labels, pred) \n",
    "#             recall += recall_score(labels, pred) \n",
    "    return accuracy_ / len(dataloader)"
   ]
  },
  {
   "cell_type": "code",
   "execution_count": 43,
   "metadata": {
    "colab": {
     "base_uri": "https://localhost:8080/"
    },
    "id": "ODDDdW8nd1og",
    "outputId": "ce30f524-4abe-4abd-d116-e95462b9bc9b"
   },
   "outputs": [
    {
     "name": "stdout",
     "output_type": "stream",
     "text": [
      "\n",
      "Test accuracy =  0.5892857142857142\n"
     ]
    }
   ],
   "source": [
    "acc = evaluate(model, test_dataloader, criterion)\n",
    "print()\n",
    "print(\"Test accuracy = \", acc)"
   ]
  },
  {
   "cell_type": "code",
   "execution_count": 44,
   "metadata": {
    "colab": {
     "base_uri": "https://localhost:8080/"
    },
    "id": "NdzJs11cFHYG",
    "outputId": "006f4415-cfa0-43b8-9585-f3e1cc94394e"
   },
   "outputs": [
    {
     "name": "stdout",
     "output_type": "stream",
     "text": [
      "\n",
      "Train accuracy =  0.921875\n"
     ]
    }
   ],
   "source": [
    "acc = evaluate(model, train_dataloader, criterion)\n",
    "print()\n",
    "print(\"Train accuracy = \", acc)"
   ]
  },
  {
   "cell_type": "code",
   "execution_count": 46,
   "metadata": {},
   "outputs": [
    {
     "data": {
      "text/plain": [
       "array(['rumor has it amex might be planning additional benefits to their platinum card... meanwhile the sapphire took a downfall with their recent updates (imo anyway....the benefits are useless to me making the price increase not worth it)',\n",
       "       '[Targeted] AmEx Offer: , Spend $100+ & Receive $30 Statement Credit + $50 Off $150+',\n",
       "       '$HUSA - Proxy Statement - Notice of Shareholders Meeting (preliminary) (pre 14a)',\n",
       "       'SimplyCash Preferred from American Express review',\n",
       "       'Steps To American Express Log In | Log Into Your American Express Online Account',\n",
       "       'Stocks making the biggest moves in the premarket: American Express, Verizon, Intel, Tesla & more -',\n",
       "       'Thanks for comment, . We developed a resource center businesses struggling with the changes brought on by COVID-19 – articles, talking points, podcasts and more aim to help us see the light at the end of the tunnel. Check it out at',\n",
       "       'That’s the catch, you need to use those points at that level before you downgrade to Freedom. I like my Amex gold, but hoping perks will change because I don’t like GrubHub credits',\n",
       "       'How HR Teams Can Maintain Compliance with a Virtual Workforce',\n",
       "       'Amazon Promotion for Amex Platinum Cardholders… in Canada via',\n",
       "       'The Real Numbers Behind $AXP Revealed',\n",
       "       'American Express $AXP Announces Earnings Results',\n",
       "       '6 Takeaways From the Earnings Call (Including Card Refreshes)',\n",
       "       'art for the eyes!',\n",
       "       'This is not. Please go to , log in and we will continue our conversation there.',\n",
       "       'Supermarkets Amex Offer: Save 5% On Up To $200 Of Spend via',\n",
       "       'American Express Membership Rewards Points – An Overview',\n",
       "       'Transformation: World-famous, Michelin-starred Eleven Madison Park becomes a soup kitchen: powered by Story:',\n",
       "       'Stocks making the biggest moves in the premarket: American Express, Verizon, Intel, Tesla & more – CNBC',\n",
       "       'CASHAPP AVAILABLE Vanilla Walmart/Walmart Visa Visa gift card Sephora Nordstrom Home Depot Offgamer Nike Amex EBay Steam Itunes Google Amazon All needed At Sleek rates WhatsApp: 07015321988',\n",
       "       'Verizon $VZ, American Express $AXP Report BMO. Check Unusual Activities, Options Money Flow Grid, Earnings History, FA & TA Score, EPS & Revenue Chart, , Price Targets, Key Numbers',\n",
       "       'American Express Community Guidelines | American Express',\n",
       "       'we know that many of our clients, staff & their families have been impacted during COVID-19 & we are working with the IRS to see if they will be able to disburse funds onto the Amex Serve Card. You can visit our website at for additional information.',\n",
       "       'We plan to provide up to $5M in financial support to help fight the spread of COVID-19. We’re matching Card Members’ donations to up to $1M when eligible Card Members use MR points toward their donations. Learn more & donate:',\n",
       "       'It’s proven that women CAN be satisfied by 3 1/2 inches..... Doesn’t matter if it’s VISA, MasterCard or Amex🤷\\u200d️ • Findom financialdomination finsub HumanATM paypig cashpig walletdrain domme ebonydomme ebonygoddess beta walletslave walletrinse cuck alphacouple goddess •',\n",
       "       'but their rates have seemed consistently high over several years I think. Don’t know about any state restrictions.',\n",
       "       'American Express Platinum card review: 60,000 bonus points and hundreds in yearly credits',\n",
       "       'CSR Update: is launching a new digital platform, “Stand for Small,” to bring together 40+ companies across multiple industries to provide meaningful support to small businesses during the crisis and recovery efforts through 2020.',\n",
       "       'AmEx promises US$3 billion in cost cuts, new platinum rewards',\n",
       "       'Please go to and we will continue our conversation there.',\n",
       "       '5. Other corporations like Ebay, Google, Capital One, Sweetgreen,Netflix +Hotels, Amex providing rooms to healthcare workers +Celebrities creating awareness, donating millions and offering free concerts Putz',\n",
       "       'Deb- it was such a pleasure working with you and seeing all you buillt during your tenure at Amex. You’re an inspiration, amazing person and leader. Excited for your next chapter.',\n",
       "       'Trump never ceases to find ways to screw tax payers!! Too bad he’s not donating the rooms of his gaudy hotels to health care workers for free...like Hilton & American Express are doing by donating 1 million rooms!! Support Hilton & AMEX!!!',\n",
       "       \"Who likes their CC company? I used to have amex, and I'm regretting letting them go. Barclays JetBlue card aren't offering interest wavers for those who can't pay their full balance right now. is the best so far. Thoughts? Pls. share your insight\",\n",
       "       'Enter for your chance to win a $500 American Express gift card and a Friends: The Complete Series digital download when you enter the TBS Friends From the Beginning Sweepstakes. There will be 25 winners in all. Click Here to Enter Official Rules: US,…',\n",
       "       'For those wondering about enterprise , my latest feature on Fabric explains it all w/ examples from and thnx for insights!',\n",
       "       \"This is such a great cause, we're glad to support our !\",\n",
       "       'We have one, I would recommend getting something from American Express or even just a Best Buy credit card instead if you plan on making a large purchase at once. The Apple Card payments get crazy high when you have a large balance',\n",
       "       'Innovation is what will separate truly great credit cards and credit card issuers away from the pack as consumers shift toward different spending habits and priorities during the pandemic and its fallout. Excited to see what Amex has in store for its premium cards!',\n",
       "       'ANA/PSNA members -- Last week, ANA announced partnership w/ Hilton and American Express to offer 1 million free nights at Hilton hotels to ANA members. The program is now live and ready to accept your room reservations! Check your emails for an ANA update with links and details.',\n",
       "       'thank you for your excellent customer service',\n",
       "       'USAA Cashback Rewards Plus American Express card allows you to earn rewards that can be redeemed at anytime from the convenience of your mobile app. You’ll get 5% back on your first $3,000 spent on military base and gas station purchases yearly. Review ->',\n",
       "       'My little baby Capital One card just got that nice upgrade to a Quicksilver card with rewards My Amex is still my fav but I’m so proud of all the credit progress I’ve made',\n",
       "       'This is why I pay AMEX. If I didn’t receive the service described in a contract they issue temporary credits during the dispute process. I had 2 dispute 2 different landscapers in 2018 who did shoddy work & thought they could get away with it & refuse 2 correct the problems.',\n",
       "       'Me paying off all my debt while at home saving money & just getting approved for a platinum Amex. Love this for me. ️️️',\n",
       "       \"Yeah, I have hated them since they screwed up and took almost $500 in unclaimed rewards balance (I know, I should have redeemed) They're one of my old accounts, so I can't close the account. AmEx has superior customer service and I now only use Discover for the 5% categories\",\n",
       "       'Art for the Eyes and Walls! Angel Oak is one of the oldest trees on the east coast of the United States. It is located in South Carolina.',\n",
       "       'Proud to partner with and 40 other amazing companies for ‘Stand for Small,’ a coalition to support small businesses impacted by coronavirus',\n",
       "       'Points, it seems, really do mean prizes. raise $1bn from an advance sale of loyalty points to its co-brand credit card partner, . An innovate move. Read the full feature from on :',\n",
       "       'Credit card issuers like American Express and Capital One are adding new ways to earn and redeem rewards during quarantine',\n",
       "       'Yea she was so rude and didn’t understand that I didn’t want a credit for my flight, just my money back 🤦\\u200d️.. thankfully my credit card company came through',\n",
       "       'Get an AMEX gift card to buy anything you want! PROMO CODE: AMEX2020 || Buy 20 frames, get $50 || Buy 36 frames, get $100 || Buy 48 frames, get $150 || ||',\n",
       "       'MY LOVE ARNOLD STARK NAVAL INTELLIGENCE OFFICER NY ONE MONTH BEFORE HIS DEATH IF JEAN STARK (FINK) FRANKEL LOOKS REALLY HARD SHE WILL FIND ON HIS 2002 AMERICAN EXPRESS CARD A WESTERN UNION TO ME IN KOSOVO SO HER STUPID LAWYER CAN NOT SAY HE DID NOT SUPPORT ME',\n",
       "       'We Miss you too! Thanks for always being so kind to me at The Amex, always enjoyed chatting with you. Be safe & Blessed. Don’t be a stranger! R~ 🤗',\n",
       "       \"*AmEx's New Centurion Lounge At LAX Is Its Biggest Yet* 'The lounge Includes a casual walk-up bar for cocktails, coffee bar & separate bar with high stools. Travelers will also find a quiet dining room and wellness area'\",\n",
       "       'American Express actually called ME this morning and remedied the matter. This is my card that the IRS deposited my $2,200 in stimulus money.... since I have job because I’m an adult. It’s all fixed! Karma strikes people who wish bad karma onto others. Good luck with that!',\n",
       "       'Good for you! All Americans shout get hot under the collar about this! By the way you used to work out with my hubby Shelly Spiegelman when he was at the AMEX.',\n",
       "       'Let me introduce you to GCBUYING They sell and all your gift card such as iTunes, Amazon, Sephora, steam, AMEX, OFFGAMERS, google play etc with GCBUYING. Now, the juicy part is that, They dash free airtime and money to their customers every weekend',\n",
       "       'I love , best damn credit card I ever applied for',\n",
       "       \"Hi thanks for reaching out. It's important that your concerns are addressed. To set up autopay on your online account, we first recommend logging into your account. From there, click this link: and follow the steps to set up autopay. Hope this helps.\",\n",
       "       'I love the Pats not picking anybody. If it were up to me I’d just accumulate picks forever. Exactly what I do with my Amex points. Makes me feel invincible',\n",
       "       \": The new coalition that was announced earlier this week courtesy of aims to support small businesses and we're happy to be a part of it. Check out their website to learn more about those involved:\",\n",
       "       'Postal Service collapse could devastate seniors, small businesses and rural areas Send them all AMEX Bluebid cards, free. No fees, deposit check to that card account for SSA recipients with no bank accounts.',\n",
       "       'Great, I am available to chat securely until 4pm ET. Please go to , log in and we will continue our conversation there. ^RK',\n",
       "       'Love getting to work with on such an important initiative!',\n",
       "       '\"SHOPPING\" TOP STORY American Express Launches ‘Stand for Small’ Coalition to Support U.S. Small Businesses | American Express , see more',\n",
       "       \"rockin the Sapphire Reserve. Love the 3x points on hotels, flights, 10x points on Lyft rides, and lounge access. And then I have an AMEX Gold for 4x points on groceries. That's it for now...thinking about the next move for a good bonus.\",\n",
       "       'Are you keeping your culinary skills sharp right now? Put your knowledge to the test for a chance to win prizes! Tell us your answer here for a chance to win a $25 gift card: .',\n",
       "       'A lot of QB accounts are cloud based these days. So yeah, they have an app. Probably overkill though. If you are an Amex card holder though the integration is pretty fantastic.',\n",
       "       'Also American Express points gets you gift cards to Gap, Old Navy, Banana Republic and Athleta. So over the years I’ve bought a lot of staples (and stocking stuffers and birthday gifts...they do good product placement of tchotchkes) at Gap and Old Navy for 3 kids for “free.”',\n",
       "       'If you own a business & are looking for a good card that has low interest, high spending limit & flexible loan/spending options. I recommend this: WE BOTH GET REWARDS IF YOUR APPROVED !! ',\n",
       "       'Amex Boosts UK Platinum Card Redemption Perk via',\n",
       "       'AmEx Promises $3 Billion in Cost Cuts, New Platinum Rewards Follow for News',\n",
       "       'customer service is awesome. take notes.',\n",
       "       \"We're highlighting Alexandra Lang today! Alexandra is the Global Director of Mobile Product Marketing and Strategy . She is a next-gen pioneer. Who do you nominate next?\",\n",
       "       'Due To The 2020 Novel Coronavirus [COVID-19] Pandemic, American Express and Captial One Are Letting Borrowers Pay Later',\n",
       "       '$AXP: Issued Press Release on April 21, 13:21:00: American Express Launches ‘Stand for Small’ Coalition to Support U.S. Small Businesses',\n",
       "       'Go to to find out more about free hotel accommodations for you if you’re on the front lines taking care of COVID patients.',\n",
       "       'Gotta love American Express. Agent just called to verify a $3800 purchase at Target in Flagstaff. Um nope not me Good looking out',\n",
       "       'has the best customer service of any company I’ve ever dealt with. I especially appreciate the military friendliness. Your company rocks and I’ll be loyal to you for the years to come',\n",
       "       'Having happy employees is critical to every business’s success. And these secrets to encouraging happiness in the workplace are key.',\n",
       "       'Here our overview of the top 100 digital banks. Congrats to all. Team',\n",
       "       'Here our overview of the top 30 digital banks. Congrats to all. Team',\n",
       "       'Hilton and American Express announced that they will donate up to 1 million hotel room nights across the United States to frontline medical professionals leading the fight against COVID-19.',\n",
       "       'I ordered a replacement AMEX yesterday afternoon & it’s already out for delivery.. that’s good service right there',\n",
       "       'I’d just like to say that is in a big way for us! Thank you from this',\n",
       "       'In your case, Amex points are like an annuity with guaranteed withdrawal benefits. You should thank them. You’re a terrible investor.',\n",
       "       'So excited to announce that I have been sent letters of intent for several separate pre-approved credit cards! American Express, Citi, and Discover are my top three. Thanks to all fans and coaches for helping me get this far 3:16',\n",
       "       \"American Express Launches 'Stand for Small' Coalition to Support Small Businesses️\",\n",
       "       'My favorite is yesterday with AMEX - “I just think it’s interesting how...” \\u200d️',\n",
       "       'Last chance to register for a on 4/21 to learn how American Express uses to power better decisions in :',\n",
       "       'program is great - proud to be part of the group of brands like',\n",
       "       'Thank you and for your generous contributions, and thank you for continuing to spread the word about snack donations! These unused office snacks are heading straight to our shelters to help us feed nearly 1000 people every day.',\n",
       "       'Marriott, Apple, Google, Facebook, Schein, CVS, Sentient Technologies, American Express, JPMorgan Chase — Finding Ways to Help – and Innovate!',\n",
       "       'They said money doesn’t buy you happiness but I can’t say I’ve ever been sad cashing in those AMEX points',\n",
       "       'This AMEX Rep Made Sure I Kept My Membership Rewards When I Called To Cancel A Card via',\n",
       "       'Just wanted to give another big shout out to companies who are giving their unused snacks away. Thank you and for your donation!',\n",
       "       'This is a very good switch. The AmEx/Delta combo is the best.',\n",
       "       \"American Express launches 'Stand for Small' coalition to support small businesses impacted by coronavirus - CNBC American Express launches 'Stand for Small' coalition to support small businesses impacted by coronavirus - CNBC\",\n",
       "       'Why I’m keeping my Amex Platinum even though I’m not traveling',\n",
       "       'We’re honored to receive five and be selected as a Bronze Honoree for our breakthrough creative work across social and digital with , and !',\n",
       "       'American Express Launches ‘Stand for Small’ Coalition to Support U.S. Small Businesses - New Digital Platform Brings Together More Than 40 Companies Across Multiple Industries to Provide Meaningful Support to Small Businesses During the Covid-19 Crisis ...',\n",
       "       'We’re proud to partner with American Express to support providing access to resources for small businesses. Exclusive Hertz Business Rewards benefits include 20% off cargo vans & trucks, free additional drivers and flexible leasing options:',\n",
       "       'What’s a test center? Do we have them in🇺🇸? Brighton have turned part of their Amex Stadium into a COVID-19 test centre. The drive-thru set up is able to carry out over 1,000 tests every single day. The site is the biggest Coronavirus testing set up in the South of \\U000e0067\\U000e0062\\U000e0065\\U000e006e\\U000e0067\\U000e007f',\n",
       "       'When it comes to work, you can help put anxious workers at ease by keeping them informed and up-to-date on the latest happenings that impact your workplace.',\n",
       "       'WWD - American Express Unveils ‘Stand for Small’ Coalition to Support U.S. Small Businesses',\n",
       "       'Your contactless American Express® Card or digital wallet can help you avoid touching surfaces when you need to check out. Contactless payments allow you to make quick and easy payments. .',\n",
       "       \"Gentlemen, please, let's be civil. I can vouch for 's bona-fide genius. True, he has had a few regretful moments, but who hasn't? I recall when we shot the pilot for , he did have a breakdown, but it was incredible comedy! I think he deserves a\",\n",
       "       'Seeing a bunch of higher bonus offers on Amex’s website right now. 45k for Green, 50k Gold, 75k Platinum. Varies depending on which browser I use, but pretty easy to get them to show up, even without incognito mode.',\n",
       "       \"their lounges and now I find out my uber credits didn't apply for 2 months because of their security breach changing my card number. Funny how you can still be charged through your old number but this doesn't work. Nobody told me that and who thinks about it?\",\n",
       "       \"they could have also dropped the interest rates on credit cards so places like and weren't gouging American citizens with their terrible rates during a pandemic.\",\n",
       "       'They should bring in AmEx to consult on salad oil storage.',\n",
       "       'Me: Looks at my amex bill and realizes I need to stop spending money cause I’m poor Me 5 minutes later: Opens Seamless and orders surf and turf from Del Friscos',\n",
       "       'American Antitrust Institute: It Is Time to Abandon Amex and Start Over on Two-Sided Markets (warning: highlights might be forthcoming as I am very jacked over this title)',\n",
       "       'AmEx quarterly profit plunges 76%',\n",
       "       \"This IS BS. YOU GUYS WON'T EVEN ANSWER THE PHONE AT SERVE! YOUR OWN PEOPLE SRE SCARED and HUNGRY and YOU HIDE BEHIND CLOSED DOORS AND UNANSWERED PHONE CALLS. TALK TO US! WHAT YOU ARE DOING IS CRIMINAL.\",\n",
       "       '$AXP AmEx quarterly profit plunges 76% on $1.7 billion reserve build',\n",
       "       'This is bullshit',\n",
       "       'This is true! In 2008 pulled $1m capital facility from me 2 weeks after Lehman collapse ...caused massive problems for . never used Amex since and take every chance to share how horrible they are. A great brand in terminal decline (no pun intended)',\n",
       "       'this might be a dumb question, but I am expecting some large refunds for services canceled due to covid-19 to a card that I use infrequently. Is it possible to have this paid out in cash instead of having a credit balance on my account?',\n",
       "       'Amex To Cut Spending By $3 Billion In 2020 via',\n",
       "       'This seems like a terrible purchase from the beginning.',\n",
       "       \"thousands of people need their money but yet you guys don't give two shits I hope someone brings a lawsuit against American Express and serve card I believe you guys are literally holding our money hostage\",\n",
       "       'Today’s Digital Transactions News: Blackhawk’s Rewards Ambitions; Covid-19’s Impact on Adyen; AmEx Launches ‘Stand for Small’ Group',\n",
       "       'Too bad you can’t transfer one nigga being hung up on you to a different one like paying off a visa w ya busted amex',\n",
       "       'Toyota , Allstate, AT&T, txu energy, t-mobile, Texas Apartment Association, Reliant Energy, Amex Express, Forever 21, Victoria Secret, All these companies say they want they money right now. Why don’t human life matter?',\n",
       "       'Unk schooled ain’t even gotta tell em punch the last foe .. kan show you what to do w this Amex & disco',\n",
       "       '$AXP: Issued Press Release on April 24, 07:00:00: American Express Reports First-Quarter Revenue of $10.3 Billion and Earnings Per Share of $0.41',\n",
       "       'AmEx to cut spending by $3 billion to survive virus-hit economy',\n",
       "       'so my account had fraud over a week ago and I still am not able to log into my account to get it resolved or access funds.',\n",
       "       \"super cool of you guys to lower people's spending limits during this. super super cool.\",\n",
       "       'While companies including Chase, Bank of America and even Citi are providing easy online requests for deferred credit card payments, is busy decreasing credit limits. “Right Behind You”? To what, push us over the financial cliff?',\n",
       "       'American Express $AXP Releases Quarterly Earnings Results, Misses Expectations By $0.05 EPS',\n",
       "       'why are you guys locking accounts and not allowing people acces to there funds during a pandemic? My account had been locked due to fraud for a week and I still cannot access my money or reach anyone.',\n",
       "       'Market Snapshot: Dow futures pull back as investors await results from Verizon and AmEx',\n",
       "       'Why can’t I get ahold of a customer service rep at American Express Serve? There are $260 worth of fraudulent charges on my account and I have NO WAY to report it. They “aren’t taking calls at this time” - for the past 4 days.',\n",
       "       'yea you could say i’m a scammer...swiped my dads amex today and bought me and my slimes new fortnite skins for this travis show tonight',\n",
       "       'Yes, I had electronic transfer that was suppose to deposit cash into serve account. Unfortunately the transfer was declined and has caused the other bank account to lock. Now I need Amex documentation sent to bank unlock my account',\n",
       "       'You should check to make sure you completed the attestations correctly—there’s a bunch of questions at the end of the application and you might have hit the wrong box.',\n",
       "       '“American Express more than tripled its provision for credit losses and its chief executive said the coronavirus pandemic weighed on cardholder spending.”',\n",
       "       \"There's never a dull moment in Marketing 3104! Thank you so much to our latest Zoom speaker, Anne Love, Director of Marketing at and beloved member of our Marketing Advisory Board. Learn more about our wonderful board members at:\",\n",
       "       'I decided to stop by today, got to my boo, Also this guy. I ordered my drink, pulled out my Amex and the the barkeep, Victoria Valez, ex cop and all around racist, pulled out a knife and demanded I take off my shoes and fight her. New policy?'],\n",
       "      dtype='<U279')"
      ]
     },
     "execution_count": 46,
     "metadata": {},
     "output_type": "execute_result"
    }
   ],
   "source": [
    "X_test"
   ]
  },
  {
   "cell_type": "code",
   "execution_count": null,
   "metadata": {},
   "outputs": [],
   "source": [
    "#code below is to score a new sample sentence"
   ]
  },
  {
   "cell_type": "code",
   "execution_count": 50,
   "metadata": {},
   "outputs": [],
   "source": [
    "max_test=np.array(['i like amex'])\n",
    "Y_test_max = np.array([1])"
   ]
  },
  {
   "cell_type": "code",
   "execution_count": 51,
   "metadata": {},
   "outputs": [
    {
     "name": "stdout",
     "output_type": "stream",
     "text": [
      "i like amex\n",
      "['i', 'like', 'amex']\n"
     ]
    }
   ],
   "source": [
    "X_test_indices2 = sentences_to_indices(max_test, words_to_index, max_len = maxlen)\n",
    "tensor_x_ = torch.LongTensor(X_test_indices2).to(device)\n",
    "tensor_y_ = torch.LongTensor(Y_test_max).to(device)\n",
    "my_dataset_ = TensorDataset(tensor_x_,tensor_y_)\n",
    "test_dataloader_max = DataLoader(my_dataset_, batch_size=32, shuffle=True)"
   ]
  },
  {
   "cell_type": "code",
   "execution_count": 49,
   "metadata": {},
   "outputs": [
    {
     "data": {
      "text/plain": [
       "array([1, 1, 1, 1, 1, 1, 1, 1, 1, 1, 1, 1, 1, 1, 1, 1, 1, 1, 1, 1, 1, 1,\n",
       "       1, 1, 1, 1, 1, 1, 1, 1, 1, 1, 1, 1, 1, 1, 1, 1, 1, 1, 1, 1, 1, 1,\n",
       "       1, 1, 1, 1, 1, 1, 1, 1, 1, 1, 1, 1, 1, 1, 1, 1, 1, 1, 1, 1, 1, 1,\n",
       "       1, 1, 1, 1, 1, 1, 1, 1, 1, 1, 1, 1, 1, 1, 1, 1, 1, 1, 1, 1, 1, 1,\n",
       "       1, 1, 1, 1, 1, 1, 1, 1, 1, 1, 1, 1, 1, 1, 1, 1, 1, 1, 1, 1, 1, 0,\n",
       "       0, 0, 0, 0, 0, 0, 0, 0, 0, 0, 0, 0, 0, 0, 0, 0, 0, 0, 0, 0, 0, 0,\n",
       "       0, 0, 0, 0, 0, 0, 0, 0, 0, 0])"
      ]
     },
     "execution_count": 49,
     "metadata": {},
     "output_type": "execute_result"
    }
   ],
   "source": [
    "Y_test"
   ]
  },
  {
   "cell_type": "code",
   "execution_count": 53,
   "metadata": {},
   "outputs": [
    {
     "name": "stdout",
     "output_type": "stream",
     "text": [
      "tensor([[-1.3670,  0.9496]], dtype=torch.float64)\n",
      "pred is:  tensor([1])\n"
     ]
    },
    {
     "data": {
      "text/plain": [
       "1.0"
      ]
     },
     "execution_count": 53,
     "metadata": {},
     "output_type": "execute_result"
    }
   ],
   "source": [
    "evaluate(model, test_dataloader_max, criterion)"
   ]
  },
  {
   "cell_type": "code",
   "execution_count": null,
   "metadata": {},
   "outputs": [],
   "source": []
  }
 ],
 "metadata": {
  "colab": {
   "collapsed_sections": [],
   "provenance": [],
   "toc_visible": true
  },
  "kernelspec": {
   "display_name": "Python 3 (ipykernel)",
   "language": "python",
   "name": "python3"
  },
  "language_info": {
   "codemirror_mode": {
    "name": "ipython",
    "version": 3
   },
   "file_extension": ".py",
   "mimetype": "text/x-python",
   "name": "python",
   "nbconvert_exporter": "python",
   "pygments_lexer": "ipython3",
   "version": "3.9.12"
  }
 },
 "nbformat": 4,
 "nbformat_minor": 1
}
